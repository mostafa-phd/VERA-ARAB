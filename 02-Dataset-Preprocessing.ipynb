{
 "cells": [
  {
   "cell_type": "code",
   "execution_count": 1,
   "id": "551eabe5-1c8b-4195-ab18-b26a5b56e4c4",
   "metadata": {},
   "outputs": [],
   "source": [
    "import pandas as pd\n",
    "%matplotlib inline\n",
    "import matplotlib as mpl\n",
    "import matplotlib.pyplot as plt\n",
    "import numpy as np\n",
    "import ast\n",
    "from collections import Counter\n",
    "import re\n",
    "import demoji\n",
    "import requests"
   ]
  },
  {
   "cell_type": "code",
   "execution_count": 2,
   "id": "5bc9ed22-6eea-4785-9696-0cfcc966eca6",
   "metadata": {},
   "outputs": [],
   "source": [
    "pd.set_option('display.max_rows', None)\n",
    "pd.set_option('display.max_colwidth', None)"
   ]
  },
  {
   "cell_type": "markdown",
   "id": "8055871f-15a6-4976-9086-3e7ad033f7a0",
   "metadata": {},
   "source": [
    "# Loading Dataset File"
   ]
  },
  {
   "cell_type": "code",
   "execution_count": 3,
   "id": "e0904e60-ccf5-4481-a45f-adbe50d834b4",
   "metadata": {},
   "outputs": [],
   "source": [
    "df = pd.read_excel('data/04-VERA-ARB_Raw-dataset.xlsx')"
   ]
  },
  {
   "cell_type": "code",
   "execution_count": 4,
   "id": "e4690258-e663-4286-b5b2-a4721eee562f",
   "metadata": {},
   "outputs": [
    {
     "data": {
      "text/html": [
       "<div>\n",
       "<style scoped>\n",
       "    .dataframe tbody tr th:only-of-type {\n",
       "        vertical-align: middle;\n",
       "    }\n",
       "\n",
       "    .dataframe tbody tr th {\n",
       "        vertical-align: top;\n",
       "    }\n",
       "\n",
       "    .dataframe thead th {\n",
       "        text-align: right;\n",
       "    }\n",
       "</style>\n",
       "<table border=\"1\" class=\"dataframe\">\n",
       "  <thead>\n",
       "    <tr style=\"text-align: right;\">\n",
       "      <th></th>\n",
       "      <th>tweet_id</th>\n",
       "      <th>possibly_sensitive</th>\n",
       "      <th>retweet_count</th>\n",
       "      <th>reply_count</th>\n",
       "      <th>like_count</th>\n",
       "      <th>quote_count</th>\n",
       "      <th>bookmark_count</th>\n",
       "      <th>impression_count</th>\n",
       "      <th>user_id</th>\n",
       "      <th>lang</th>\n",
       "      <th>...</th>\n",
       "      <th>protected</th>\n",
       "      <th>followers_count</th>\n",
       "      <th>following_count</th>\n",
       "      <th>tweet_count</th>\n",
       "      <th>listed_count</th>\n",
       "      <th>user_like_count</th>\n",
       "      <th>user_url</th>\n",
       "      <th>verified</th>\n",
       "      <th>user_copyright</th>\n",
       "      <th>user_withheld_country_codes</th>\n",
       "    </tr>\n",
       "  </thead>\n",
       "  <tbody>\n",
       "    <tr>\n",
       "      <th>0</th>\n",
       "      <td>1697950090223026335</td>\n",
       "      <td>True</td>\n",
       "      <td>1</td>\n",
       "      <td>2</td>\n",
       "      <td>5</td>\n",
       "      <td>0</td>\n",
       "      <td>1</td>\n",
       "      <td>2105</td>\n",
       "      <td>1688239842239385600</td>\n",
       "      <td>ar</td>\n",
       "      <td>...</td>\n",
       "      <td>False</td>\n",
       "      <td>5</td>\n",
       "      <td>26</td>\n",
       "      <td>181</td>\n",
       "      <td>0</td>\n",
       "      <td>140</td>\n",
       "      <td>https://www.facebook.com/profile.php?id=100087982050310&amp;mibextid=ZbWKwL</td>\n",
       "      <td>False</td>\n",
       "      <td>NaN</td>\n",
       "      <td>[]</td>\n",
       "    </tr>\n",
       "    <tr>\n",
       "      <th>1</th>\n",
       "      <td>1697935446666510767</td>\n",
       "      <td>False</td>\n",
       "      <td>14</td>\n",
       "      <td>21</td>\n",
       "      <td>342</td>\n",
       "      <td>1</td>\n",
       "      <td>3</td>\n",
       "      <td>9203</td>\n",
       "      <td>492235460</td>\n",
       "      <td>ar</td>\n",
       "      <td>...</td>\n",
       "      <td>False</td>\n",
       "      <td>588292</td>\n",
       "      <td>486</td>\n",
       "      <td>43946</td>\n",
       "      <td>121</td>\n",
       "      <td>44406</td>\n",
       "      <td>NaN</td>\n",
       "      <td>False</td>\n",
       "      <td>NaN</td>\n",
       "      <td>[]</td>\n",
       "    </tr>\n",
       "    <tr>\n",
       "      <th>2</th>\n",
       "      <td>1620816468328972288</td>\n",
       "      <td>False</td>\n",
       "      <td>32</td>\n",
       "      <td>148</td>\n",
       "      <td>390</td>\n",
       "      <td>4</td>\n",
       "      <td>2</td>\n",
       "      <td>30203</td>\n",
       "      <td>492235460</td>\n",
       "      <td>ar</td>\n",
       "      <td>...</td>\n",
       "      <td>False</td>\n",
       "      <td>588292</td>\n",
       "      <td>486</td>\n",
       "      <td>43946</td>\n",
       "      <td>121</td>\n",
       "      <td>44406</td>\n",
       "      <td>NaN</td>\n",
       "      <td>False</td>\n",
       "      <td>NaN</td>\n",
       "      <td>[]</td>\n",
       "    </tr>\n",
       "    <tr>\n",
       "      <th>3</th>\n",
       "      <td>1575998679198367744</td>\n",
       "      <td>False</td>\n",
       "      <td>2</td>\n",
       "      <td>3</td>\n",
       "      <td>249</td>\n",
       "      <td>2</td>\n",
       "      <td>0</td>\n",
       "      <td>0</td>\n",
       "      <td>492235460</td>\n",
       "      <td>ar</td>\n",
       "      <td>...</td>\n",
       "      <td>False</td>\n",
       "      <td>588292</td>\n",
       "      <td>486</td>\n",
       "      <td>43946</td>\n",
       "      <td>121</td>\n",
       "      <td>44406</td>\n",
       "      <td>NaN</td>\n",
       "      <td>False</td>\n",
       "      <td>NaN</td>\n",
       "      <td>[]</td>\n",
       "    </tr>\n",
       "    <tr>\n",
       "      <th>4</th>\n",
       "      <td>1697673466311262549</td>\n",
       "      <td>False</td>\n",
       "      <td>2</td>\n",
       "      <td>46</td>\n",
       "      <td>151</td>\n",
       "      <td>3</td>\n",
       "      <td>12</td>\n",
       "      <td>165156</td>\n",
       "      <td>1566066774583435265</td>\n",
       "      <td>ar</td>\n",
       "      <td>...</td>\n",
       "      <td>False</td>\n",
       "      <td>89128</td>\n",
       "      <td>1138</td>\n",
       "      <td>60603</td>\n",
       "      <td>275</td>\n",
       "      <td>8069</td>\n",
       "      <td>NaN</td>\n",
       "      <td>False</td>\n",
       "      <td>NaN</td>\n",
       "      <td>[]</td>\n",
       "    </tr>\n",
       "  </tbody>\n",
       "</table>\n",
       "<p>5 rows × 54 columns</p>\n",
       "</div>"
      ],
      "text/plain": [
       "              tweet_id  possibly_sensitive  retweet_count  reply_count  \\\n",
       "0  1697950090223026335                True              1            2   \n",
       "1  1697935446666510767               False             14           21   \n",
       "2  1620816468328972288               False             32          148   \n",
       "3  1575998679198367744               False              2            3   \n",
       "4  1697673466311262549               False              2           46   \n",
       "\n",
       "   like_count  quote_count  bookmark_count  impression_count  \\\n",
       "0           5            0               1              2105   \n",
       "1         342            1               3              9203   \n",
       "2         390            4               2             30203   \n",
       "3         249            2               0                 0   \n",
       "4         151            3              12            165156   \n",
       "\n",
       "               user_id lang  ... protected followers_count following_count  \\\n",
       "0  1688239842239385600   ar  ...     False               5              26   \n",
       "1            492235460   ar  ...     False          588292             486   \n",
       "2            492235460   ar  ...     False          588292             486   \n",
       "3            492235460   ar  ...     False          588292             486   \n",
       "4  1566066774583435265   ar  ...     False           89128            1138   \n",
       "\n",
       "  tweet_count listed_count user_like_count  \\\n",
       "0         181            0             140   \n",
       "1       43946          121           44406   \n",
       "2       43946          121           44406   \n",
       "3       43946          121           44406   \n",
       "4       60603          275            8069   \n",
       "\n",
       "                                                                  user_url  \\\n",
       "0  https://www.facebook.com/profile.php?id=100087982050310&mibextid=ZbWKwL   \n",
       "1                                                                      NaN   \n",
       "2                                                                      NaN   \n",
       "3                                                                      NaN   \n",
       "4                                                                      NaN   \n",
       "\n",
       "  verified user_copyright user_withheld_country_codes  \n",
       "0    False            NaN                          []  \n",
       "1    False            NaN                          []  \n",
       "2    False            NaN                          []  \n",
       "3    False            NaN                          []  \n",
       "4    False            NaN                          []  \n",
       "\n",
       "[5 rows x 54 columns]"
      ]
     },
     "execution_count": 4,
     "metadata": {},
     "output_type": "execute_result"
    }
   ],
   "source": [
    "df.head()"
   ]
  },
  {
   "cell_type": "code",
   "execution_count": 5,
   "id": "83847c2e-fa0d-4ea2-a123-ab866d223e7c",
   "metadata": {},
   "outputs": [
    {
     "data": {
      "text/plain": [
       "(20084, 54)"
      ]
     },
     "execution_count": 5,
     "metadata": {},
     "output_type": "execute_result"
    }
   ],
   "source": [
    "df.shape"
   ]
  },
  {
   "cell_type": "code",
   "execution_count": 6,
   "id": "b56fa88a-bf06-41f7-883b-cbfe99817561",
   "metadata": {},
   "outputs": [
    {
     "data": {
      "text/plain": [
       "Index(['tweet_id', 'possibly_sensitive', 'retweet_count', 'reply_count',\n",
       "       'like_count', 'quote_count', 'bookmark_count', 'impression_count',\n",
       "       'user_id', 'lang', 'annotations_text', 'annotations_type', 'cashtags',\n",
       "       'hashtags', 'mentions', 'urls', 'urls_titles', 'urls_desc',\n",
       "       'context_domain', 'context_domain_desc', 'context_entity',\n",
       "       'context_entity_desc', 'copyright', 'withheld_country_codes',\n",
       "       'created_at', 'edits_remaining', 'is_edit_eligible', 'conversation_id',\n",
       "       'text', 'reply_settings', 'claim', 'label', 'binary_label',\n",
       "       'user_created_at', 'user_description', 'user_description_urls',\n",
       "       'user_description_hashtags', 'user_description_mentions',\n",
       "       'user_description_cashtags', 'location', 'display_name', 'user_name',\n",
       "       'pinned_tweet_id', 'profile_image_url', 'protected', 'followers_count',\n",
       "       'following_count', 'tweet_count', 'listed_count', 'user_like_count',\n",
       "       'user_url', 'verified', 'user_copyright',\n",
       "       'user_withheld_country_codes'],\n",
       "      dtype='object')"
      ]
     },
     "execution_count": 6,
     "metadata": {},
     "output_type": "execute_result"
    }
   ],
   "source": [
    "df.columns"
   ]
  },
  {
   "cell_type": "markdown",
   "id": "71b08b2e-8990-4661-916b-19b1e814b246",
   "metadata": {},
   "source": [
    "# Dataset Cleaning"
   ]
  },
  {
   "cell_type": "code",
   "execution_count": 7,
   "id": "2059ff8a-b539-43e4-8963-6fefeb5ebfb4",
   "metadata": {},
   "outputs": [
    {
     "data": {
      "text/plain": [
       "tweet_id                           0\n",
       "possibly_sensitive                 0\n",
       "retweet_count                      0\n",
       "reply_count                        0\n",
       "like_count                         0\n",
       "quote_count                        0\n",
       "bookmark_count                     0\n",
       "impression_count                   0\n",
       "user_id                            0\n",
       "lang                               0\n",
       "annotations_text                   0\n",
       "annotations_type                   0\n",
       "cashtags                           0\n",
       "hashtags                           0\n",
       "mentions                           0\n",
       "urls                               0\n",
       "urls_titles                        0\n",
       "urls_desc                          0\n",
       "context_domain                     0\n",
       "context_domain_desc                0\n",
       "context_entity                     0\n",
       "context_entity_desc                0\n",
       "copyright                      20021\n",
       "withheld_country_codes             0\n",
       "created_at                         0\n",
       "edits_remaining                    0\n",
       "is_edit_eligible                   0\n",
       "conversation_id                    0\n",
       "text                               0\n",
       "reply_settings                     0\n",
       "claim                              0\n",
       "label                              0\n",
       "binary_label                       0\n",
       "user_created_at                    0\n",
       "user_description                2221\n",
       "user_description_urls              0\n",
       "user_description_hashtags          0\n",
       "user_description_mentions          0\n",
       "user_description_cashtags          0\n",
       "location                        7400\n",
       "display_name                       0\n",
       "user_name                          0\n",
       "pinned_tweet_id                 9419\n",
       "profile_image_url                  0\n",
       "protected                          0\n",
       "followers_count                    0\n",
       "following_count                    0\n",
       "tweet_count                        0\n",
       "listed_count                       0\n",
       "user_like_count                    0\n",
       "user_url                        5443\n",
       "verified                           0\n",
       "user_copyright                 20084\n",
       "user_withheld_country_codes        0\n",
       "dtype: int64"
      ]
     },
     "execution_count": 7,
     "metadata": {},
     "output_type": "execute_result"
    }
   ],
   "source": [
    "df.isnull().sum()"
   ]
  },
  {
   "cell_type": "markdown",
   "id": "b976fc66-dc69-4af2-9e1a-44bcd0497181",
   "metadata": {},
   "source": [
    "## Reset claim ids to start with 1 and to be in sequence"
   ]
  },
  {
   "cell_type": "code",
   "execution_count": 8,
   "id": "b53ec28b-b5ae-4e91-abba-f9140810cf8e",
   "metadata": {},
   "outputs": [],
   "source": [
    "df['claim_id'] = df['claim'].rank(method='dense').astype(int) - 1\n",
    "df['claim_id'] += 1"
   ]
  },
  {
   "cell_type": "code",
   "execution_count": 9,
   "id": "f984fd3f-bcc5-49b6-8900-cad1f916f9aa",
   "metadata": {},
   "outputs": [
    {
     "data": {
      "text/html": [
       "<div>\n",
       "<style scoped>\n",
       "    .dataframe tbody tr th:only-of-type {\n",
       "        vertical-align: middle;\n",
       "    }\n",
       "\n",
       "    .dataframe tbody tr th {\n",
       "        vertical-align: top;\n",
       "    }\n",
       "\n",
       "    .dataframe thead th {\n",
       "        text-align: right;\n",
       "    }\n",
       "</style>\n",
       "<table border=\"1\" class=\"dataframe\">\n",
       "  <thead>\n",
       "    <tr style=\"text-align: right;\">\n",
       "      <th></th>\n",
       "      <th>claim_id</th>\n",
       "      <th>claim</th>\n",
       "    </tr>\n",
       "  </thead>\n",
       "  <tbody>\n",
       "    <tr>\n",
       "      <th>0</th>\n",
       "      <td>1</td>\n",
       "      <td>0</td>\n",
       "    </tr>\n",
       "    <tr>\n",
       "      <th>1</th>\n",
       "      <td>2</td>\n",
       "      <td>1</td>\n",
       "    </tr>\n",
       "    <tr>\n",
       "      <th>2</th>\n",
       "      <td>517</td>\n",
       "      <td>595</td>\n",
       "    </tr>\n",
       "    <tr>\n",
       "      <th>3</th>\n",
       "      <td>758</td>\n",
       "      <td>975</td>\n",
       "    </tr>\n",
       "    <tr>\n",
       "      <th>4</th>\n",
       "      <td>3</td>\n",
       "      <td>2</td>\n",
       "    </tr>\n",
       "    <tr>\n",
       "      <th>5</th>\n",
       "      <td>323</td>\n",
       "      <td>362</td>\n",
       "    </tr>\n",
       "    <tr>\n",
       "      <th>6</th>\n",
       "      <td>599</td>\n",
       "      <td>718</td>\n",
       "    </tr>\n",
       "    <tr>\n",
       "      <th>7</th>\n",
       "      <td>625</td>\n",
       "      <td>755</td>\n",
       "    </tr>\n",
       "    <tr>\n",
       "      <th>8</th>\n",
       "      <td>631</td>\n",
       "      <td>763</td>\n",
       "    </tr>\n",
       "    <tr>\n",
       "      <th>9</th>\n",
       "      <td>673</td>\n",
       "      <td>839</td>\n",
       "    </tr>\n",
       "  </tbody>\n",
       "</table>\n",
       "</div>"
      ],
      "text/plain": [
       "   claim_id  claim\n",
       "0         1      0\n",
       "1         2      1\n",
       "2       517    595\n",
       "3       758    975\n",
       "4         3      2\n",
       "5       323    362\n",
       "6       599    718\n",
       "7       625    755\n",
       "8       631    763\n",
       "9       673    839"
      ]
     },
     "execution_count": 9,
     "metadata": {},
     "output_type": "execute_result"
    }
   ],
   "source": [
    "df[['claim_id', 'claim']].head(10)"
   ]
  },
  {
   "cell_type": "code",
   "execution_count": 10,
   "id": "55b6c6b2-b0aa-4d49-98d5-610a12ce7d3f",
   "metadata": {},
   "outputs": [],
   "source": [
    "df.drop(['cashtags', 'conversation_id', 'claim', 'user_description_cashtags', 'display_name', 'user_name',\n",
    "         'pinned_tweet_id', 'profile_image_url', 'user_url', 'user_copyright', 'user_withheld_country_codes',\n",
    "         'label'], axis=1, inplace=True)"
   ]
  },
  {
   "cell_type": "code",
   "execution_count": 11,
   "id": "47458c9f-9270-4c2f-9637-1819c35c90e2",
   "metadata": {},
   "outputs": [],
   "source": [
    "df = df.rename(columns={'binary_label': 'label'})"
   ]
  },
  {
   "cell_type": "code",
   "execution_count": 12,
   "id": "8489357a-fef4-4af8-b757-27b4ee2a079c",
   "metadata": {},
   "outputs": [],
   "source": [
    "df['copyright'] = df['copyright'].astype(bool)"
   ]
  },
  {
   "cell_type": "code",
   "execution_count": 13,
   "id": "38e3ddb8-ac31-418b-9233-c93e88a56aad",
   "metadata": {},
   "outputs": [
    {
     "name": "stdout",
     "output_type": "stream",
     "text": [
      "<class 'pandas.core.frame.DataFrame'>\n",
      "RangeIndex: 20084 entries, 0 to 20083\n",
      "Data columns (total 43 columns):\n",
      " #   Column                     Non-Null Count  Dtype \n",
      "---  ------                     --------------  ----- \n",
      " 0   tweet_id                   20084 non-null  int64 \n",
      " 1   possibly_sensitive         20084 non-null  bool  \n",
      " 2   retweet_count              20084 non-null  int64 \n",
      " 3   reply_count                20084 non-null  int64 \n",
      " 4   like_count                 20084 non-null  int64 \n",
      " 5   quote_count                20084 non-null  int64 \n",
      " 6   bookmark_count             20084 non-null  int64 \n",
      " 7   impression_count           20084 non-null  int64 \n",
      " 8   user_id                    20084 non-null  int64 \n",
      " 9   lang                       20084 non-null  object\n",
      " 10  annotations_text           20084 non-null  object\n",
      " 11  annotations_type           20084 non-null  object\n",
      " 12  hashtags                   20084 non-null  object\n",
      " 13  mentions                   20084 non-null  object\n",
      " 14  urls                       20084 non-null  object\n",
      " 15  urls_titles                20084 non-null  object\n",
      " 16  urls_desc                  20084 non-null  object\n",
      " 17  context_domain             20084 non-null  object\n",
      " 18  context_domain_desc        20084 non-null  object\n",
      " 19  context_entity             20084 non-null  object\n",
      " 20  context_entity_desc        20084 non-null  object\n",
      " 21  copyright                  20084 non-null  bool  \n",
      " 22  withheld_country_codes     20084 non-null  object\n",
      " 23  created_at                 20084 non-null  object\n",
      " 24  edits_remaining            20084 non-null  int64 \n",
      " 25  is_edit_eligible           20084 non-null  bool  \n",
      " 26  text                       20084 non-null  object\n",
      " 27  reply_settings             20084 non-null  object\n",
      " 28  label                      20084 non-null  int64 \n",
      " 29  user_created_at            20084 non-null  object\n",
      " 30  user_description           17863 non-null  object\n",
      " 31  user_description_urls      20084 non-null  object\n",
      " 32  user_description_hashtags  20084 non-null  object\n",
      " 33  user_description_mentions  20084 non-null  object\n",
      " 34  location                   12684 non-null  object\n",
      " 35  protected                  20084 non-null  bool  \n",
      " 36  followers_count            20084 non-null  int64 \n",
      " 37  following_count            20084 non-null  int64 \n",
      " 38  tweet_count                20084 non-null  int64 \n",
      " 39  listed_count               20084 non-null  int64 \n",
      " 40  user_like_count            20084 non-null  int64 \n",
      " 41  verified                   20084 non-null  bool  \n",
      " 42  claim_id                   20084 non-null  int32 \n",
      "dtypes: bool(5), int32(1), int64(15), object(22)\n",
      "memory usage: 5.8+ MB\n"
     ]
    }
   ],
   "source": [
    "df.info()"
   ]
  },
  {
   "cell_type": "markdown",
   "id": "37b92e1e-bec0-4b95-ad4b-8f431494ed04",
   "metadata": {},
   "source": [
    "# 1- Textual Features"
   ]
  },
  {
   "cell_type": "markdown",
   "id": "0930d57a-cc20-46d5-9678-ea86e4640b46",
   "metadata": {},
   "source": [
    "## Text cleaning"
   ]
  },
  {
   "cell_type": "code",
   "execution_count": 14,
   "id": "6624c0e7-0ccd-424c-8e68-2849000bcf4a",
   "metadata": {},
   "outputs": [],
   "source": [
    "# Function to filter non-Arabic letters and emojis from a string\n",
    "def filter_text(text):\n",
    "    try:\n",
    "        # Remove URLs starting with 'http'\n",
    "        text = re.sub(r'http\\S+', '', text)\n",
    "        # Remove hashtags starting with '#'\n",
    "        #text = re.sub(r'#\\w+', '', text)\n",
    "        text = text.replace('_', ' ').replace('\\n', ' ')\n",
    "        arabic_pattern = '[\\u0600-\\u06FF0-9\\s\\:\\.]+'\n",
    "        arabic_text = re.findall(arabic_pattern, text)\n",
    "        return ''.join(arabic_text)\n",
    "    except:\n",
    "        return ''"
   ]
  },
  {
   "cell_type": "code",
   "execution_count": 15,
   "id": "9e45efb6-a152-437c-aea2-0d3b6891f97d",
   "metadata": {},
   "outputs": [
    {
     "data": {
      "text/plain": [
       "'بعد إعلان امريكا إغتياله ،،  أيمن الظواهري يظهر في إصدار مرئي لتنظيم القاعدة اليوم بعنوان  دعوة الإمام إلى الامة الإسلامية. '"
      ]
     },
     "execution_count": 15,
     "metadata": {},
     "output_type": "execute_result"
    }
   ],
   "source": [
    "filter_text('بعد إعلان امريكا إغتياله ،،\\n\\nأيمن الظواهري يظهر في إصدار مرئي لتنظيم القاعدة اليوم بعنوان \" دعوة الإمام إلى الامة الإسلامية\". https://t.co/ejSBFOFURY')"
   ]
  },
  {
   "cell_type": "code",
   "execution_count": 16,
   "id": "ade36693-85f6-431b-82c1-1df19fc13cdf",
   "metadata": {},
   "outputs": [],
   "source": [
    "# Create a new column 'filtered_text' with filtered text\n",
    "df['text_arabic'] = df['text'].apply(filter_text)"
   ]
  },
  {
   "cell_type": "code",
   "execution_count": 17,
   "id": "c742211c-76fe-4aed-bb6b-e6413098d59f",
   "metadata": {},
   "outputs": [
    {
     "data": {
      "text/html": [
       "<div>\n",
       "<style scoped>\n",
       "    .dataframe tbody tr th:only-of-type {\n",
       "        vertical-align: middle;\n",
       "    }\n",
       "\n",
       "    .dataframe tbody tr th {\n",
       "        vertical-align: top;\n",
       "    }\n",
       "\n",
       "    .dataframe thead th {\n",
       "        text-align: right;\n",
       "    }\n",
       "</style>\n",
       "<table border=\"1\" class=\"dataframe\">\n",
       "  <thead>\n",
       "    <tr style=\"text-align: right;\">\n",
       "      <th></th>\n",
       "      <th>text</th>\n",
       "      <th>text_arabic</th>\n",
       "    </tr>\n",
       "  </thead>\n",
       "  <tbody>\n",
       "    <tr>\n",
       "      <th>4619</th>\n",
       "      <td>قناص فرنسي ع السطح 🤔أنها حرب اهليه هكذا ف فرنسا 🔥 https://t.co/IkfGIoFNd4</td>\n",
       "      <td>قناص فرنسي ع السطح أنها حرب اهليه هكذا ف فرنسا</td>\n",
       "    </tr>\n",
       "    <tr>\n",
       "      <th>503</th>\n",
       "      <td>#مصر ترسل معدات وطواقم هندسية عبر معبر رفح البري، لإزالة ركام المنازل المهدمة في #غزة نتيجة القصف الإسرائيلي، تمهيداً لبدء عملية إعمار القطاع. https://t.co/K9uBNyPHap</td>\n",
       "      <td>مصر ترسل معدات وطواقم هندسية عبر معبر رفح البري، لإزالة ركام المنازل المهدمة في غزة نتيجة القصف الإسرائيلي، تمهيداً لبدء عملية إعمار القطاع.</td>\n",
       "    </tr>\n",
       "    <tr>\n",
       "      <th>5835</th>\n",
       "      <td>الف الحمد لله والشكر لله .. طائرة حجاج اندونيسيه تسقط اليوم في ايران وكافة ركابها بخير https://t.co/754XimukUh</td>\n",
       "      <td>الف الحمد لله والشكر لله .. طائرة حجاج اندونيسيه تسقط اليوم في ايران وكافة ركابها بخير</td>\n",
       "    </tr>\n",
       "    <tr>\n",
       "      <th>3568</th>\n",
       "      <td>رسميا .. #الاهلي السعودي يتعاقد مع الجزائي رياض محرز حتى 2027 مقابل 30 مليون باوند https://t.co/ev7Fq6bNyQ</td>\n",
       "      <td>رسميا .. الاهلي السعودي يتعاقد مع الجزائي رياض محرز حتى 2027 مقابل 30 مليون باوند</td>\n",
       "    </tr>\n",
       "    <tr>\n",
       "      <th>11859</th>\n",
       "      <td>🚨 M.E.N \\n\\nتين هاغ قرر استبعاد كريستيانو رونالدو من قائمة الفريق لمباراة مانشستر يونايتد ضد تشيلسي. https://t.co/pDxI6L83OP</td>\n",
       "      <td>..   تين هاغ قرر استبعاد كريستيانو رونالدو من قائمة الفريق لمباراة مانشستر يونايتد ضد تشيلسي.</td>\n",
       "    </tr>\n",
       "    <tr>\n",
       "      <th>9826</th>\n",
       "      <td>#عاجل | \\n\\nقيادة القوات المشتركة للتحالف \"تحالف دعم الشرعية في اليمن\":\\n\\n▪ القوات الخاصة السعودية تلقي القبض على أمير تنظيم داعش الإرهابي باليمن، الملقب بـ ( أبو أسامة المهاجر ) والمسؤول المالي للتنظيم وعدد من أعضاء التنظيم المرافقين له. https://t.co/u6zVBIQt3L</td>\n",
       "      <td>عاجل    قيادة القوات المشتركة للتحالف تحالف دعم الشرعية في اليمن:   القوات الخاصة السعودية تلقي القبض على أمير تنظيم داعش الإرهابي باليمن، الملقب بـ  أبو أسامة المهاجر  والمسؤول المالي للتنظيم وعدد من أعضاء التنظيم المرافقين له.</td>\n",
       "    </tr>\n",
       "    <tr>\n",
       "      <th>1815</th>\n",
       "      <td>مو صلاح باقي ويتمدد ❤️‍🔥👑 https://t.co/NMtbDu6GgC</td>\n",
       "      <td>مو صلاح باقي ويتمدد</td>\n",
       "    </tr>\n",
       "    <tr>\n",
       "      <th>18886</th>\n",
       "      <td>🔻 عاجل\\n\\nضبط أكبر شحنة مخـــ،،ــــدرات على مستوى الشرق الاوسط في محافظة الانبار. ليش ايraن تدزين مخدرات للانبار لانك تحدين الانبار من الغرب\\n\\nhttps://t.co/MlWPpLPp06 https://t.co/1qK009fdQe</td>\n",
       "      <td>عاجل  ضبط أكبر شحنة مخـــ،،ــــدرات على مستوى الشرق الاوسط في محافظة الانبار. ليش اين تدزين مخدرات للانبار لانك تحدين الانبار من الغرب</td>\n",
       "    </tr>\n",
       "    <tr>\n",
       "      <th>14934</th>\n",
       "      <td>صفعة من أمير قطر  إلى منتخب_الشواذ أمير قطر الشيخ تميم بن حمد واللاعب التركي مسعود أوزيل يُرسلوا لكم السلام 🇶🇦😉🇹🇷 https://t.co/EH5NgZOjFI</td>\n",
       "      <td>صفعة من أمير قطر  إلى منتخب الشواذ أمير قطر الشيخ تميم بن حمد واللاعب التركي مسعود أوزيل يُرسلوا لكم السلام</td>\n",
       "    </tr>\n",
       "    <tr>\n",
       "      <th>7861</th>\n",
       "      <td>من ٥ ايام حصلت جريمة في صربيا \\nطفل عمره ١٤ سنة كان بيتعرض للتنمر من ٧ بنات و ولد زمايله في المدرسة وقعد يهددهم بالقتل \\nزمايله دول زادوا من التنمر وبقوا يعملوا صوت كده ( بيو بيو ) تريقة يعني انو هيضربهم بالنار\\nراح جاب مسدس فعلا وقتل ال ٨ وسلم نفسه للشرطة ... https://t.co/DOCXZ6NowV</td>\n",
       "      <td>من ٥ ايام حصلت جريمة في صربيا  طفل عمره ١٤ سنة كان بيتعرض للتنمر من ٧ بنات و ولد زمايله في المدرسة وقعد يهددهم بالقتل  زمايله دول زادوا من التنمر وبقوا يعملوا صوت كده  بيو بيو  تريقة يعني انو هيضربهم بالنار راح جاب مسدس فعلا وقتل ال ٨ وسلم نفسه للشرطة ...</td>\n",
       "    </tr>\n",
       "  </tbody>\n",
       "</table>\n",
       "</div>"
      ],
      "text/plain": [
       "                                                                                                                                                                                                                                                                                               text  \\\n",
       "4619                                                                                                                                                                                                                      قناص فرنسي ع السطح 🤔أنها حرب اهليه هكذا ف فرنسا 🔥 https://t.co/IkfGIoFNd4   \n",
       "503                                                                                                                          #مصر ترسل معدات وطواقم هندسية عبر معبر رفح البري، لإزالة ركام المنازل المهدمة في #غزة نتيجة القصف الإسرائيلي، تمهيداً لبدء عملية إعمار القطاع. https://t.co/K9uBNyPHap   \n",
       "5835                                                                                                                                                                                 الف الحمد لله والشكر لله .. طائرة حجاج اندونيسيه تسقط اليوم في ايران وكافة ركابها بخير https://t.co/754XimukUh   \n",
       "3568                                                                                                                                                                                     رسميا .. #الاهلي السعودي يتعاقد مع الجزائي رياض محرز حتى 2027 مقابل 30 مليون باوند https://t.co/ev7Fq6bNyQ   \n",
       "11859                                                                                                                                                                  🚨 M.E.N \\n\\nتين هاغ قرر استبعاد كريستيانو رونالدو من قائمة الفريق لمباراة مانشستر يونايتد ضد تشيلسي. https://t.co/pDxI6L83OP   \n",
       "9826                        #عاجل | \\n\\nقيادة القوات المشتركة للتحالف \"تحالف دعم الشرعية في اليمن\":\\n\\n▪ القوات الخاصة السعودية تلقي القبض على أمير تنظيم داعش الإرهابي باليمن، الملقب بـ ( أبو أسامة المهاجر ) والمسؤول المالي للتنظيم وعدد من أعضاء التنظيم المرافقين له. https://t.co/u6zVBIQt3L   \n",
       "1815                                                                                                                                                                                                                                              مو صلاح باقي ويتمدد ❤️‍🔥👑 https://t.co/NMtbDu6GgC   \n",
       "18886                                                                                               🔻 عاجل\\n\\nضبط أكبر شحنة مخـــ،،ــــدرات على مستوى الشرق الاوسط في محافظة الانبار. ليش ايraن تدزين مخدرات للانبار لانك تحدين الانبار من الغرب\\n\\nhttps://t.co/MlWPpLPp06 https://t.co/1qK009fdQe   \n",
       "14934                                                                                                                                                     صفعة من أمير قطر  إلى منتخب_الشواذ أمير قطر الشيخ تميم بن حمد واللاعب التركي مسعود أوزيل يُرسلوا لكم السلام 🇶🇦😉🇹🇷 https://t.co/EH5NgZOjFI   \n",
       "7861   من ٥ ايام حصلت جريمة في صربيا \\nطفل عمره ١٤ سنة كان بيتعرض للتنمر من ٧ بنات و ولد زمايله في المدرسة وقعد يهددهم بالقتل \\nزمايله دول زادوا من التنمر وبقوا يعملوا صوت كده ( بيو بيو ) تريقة يعني انو هيضربهم بالنار\\nراح جاب مسدس فعلا وقتل ال ٨ وسلم نفسه للشرطة ... https://t.co/DOCXZ6NowV   \n",
       "\n",
       "                                                                                                                                                                                                                                                            text_arabic  \n",
       "4619                                                                                                                                                                                                                   قناص فرنسي ع السطح أنها حرب اهليه هكذا ف فرنسا    \n",
       "503                                                                                                                       مصر ترسل معدات وطواقم هندسية عبر معبر رفح البري، لإزالة ركام المنازل المهدمة في غزة نتيجة القصف الإسرائيلي، تمهيداً لبدء عملية إعمار القطاع.   \n",
       "5835                                                                                                                                                                            الف الحمد لله والشكر لله .. طائرة حجاج اندونيسيه تسقط اليوم في ايران وكافة ركابها بخير   \n",
       "3568                                                                                                                                                                                 رسميا .. الاهلي السعودي يتعاقد مع الجزائي رياض محرز حتى 2027 مقابل 30 مليون باوند   \n",
       "11859                                                                                                                                                                    ..   تين هاغ قرر استبعاد كريستيانو رونالدو من قائمة الفريق لمباراة مانشستر يونايتد ضد تشيلسي.   \n",
       "9826                              عاجل    قيادة القوات المشتركة للتحالف تحالف دعم الشرعية في اليمن:   القوات الخاصة السعودية تلقي القبض على أمير تنظيم داعش الإرهابي باليمن، الملقب بـ  أبو أسامة المهاجر  والمسؤول المالي للتنظيم وعدد من أعضاء التنظيم المرافقين له.   \n",
       "1815                                                                                                                                                                                                                                              مو صلاح باقي ويتمدد    \n",
       "18886                                                                                                                         عاجل  ضبط أكبر شحنة مخـــ،،ــــدرات على مستوى الشرق الاوسط في محافظة الانبار. ليش اين تدزين مخدرات للانبار لانك تحدين الانبار من الغرب     \n",
       "14934                                                                                                                                                     صفعة من أمير قطر  إلى منتخب الشواذ أمير قطر الشيخ تميم بن حمد واللاعب التركي مسعود أوزيل يُرسلوا لكم السلام    \n",
       "7861   من ٥ ايام حصلت جريمة في صربيا  طفل عمره ١٤ سنة كان بيتعرض للتنمر من ٧ بنات و ولد زمايله في المدرسة وقعد يهددهم بالقتل  زمايله دول زادوا من التنمر وبقوا يعملوا صوت كده  بيو بيو  تريقة يعني انو هيضربهم بالنار راح جاب مسدس فعلا وقتل ال ٨ وسلم نفسه للشرطة ...   "
      ]
     },
     "execution_count": 17,
     "metadata": {},
     "output_type": "execute_result"
    }
   ],
   "source": [
    "df[['text', 'text_arabic']].sample(10)"
   ]
  },
  {
   "cell_type": "code",
   "execution_count": 18,
   "id": "fa0f3cb8-9fe4-4fc4-93cc-ab9f8ce6b48f",
   "metadata": {},
   "outputs": [],
   "source": [
    "df['text_arabic'] = df['text_arabic'].fillna('')"
   ]
  },
  {
   "cell_type": "code",
   "execution_count": 19,
   "id": "63938a74-50bb-43b4-8fe6-b7ffc398996b",
   "metadata": {},
   "outputs": [],
   "source": [
    "df['text_length'] = df['text_arabic'].apply(lambda x: len(x))"
   ]
  },
  {
   "cell_type": "markdown",
   "id": "9eaa7a84-f47a-4494-8eec-f0e9a2a50cbe",
   "metadata": {},
   "source": [
    "## Tweet Emojis"
   ]
  },
  {
   "cell_type": "code",
   "execution_count": 20,
   "id": "6583d245-3c65-4352-ba26-d33cfa6a0acd",
   "metadata": {},
   "outputs": [],
   "source": [
    "# Define emoji regex pattern\n",
    "def extract_emojis(text):\n",
    "    try:\n",
    "        return demoji.findall(text)\n",
    "    except:\n",
    "        return ''"
   ]
  },
  {
   "cell_type": "code",
   "execution_count": 21,
   "id": "c6a1290f-93b0-4840-a79e-fc83b7f8a5ac",
   "metadata": {},
   "outputs": [
    {
     "data": {
      "text/plain": [
       "{'😘': 'face blowing a kiss', '❤': 'red heart'}"
      ]
     },
     "execution_count": 21,
     "metadata": {},
     "output_type": "execute_result"
    }
   ],
   "source": [
    "test = 'رسميا : الماجيكو محمد ابو تريكه رئيسا لنادي مانشيستر يونايتد بعد شراء النادى من قبل رجل الأعمال القطري ماجد الخليفي .. اللي فرحان للماجيكو يوريني نفسه كدا 😘😘😘❤ https://t.co/uA0skv7B3h\t'\n",
    "emojis = extract_emojis(test)\n",
    "emojis"
   ]
  },
  {
   "cell_type": "code",
   "execution_count": 22,
   "id": "a3ea94d3-5df5-4336-990f-b61dc50e3128",
   "metadata": {},
   "outputs": [],
   "source": [
    "# Create a new column 'emojis' with extracted emojis\n",
    "df['emojis'] = df['text'].apply(extract_emojis)"
   ]
  },
  {
   "cell_type": "code",
   "execution_count": 23,
   "id": "fae92565-c619-4069-927c-6edf6e2abad4",
   "metadata": {},
   "outputs": [
    {
     "data": {
      "text/html": [
       "<div>\n",
       "<style scoped>\n",
       "    .dataframe tbody tr th:only-of-type {\n",
       "        vertical-align: middle;\n",
       "    }\n",
       "\n",
       "    .dataframe tbody tr th {\n",
       "        vertical-align: top;\n",
       "    }\n",
       "\n",
       "    .dataframe thead th {\n",
       "        text-align: right;\n",
       "    }\n",
       "</style>\n",
       "<table border=\"1\" class=\"dataframe\">\n",
       "  <thead>\n",
       "    <tr style=\"text-align: right;\">\n",
       "      <th></th>\n",
       "      <th>text</th>\n",
       "      <th>emojis</th>\n",
       "    </tr>\n",
       "  </thead>\n",
       "  <tbody>\n",
       "    <tr>\n",
       "      <th>14305</th>\n",
       "      <td>👆🔴❗شرطي سويدي يخنق طفلاً مسلماً يردد الشهادتين ❗\\n🔴هذا طبعاً ليس إرهاباً طالما إن الضحيه مسلم ❗ http://t.co/zlmIBE3rLC</td>\n",
       "      <td>{'👆': 'backhand index pointing up', '❗': 'red exclamation mark', '🔴': 'red circle'}</td>\n",
       "    </tr>\n",
       "    <tr>\n",
       "      <th>19394</th>\n",
       "      <td>ما تقول إلا قناة العربية 🤣🤣🤣\\nمترجم قناة العربية أثناء كلمة الملك تشارلز الثالث: \"أنا في غاية السعادة بوفاة أمي الملكة إليزابيث\"*😃😃😃😃😃 https://t.co/AELZebtf0c</td>\n",
       "      <td>{'😃': 'grinning face with big eyes', '🤣': 'rolling on the floor laughing'}</td>\n",
       "    </tr>\n",
       "    <tr>\n",
       "      <th>15835</th>\n",
       "      <td>الدفاع المدني⁩ يسيطر على حريق بأحد المباني قيد الانشاء في منطقة #لوسيل دون مصابين https://t.co/9IAXXrVEZy</td>\n",
       "      <td>{}</td>\n",
       "    </tr>\n",
       "    <tr>\n",
       "      <th>13442</th>\n",
       "      <td>بركان سيميرو في إندونيسيا يقذف حممه لعنان السماء (شاهد)\\n\\nبركان سيميرو  يبلغ ارتفاعه 3676 مترًا ، يقع في الإقليم الشرقي لإندونيسيا ، \\n\\n - صدر إنذار في البلاد ، ووضع آلاف الأشخاص في ملاجئ مؤقتة.🇮🇩\\n\\nاللهم سلم https://t.co/2XJl9E0XvL</td>\n",
       "      <td>{'🇮🇩': 'flag: Indonesia'}</td>\n",
       "    </tr>\n",
       "    <tr>\n",
       "      <th>11041</th>\n",
       "      <td>إعصار قمعي ضخم محمل بالأتربة والغبار يضرب الطائف ويسبب بعض التلفيات.\\n\\nالحمد لله على سلامتكم يا أهل الطايف \\n#الطايف_الان https://t.co/wGp6wAOlMO</td>\n",
       "      <td>{}</td>\n",
       "    </tr>\n",
       "    <tr>\n",
       "      <th>19523</th>\n",
       "      <td>و كانـت تَـشـتَـهِـر #الملكة_إليزابيث الـرّاحلة\\nبالكرم و فِعـل الخير ، فكانت تَٰـنـهَـبُ ثَـرَواتِ\\nالشعوب ثُمّ تُـلـقـي عَليهِم الفُـتـاتَ كالبَهائِم !\\n\\nأتعبتِ الملوك من بعدِك يا #إليزابيث_الثانية https://t.co/U57a0fVYwC</td>\n",
       "      <td>{}</td>\n",
       "    </tr>\n",
       "    <tr>\n",
       "      <th>19320</th>\n",
       "      <td>لوحة ابو جعفر المنصور تزين أحد جدران قصر باكنغهام https://t.co/VRl6lqB05b</td>\n",
       "      <td>{}</td>\n",
       "    </tr>\n",
       "    <tr>\n",
       "      <th>7115</th>\n",
       "      <td>السيسي يوجه بصرف 3 مليون دولار لأسر الجنود الإسرائيليين الذي قتلهم الجندي_مصري..  محمد صلاح.. \\nهذا احلا بزي في الدنيا... وكمان قام بسجن كل أفراد وأقارب #الشهيد_محمد_صلاح .. وامر بمصادرة جميع ممتلكات عائلته.. \\nهكذا اصبح واقع المنافق السيسي .\\nhttps://t.co/XHYzNKDzPM https://t.co/8KhhTGFMdq</td>\n",
       "      <td>{}</td>\n",
       "    </tr>\n",
       "    <tr>\n",
       "      <th>16184</th>\n",
       "      <td>شاهد .. رد فعل #ترامب لحظة سماعه خبر وفاة ملكة #بريطانيا https://t.co/5wyzgr3ZFK</td>\n",
       "      <td>{}</td>\n",
       "    </tr>\n",
       "    <tr>\n",
       "      <th>17771</th>\n",
       "      <td>الحجاج عام 1934م يأتون من المغرب ليقابلوا حجاج الجزائر .. ثم تونس .. ثم ليبيا .. ليقابلوا الحجاج المصريين ويسيروا سوياً إلى مكه المكرمة.\\n\\nصوره التقطها مصور فرنسى من الجو لحُجاج بيت الله وهم بالقرب من قرية الجحفة بالحجاز ، وقبيل تفعيل حدود سايكس بيكو.\\n\\nفلا جوزات ولا تأشيرات مرور. https://t.co/x0nmIVnvKA</td>\n",
       "      <td>{}</td>\n",
       "    </tr>\n",
       "  </tbody>\n",
       "</table>\n",
       "</div>"
      ],
      "text/plain": [
       "                                                                                                                                                                                                                                                                                                                      text  \\\n",
       "14305                                                                                                                                                                                               👆🔴❗شرطي سويدي يخنق طفلاً مسلماً يردد الشهادتين ❗\\n🔴هذا طبعاً ليس إرهاباً طالما إن الضحيه مسلم ❗ http://t.co/zlmIBE3rLC   \n",
       "19394                                                                                                                                                       ما تقول إلا قناة العربية 🤣🤣🤣\\nمترجم قناة العربية أثناء كلمة الملك تشارلز الثالث: \"أنا في غاية السعادة بوفاة أمي الملكة إليزابيث\"*😃😃😃😃😃 https://t.co/AELZebtf0c   \n",
       "15835                                                                                                                                                                                                            الدفاع المدني⁩ يسيطر على حريق بأحد المباني قيد الانشاء في منطقة #لوسيل دون مصابين https://t.co/9IAXXrVEZy   \n",
       "13442                                                                          بركان سيميرو في إندونيسيا يقذف حممه لعنان السماء (شاهد)\\n\\nبركان سيميرو  يبلغ ارتفاعه 3676 مترًا ، يقع في الإقليم الشرقي لإندونيسيا ، \\n\\n - صدر إنذار في البلاد ، ووضع آلاف الأشخاص في ملاجئ مؤقتة.🇮🇩\\n\\nاللهم سلم https://t.co/2XJl9E0XvL   \n",
       "11041                                                                                                                                                                   إعصار قمعي ضخم محمل بالأتربة والغبار يضرب الطائف ويسبب بعض التلفيات.\\n\\nالحمد لله على سلامتكم يا أهل الطايف \\n#الطايف_الان https://t.co/wGp6wAOlMO   \n",
       "19523                                                                                     و كانـت تَـشـتَـهِـر #الملكة_إليزابيث الـرّاحلة\\nبالكرم و فِعـل الخير ، فكانت تَٰـنـهَـبُ ثَـرَواتِ\\nالشعوب ثُمّ تُـلـقـي عَليهِم الفُـتـاتَ كالبَهائِم !\\n\\nأتعبتِ الملوك من بعدِك يا #إليزابيث_الثانية https://t.co/U57a0fVYwC   \n",
       "19320                                                                                                                                                                                                                                            لوحة ابو جعفر المنصور تزين أحد جدران قصر باكنغهام https://t.co/VRl6lqB05b   \n",
       "7115                   السيسي يوجه بصرف 3 مليون دولار لأسر الجنود الإسرائيليين الذي قتلهم الجندي_مصري..  محمد صلاح.. \\nهذا احلا بزي في الدنيا... وكمان قام بسجن كل أفراد وأقارب #الشهيد_محمد_صلاح .. وامر بمصادرة جميع ممتلكات عائلته.. \\nهكذا اصبح واقع المنافق السيسي .\\nhttps://t.co/XHYzNKDzPM https://t.co/8KhhTGFMdq   \n",
       "16184                                                                                                                                                                                                                                     شاهد .. رد فعل #ترامب لحظة سماعه خبر وفاة ملكة #بريطانيا https://t.co/5wyzgr3ZFK   \n",
       "17771  الحجاج عام 1934م يأتون من المغرب ليقابلوا حجاج الجزائر .. ثم تونس .. ثم ليبيا .. ليقابلوا الحجاج المصريين ويسيروا سوياً إلى مكه المكرمة.\\n\\nصوره التقطها مصور فرنسى من الجو لحُجاج بيت الله وهم بالقرب من قرية الجحفة بالحجاز ، وقبيل تفعيل حدود سايكس بيكو.\\n\\nفلا جوزات ولا تأشيرات مرور. https://t.co/x0nmIVnvKA   \n",
       "\n",
       "                                                                                    emojis  \n",
       "14305  {'👆': 'backhand index pointing up', '❗': 'red exclamation mark', '🔴': 'red circle'}  \n",
       "19394           {'😃': 'grinning face with big eyes', '🤣': 'rolling on the floor laughing'}  \n",
       "15835                                                                                   {}  \n",
       "13442                                                            {'🇮🇩': 'flag: Indonesia'}  \n",
       "11041                                                                                   {}  \n",
       "19523                                                                                   {}  \n",
       "19320                                                                                   {}  \n",
       "7115                                                                                    {}  \n",
       "16184                                                                                   {}  \n",
       "17771                                                                                   {}  "
      ]
     },
     "execution_count": 23,
     "metadata": {},
     "output_type": "execute_result"
    }
   ],
   "source": [
    "df[['text', 'emojis']].sample(10)"
   ]
  },
  {
   "cell_type": "code",
   "execution_count": 24,
   "id": "d7ab47b6-01c5-43f8-9805-5a77b134c8fd",
   "metadata": {},
   "outputs": [],
   "source": [
    "def count_emojis(text, emojis):\n",
    "    emoji_count = {}\n",
    "    if len(emojis) > 0:\n",
    "        for emoji in emojis.keys():\n",
    "            emoji_count[emoji] = text.count(emoji)\n",
    "    return emoji_count"
   ]
  },
  {
   "cell_type": "code",
   "execution_count": 25,
   "id": "8b1bfa7f-98f2-476e-98b6-21e5a2b6a8b4",
   "metadata": {},
   "outputs": [],
   "source": [
    "df['emojis_count'] = df.apply(lambda row: count_emojis(row['text'], row['emojis']), axis=1)"
   ]
  },
  {
   "cell_type": "code",
   "execution_count": 26,
   "id": "bafe51b0-2982-489e-89e1-db46d283938d",
   "metadata": {},
   "outputs": [
    {
     "data": {
      "text/html": [
       "<div>\n",
       "<style scoped>\n",
       "    .dataframe tbody tr th:only-of-type {\n",
       "        vertical-align: middle;\n",
       "    }\n",
       "\n",
       "    .dataframe tbody tr th {\n",
       "        vertical-align: top;\n",
       "    }\n",
       "\n",
       "    .dataframe thead th {\n",
       "        text-align: right;\n",
       "    }\n",
       "</style>\n",
       "<table border=\"1\" class=\"dataframe\">\n",
       "  <thead>\n",
       "    <tr style=\"text-align: right;\">\n",
       "      <th></th>\n",
       "      <th>text</th>\n",
       "      <th>emojis</th>\n",
       "      <th>emojis_count</th>\n",
       "    </tr>\n",
       "  </thead>\n",
       "  <tbody>\n",
       "    <tr>\n",
       "      <th>6661</th>\n",
       "      <td>الجندي المبتسم بالسيلفي ده اسمه محمد المعتز رشاد واستشهد 2016 في رفح\\nاما الشهيد البطل فجر اليوم على حدود مصر فلسطين قتل 3 مجندين صهاينة واصاب 2 ، دي صورته الباهتة \\nبلاش نخلط الأمور عشان كل واحد فيهم له قصة بطولية مختلفة وربنا يرحم شهداء المسلمين  \\n#جندي_مصري https://t.co/aguYAR6pxT</td>\n",
       "      <td>{}</td>\n",
       "      <td>{}</td>\n",
       "    </tr>\n",
       "    <tr>\n",
       "      <th>969</th>\n",
       "      <td>حمدي جوارا: ما يتداول عن إسلام اللاعب الدولي الايفواري السابق دروغبا ليس صحيحا، فقد أكد أحد الزملاء أنه زار قريته بالأمس واستقبل جماعة من المسلمين ودعوا له بخير وأمّن رافعا يديه معهم للدعاء ..وهذا لا يعني أنه أسلم .. \\n\\nنسأل الله أن يهديه إلى الإسلام \\n\\n#دروغبا #دروجبا #Drogba https://t.co/KHMc83vxjP</td>\n",
       "      <td>{}</td>\n",
       "      <td>{}</td>\n",
       "    </tr>\n",
       "    <tr>\n",
       "      <th>7795</th>\n",
       "      <td>من مصر الي السودان. \\nدورنا الحضاري والتاريخي تجاه الانسانية وبغض النظر عن مواقفهم المخزيه تجاهنا يجعلنا دائما نتصرف تصرف الكبير\\nوفي زمن لم تستطيع فيه الدول الغربية من اجلاء رعاياها ناهيك عن إرسال مساعدات. https://t.co/DYNgixXFS2</td>\n",
       "      <td>{}</td>\n",
       "      <td>{}</td>\n",
       "    </tr>\n",
       "    <tr>\n",
       "      <th>16140</th>\n",
       "      <td>@Rich_in_Rahman كتب الله سبحانه الخير لمورغان فريمان في آخر عمره،غير اسمه الى بلال ويرغب أن يعمل مؤذن بمساجد دولة قطر،بمثل هذه المشاهد العظيمه نفتخر بقادة الدول اللذين همهم هو الاسلام وثقافة العرب العريقة بعكس غيرهم همهم تغريب الشعوب والعياذ بالله.عفيه عفيه عليك شاعر راهي وتستاهل دولة قطر 👍 https://t.co/6q909VzBqo</td>\n",
       "      <td>{'👍': 'thumbs up'}</td>\n",
       "      <td>{'👍': 1}</td>\n",
       "    </tr>\n",
       "    <tr>\n",
       "      <th>12874</th>\n",
       "      <td>الداعية #حسن_الحسيني \"يتبرأ\" من فيديو تداوله ذباب النظام المغربي حول الجزائر https://t.co/qxI2VBMBUr</td>\n",
       "      <td>{}</td>\n",
       "      <td>{}</td>\n",
       "    </tr>\n",
       "  </tbody>\n",
       "</table>\n",
       "</div>"
      ],
      "text/plain": [
       "                                                                                                                                                                                                                                                                                                                              text  \\\n",
       "6661                                 الجندي المبتسم بالسيلفي ده اسمه محمد المعتز رشاد واستشهد 2016 في رفح\\nاما الشهيد البطل فجر اليوم على حدود مصر فلسطين قتل 3 مجندين صهاينة واصاب 2 ، دي صورته الباهتة \\nبلاش نخلط الأمور عشان كل واحد فيهم له قصة بطولية مختلفة وربنا يرحم شهداء المسلمين  \\n#جندي_مصري https://t.co/aguYAR6pxT   \n",
       "969                حمدي جوارا: ما يتداول عن إسلام اللاعب الدولي الايفواري السابق دروغبا ليس صحيحا، فقد أكد أحد الزملاء أنه زار قريته بالأمس واستقبل جماعة من المسلمين ودعوا له بخير وأمّن رافعا يديه معهم للدعاء ..وهذا لا يعني أنه أسلم .. \\n\\nنسأل الله أن يهديه إلى الإسلام \\n\\n#دروغبا #دروجبا #Drogba https://t.co/KHMc83vxjP   \n",
       "7795                                                                                        من مصر الي السودان. \\nدورنا الحضاري والتاريخي تجاه الانسانية وبغض النظر عن مواقفهم المخزيه تجاهنا يجعلنا دائما نتصرف تصرف الكبير\\nوفي زمن لم تستطيع فيه الدول الغربية من اجلاء رعاياها ناهيك عن إرسال مساعدات. https://t.co/DYNgixXFS2   \n",
       "16140  @Rich_in_Rahman كتب الله سبحانه الخير لمورغان فريمان في آخر عمره،غير اسمه الى بلال ويرغب أن يعمل مؤذن بمساجد دولة قطر،بمثل هذه المشاهد العظيمه نفتخر بقادة الدول اللذين همهم هو الاسلام وثقافة العرب العريقة بعكس غيرهم همهم تغريب الشعوب والعياذ بالله.عفيه عفيه عليك شاعر راهي وتستاهل دولة قطر 👍 https://t.co/6q909VzBqo   \n",
       "12874                                                                                                                                                                                                                         الداعية #حسن_الحسيني \"يتبرأ\" من فيديو تداوله ذباب النظام المغربي حول الجزائر https://t.co/qxI2VBMBUr   \n",
       "\n",
       "                   emojis emojis_count  \n",
       "6661                   {}           {}  \n",
       "969                    {}           {}  \n",
       "7795                   {}           {}  \n",
       "16140  {'👍': 'thumbs up'}     {'👍': 1}  \n",
       "12874                  {}           {}  "
      ]
     },
     "execution_count": 26,
     "metadata": {},
     "output_type": "execute_result"
    }
   ],
   "source": [
    "df[['text', 'emojis', 'emojis_count']].sample(5)"
   ]
  },
  {
   "cell_type": "code",
   "execution_count": 27,
   "id": "eaf97f8f-4ac5-4e7f-b85c-9bb5c8f41c19",
   "metadata": {},
   "outputs": [],
   "source": [
    "df['emojis_total_count'] = df['emojis_count'].apply(lambda x: sum(x.values()))"
   ]
  },
  {
   "cell_type": "code",
   "execution_count": 28,
   "id": "46d3aa76-9ba0-4bc4-b55c-005fa1e3bb6e",
   "metadata": {},
   "outputs": [
    {
     "data": {
      "text/html": [
       "<div>\n",
       "<style scoped>\n",
       "    .dataframe tbody tr th:only-of-type {\n",
       "        vertical-align: middle;\n",
       "    }\n",
       "\n",
       "    .dataframe tbody tr th {\n",
       "        vertical-align: top;\n",
       "    }\n",
       "\n",
       "    .dataframe thead th {\n",
       "        text-align: right;\n",
       "    }\n",
       "</style>\n",
       "<table border=\"1\" class=\"dataframe\">\n",
       "  <thead>\n",
       "    <tr style=\"text-align: right;\">\n",
       "      <th></th>\n",
       "      <th>text</th>\n",
       "      <th>emojis</th>\n",
       "      <th>emojis_count</th>\n",
       "      <th>emojis_total_count</th>\n",
       "    </tr>\n",
       "  </thead>\n",
       "  <tbody>\n",
       "    <tr>\n",
       "      <th>1655</th>\n",
       "      <td>بيدخلونه السجن \\n\\nقلب الطاولة عليهم ‼️ https://t.co/jADkrt1mRM</td>\n",
       "      <td>{'‼️': 'double exclamation mark'}</td>\n",
       "      <td>{'‼️': 1}</td>\n",
       "      <td>1</td>\n",
       "    </tr>\n",
       "    <tr>\n",
       "      <th>6716</th>\n",
       "      <td>*الان .. بدأت مراسم احياء الاربعين في نهاية شارع فلسطين ( حسينية الامام الخميني ) بحضور السيد القائد،  الامام السيد علي  الخامنئي الحسيني،  وعدد من الهيئات الطلابية للجامعات الايرانية.*\\n\\n🔹*المصدر وكالة تسنيم للانباء*\\n@TasnimNews https://t.co/ehRINTEA4Y</td>\n",
       "      <td>{'🔹': 'small blue diamond'}</td>\n",
       "      <td>{'🔹': 1}</td>\n",
       "      <td>1</td>\n",
       "    </tr>\n",
       "    <tr>\n",
       "      <th>8354</th>\n",
       "      <td>بالفيديو | رونالدو يوجه رسالة إلى أطفال سوريا: «أنا لاعب مشهور لكن أنتم الأبطال الحقيقيون.. لا تفقدوا الأمل»\\nhttps://t.co/xwHapMRow8 https://t.co/6WCt9Taqc3</td>\n",
       "      <td>{}</td>\n",
       "      <td>{}</td>\n",
       "      <td>0</td>\n",
       "    </tr>\n",
       "    <tr>\n",
       "      <th>20006</th>\n",
       "      <td>🚨وفاة السفير السعودي محمد القحطاني اثناء كلمة له ألقاها في القاهرة خلال مؤتمر ، وكانت اخر كلمة له وهو يمدح السيسي قائلا عنه بانه عميد  الانسانية و رجل السلام https://t.co/gDIhLRTt4L</td>\n",
       "      <td>{'🚨': 'police car light'}</td>\n",
       "      <td>{'🚨': 1}</td>\n",
       "      <td>1</td>\n",
       "    </tr>\n",
       "    <tr>\n",
       "      <th>15423</th>\n",
       "      <td>🚨🚨🚨🚨بالاك وتصريح تاريخي: \\n\\nكيف نريد الفوز بكأس العالم للرجال ونحن منذ أن بدأت البطولة ندعم قضيه لا تمت للرجال بصله!♥️ https://t.co/bHcHCJj9cA</td>\n",
       "      <td>{'♥️': 'heart suit', '🚨': 'police car light'}</td>\n",
       "      <td>{'♥️': 1, '🚨': 4}</td>\n",
       "      <td>5</td>\n",
       "    </tr>\n",
       "  </tbody>\n",
       "</table>\n",
       "</div>"
      ],
      "text/plain": [
       "                                                                                                                                                                                                                                                                  text  \\\n",
       "1655                                                                                                                                                                                                   بيدخلونه السجن \\n\\nقلب الطاولة عليهم ‼️ https://t.co/jADkrt1mRM   \n",
       "6716   *الان .. بدأت مراسم احياء الاربعين في نهاية شارع فلسطين ( حسينية الامام الخميني ) بحضور السيد القائد،  الامام السيد علي  الخامنئي الحسيني،  وعدد من الهيئات الطلابية للجامعات الايرانية.*\\n\\n🔹*المصدر وكالة تسنيم للانباء*\\n@TasnimNews https://t.co/ehRINTEA4Y   \n",
       "8354                                                                                                     بالفيديو | رونالدو يوجه رسالة إلى أطفال سوريا: «أنا لاعب مشهور لكن أنتم الأبطال الحقيقيون.. لا تفقدوا الأمل»\\nhttps://t.co/xwHapMRow8 https://t.co/6WCt9Taqc3   \n",
       "20006                                                                            🚨وفاة السفير السعودي محمد القحطاني اثناء كلمة له ألقاها في القاهرة خلال مؤتمر ، وكانت اخر كلمة له وهو يمدح السيسي قائلا عنه بانه عميد  الانسانية و رجل السلام https://t.co/gDIhLRTt4L   \n",
       "15423                                                                                                                  🚨🚨🚨🚨بالاك وتصريح تاريخي: \\n\\nكيف نريد الفوز بكأس العالم للرجال ونحن منذ أن بدأت البطولة ندعم قضيه لا تمت للرجال بصله!♥️ https://t.co/bHcHCJj9cA   \n",
       "\n",
       "                                              emojis       emojis_count  \\\n",
       "1655               {'‼️': 'double exclamation mark'}          {'‼️': 1}   \n",
       "6716                     {'🔹': 'small blue diamond'}           {'🔹': 1}   \n",
       "8354                                              {}                 {}   \n",
       "20006                      {'🚨': 'police car light'}           {'🚨': 1}   \n",
       "15423  {'♥️': 'heart suit', '🚨': 'police car light'}  {'♥️': 1, '🚨': 4}   \n",
       "\n",
       "       emojis_total_count  \n",
       "1655                    1  \n",
       "6716                    1  \n",
       "8354                    0  \n",
       "20006                   1  \n",
       "15423                   5  "
      ]
     },
     "execution_count": 28,
     "metadata": {},
     "output_type": "execute_result"
    }
   ],
   "source": [
    "df[['text', 'emojis', 'emojis_count', 'emojis_total_count']].sample(5)"
   ]
  },
  {
   "cell_type": "markdown",
   "id": "6c9e9c0e-e5b2-4d74-a540-f139c1b8b5c2",
   "metadata": {},
   "source": [
    "## tweets annotations"
   ]
  },
  {
   "cell_type": "code",
   "execution_count": 29,
   "id": "b72a3c73-e586-4d0e-9ce9-2794390ccc4a",
   "metadata": {},
   "outputs": [
    {
     "data": {
      "text/html": [
       "<div>\n",
       "<style scoped>\n",
       "    .dataframe tbody tr th:only-of-type {\n",
       "        vertical-align: middle;\n",
       "    }\n",
       "\n",
       "    .dataframe tbody tr th {\n",
       "        vertical-align: top;\n",
       "    }\n",
       "\n",
       "    .dataframe thead th {\n",
       "        text-align: right;\n",
       "    }\n",
       "</style>\n",
       "<table border=\"1\" class=\"dataframe\">\n",
       "  <thead>\n",
       "    <tr style=\"text-align: right;\">\n",
       "      <th></th>\n",
       "      <th>text</th>\n",
       "      <th>annotations_text</th>\n",
       "      <th>annotations_type</th>\n",
       "    </tr>\n",
       "  </thead>\n",
       "  <tbody>\n",
       "    <tr>\n",
       "      <th>14997</th>\n",
       "      <td>@SakerSport عاجل🚨🚨🚨\\nوفاة اسطورة البرازيل بيليه \\nوداعا 🇧🇷🇧🇷</td>\n",
       "      <td>[]</td>\n",
       "      <td>[]</td>\n",
       "    </tr>\n",
       "    <tr>\n",
       "      <th>19808</th>\n",
       "      <td>اللهم لطفك يااااا رب\\nالآن الآن علي CNN محطات الأرصاد الأمريكية تعلن أن السودان سوف يتعرض لأمطار لم تحدث منذ 100 عام https://t.co/idYC5v7wti</td>\n",
       "      <td>['السودان']</td>\n",
       "      <td>['Place']</td>\n",
       "    </tr>\n",
       "    <tr>\n",
       "      <th>5873</th>\n",
       "      <td>فيضانات تركيا هذا هو نفس المكان الذي ضربه الزلزال المدمر \\nhttps://t.co/SekCkCZH0L</td>\n",
       "      <td>['تركيا']</td>\n",
       "      <td>['Place']</td>\n",
       "    </tr>\n",
       "    <tr>\n",
       "      <th>10337</th>\n",
       "      <td>المغربي عبدالحق نوري صحي من غيبوبة مدتها سنتين و٩ أشهر تقريباً الحمد لله\\n\\nخبر أسعدني كثيرا والله https://t.co/gdnDO0LJxF</td>\n",
       "      <td>[]</td>\n",
       "      <td>[]</td>\n",
       "    </tr>\n",
       "    <tr>\n",
       "      <th>7425</th>\n",
       "      <td>مشادة كلامية بين ممثل قطر وسفير السعودية في الجامعة العربية https://t.co/ovgEacs10l https://t.co/ef9zpYvC13</td>\n",
       "      <td>['قطر', 'السعودية']</td>\n",
       "      <td>['Place', 'Place']</td>\n",
       "    </tr>\n",
       "    <tr>\n",
       "      <th>6429</th>\n",
       "      <td>@mhalshaikh @InterMiamiCF جانب من حفل إستقبال ميسي رجعوا البشوت https://t.co/3ydovwIuIi</td>\n",
       "      <td>['ميسي']</td>\n",
       "      <td>['Person']</td>\n",
       "    </tr>\n",
       "    <tr>\n",
       "      <th>2480</th>\n",
       "      <td>والدة النجم البرازيلي #نيمار ترتدي النقاب وتمتطي الجمل https://t.co/9CnCbHIwNW</td>\n",
       "      <td>[]</td>\n",
       "      <td>[]</td>\n",
       "    </tr>\n",
       "    <tr>\n",
       "      <th>10037</th>\n",
       "      <td>الان\\nيااالله ما اعظمه من مشهد #الاقصى_يستغيث وصواريخ المقاومة تلبي ..\\nمن اليمن نقبل أقدام أبطال المقاومة الفلسطينية https://t.co/laDtRjI1aC</td>\n",
       "      <td>['اليمن']</td>\n",
       "      <td>['Place']</td>\n",
       "    </tr>\n",
       "    <tr>\n",
       "      <th>791</th>\n",
       "      <td>لليوم الخامس والثمانين.. بركان لا بالما مستمر بإطلاق الحمم \\n#شاهد_سكاي https://t.co/ci3kcOVL0s</td>\n",
       "      <td>[]</td>\n",
       "      <td>[]</td>\n",
       "    </tr>\n",
       "    <tr>\n",
       "      <th>572</th>\n",
       "      <td>طائرات shahed-136 تهاجم أهدافًا في أوديسا فجر اليوم https://t.co/SVKBh7E6Sh</td>\n",
       "      <td>[]</td>\n",
       "      <td>[]</td>\n",
       "    </tr>\n",
       "  </tbody>\n",
       "</table>\n",
       "</div>"
      ],
      "text/plain": [
       "                                                                                                                                                text  \\\n",
       "14997                                                                                   @SakerSport عاجل🚨🚨🚨\\nوفاة اسطورة البرازيل بيليه \\nوداعا 🇧🇷🇧🇷   \n",
       "19808   اللهم لطفك يااااا رب\\nالآن الآن علي CNN محطات الأرصاد الأمريكية تعلن أن السودان سوف يتعرض لأمطار لم تحدث منذ 100 عام https://t.co/idYC5v7wti   \n",
       "5873                                                              فيضانات تركيا هذا هو نفس المكان الذي ضربه الزلزال المدمر \\nhttps://t.co/SekCkCZH0L   \n",
       "10337                     المغربي عبدالحق نوري صحي من غيبوبة مدتها سنتين و٩ أشهر تقريباً الحمد لله\\n\\nخبر أسعدني كثيرا والله https://t.co/gdnDO0LJxF   \n",
       "7425                                     مشادة كلامية بين ممثل قطر وسفير السعودية في الجامعة العربية https://t.co/ovgEacs10l https://t.co/ef9zpYvC13   \n",
       "6429                                                         @mhalshaikh @InterMiamiCF جانب من حفل إستقبال ميسي رجعوا البشوت https://t.co/3ydovwIuIi   \n",
       "2480                                                                  والدة النجم البرازيلي #نيمار ترتدي النقاب وتمتطي الجمل https://t.co/9CnCbHIwNW   \n",
       "10037  الان\\nيااالله ما اعظمه من مشهد #الاقصى_يستغيث وصواريخ المقاومة تلبي ..\\nمن اليمن نقبل أقدام أبطال المقاومة الفلسطينية https://t.co/laDtRjI1aC   \n",
       "791                                                  لليوم الخامس والثمانين.. بركان لا بالما مستمر بإطلاق الحمم \\n#شاهد_سكاي https://t.co/ci3kcOVL0s   \n",
       "572                                                                      طائرات shahed-136 تهاجم أهدافًا في أوديسا فجر اليوم https://t.co/SVKBh7E6Sh   \n",
       "\n",
       "          annotations_text    annotations_type  \n",
       "14997                   []                  []  \n",
       "19808          ['السودان']           ['Place']  \n",
       "5873             ['تركيا']           ['Place']  \n",
       "10337                   []                  []  \n",
       "7425   ['قطر', 'السعودية']  ['Place', 'Place']  \n",
       "6429              ['ميسي']          ['Person']  \n",
       "2480                    []                  []  \n",
       "10037            ['اليمن']           ['Place']  \n",
       "791                     []                  []  \n",
       "572                     []                  []  "
      ]
     },
     "execution_count": 29,
     "metadata": {},
     "output_type": "execute_result"
    }
   ],
   "source": [
    "df[['text', 'annotations_text', 'annotations_type']].sample(10)"
   ]
  },
  {
   "cell_type": "markdown",
   "id": "cbccb6eb-03db-4c6a-8aaa-90d9a3ae3cc7",
   "metadata": {},
   "source": [
    "#### Convert data type from plain string into list"
   ]
  },
  {
   "cell_type": "code",
   "execution_count": 30,
   "id": "f6c740f8-34b7-4946-9603-0ea36c355bc2",
   "metadata": {},
   "outputs": [
    {
     "data": {
      "text/plain": [
       "11603    [محمد ابو تريكه, مانشيستر يونايتد, النادى, ماجد الخليفي]\n",
       "8979                                                           []\n",
       "11936                                              [لبنان, سورية]\n",
       "16826                                                          []\n",
       "2057                                                           []\n",
       "Name: annotations_text, dtype: object"
      ]
     },
     "execution_count": 30,
     "metadata": {},
     "output_type": "execute_result"
    }
   ],
   "source": [
    "df['annotations_text'] = df['annotations_text'].apply(ast.literal_eval)\n",
    "df['annotations_text'].sample(5)"
   ]
  },
  {
   "cell_type": "code",
   "execution_count": 31,
   "id": "69322d55-d653-49cc-b931-8a35fd2fac48",
   "metadata": {},
   "outputs": [
    {
     "data": {
      "text/plain": [
       "4147                         []\n",
       "11643                        []\n",
       "18383                        []\n",
       "9539                         []\n",
       "3243     [Place, Place, Person]\n",
       "Name: annotations_type, dtype: object"
      ]
     },
     "execution_count": 31,
     "metadata": {},
     "output_type": "execute_result"
    }
   ],
   "source": [
    "df['annotations_type'] = df['annotations_type'].apply(ast.literal_eval)\n",
    "df['annotations_type'].sample(5)"
   ]
  },
  {
   "cell_type": "markdown",
   "id": "ad48aef1-09ff-4352-ac02-af70c1955ffc",
   "metadata": {},
   "source": [
    "#### Calculate annotations count"
   ]
  },
  {
   "cell_type": "code",
   "execution_count": 32,
   "id": "05e9fb2f-3836-4c1c-a015-31e431af1c52",
   "metadata": {},
   "outputs": [],
   "source": [
    "df['annotations_count'] = df['annotations_type'].apply(lambda x: len(x))"
   ]
  },
  {
   "cell_type": "code",
   "execution_count": 33,
   "id": "422147b8-78f6-4a9d-994e-b85ff34e3159",
   "metadata": {},
   "outputs": [
    {
     "data": {
      "text/html": [
       "<div>\n",
       "<style scoped>\n",
       "    .dataframe tbody tr th:only-of-type {\n",
       "        vertical-align: middle;\n",
       "    }\n",
       "\n",
       "    .dataframe tbody tr th {\n",
       "        vertical-align: top;\n",
       "    }\n",
       "\n",
       "    .dataframe thead th {\n",
       "        text-align: right;\n",
       "    }\n",
       "</style>\n",
       "<table border=\"1\" class=\"dataframe\">\n",
       "  <thead>\n",
       "    <tr style=\"text-align: right;\">\n",
       "      <th></th>\n",
       "      <th>text</th>\n",
       "      <th>annotations_text</th>\n",
       "      <th>annotations_type</th>\n",
       "      <th>annotations_count</th>\n",
       "    </tr>\n",
       "  </thead>\n",
       "  <tbody>\n",
       "    <tr>\n",
       "      <th>12374</th>\n",
       "      <td>فيديو: عسكري يضرب “حاج” كبير بالسن لأنه حاول ازالة الحاجز !؟ http://t.co/DqljgLm4WH</td>\n",
       "      <td>[]</td>\n",
       "      <td>[]</td>\n",
       "      <td>0</td>\n",
       "    </tr>\n",
       "    <tr>\n",
       "      <th>3105</th>\n",
       "      <td>ماكرون: سحب القوات الفرنسية من النيجر سيكون بطلب من بازوم\\n\\nأكد الرئيس الفرنسي إيمانويل ماكرون الأحد، أن أي إعادة انتشار محتملة للقوات الفرنسية في النيجر لن تتم سوى بطلب من الرئيس المخلوع محمد بازوم. https://t.co/t8VMtSZJJL</td>\n",
       "      <td>[إيمانويل ماكرون, محمد بازوم]</td>\n",
       "      <td>[Person, Person]</td>\n",
       "      <td>2</td>\n",
       "    </tr>\n",
       "    <tr>\n",
       "      <th>18334</th>\n",
       "      <td>💥💥💥عاااجل🔞🔞\\n\\nسفير الايراني في لندن في قبضة المتظاهرين..\\n\\nجيد جدا مادام شرطة بريطانيا تركتهم يدخلون السفارة ويضربون السفير الايراني يعني ان بريطانيا ستغير سياستها في إيران 👇🏿\\n\\n #كابتشينو_يخطب_هند_القحطاني https://t.co/fLMHgyPcP9</td>\n",
       "      <td>[لندن, بريطانيا, بريطانيا, إيران]</td>\n",
       "      <td>[Place, Place, Place, Place]</td>\n",
       "      <td>4</td>\n",
       "    </tr>\n",
       "    <tr>\n",
       "      <th>3265</th>\n",
       "      <td>🇮🇶🇮🇷 - قوات إقليم كردستان تتمركز على حدود إيران.\\nايه العسل ده يا عم الحج https://t.co/eitMl2JDe7</td>\n",
       "      <td>[إيران]</td>\n",
       "      <td>[Place]</td>\n",
       "      <td>1</td>\n",
       "    </tr>\n",
       "    <tr>\n",
       "      <th>15097</th>\n",
       "      <td>وفاة الأسطورة البرازيليه بيليه 💔</td>\n",
       "      <td>[بيليه]</td>\n",
       "      <td>[Person]</td>\n",
       "      <td>1</td>\n",
       "    </tr>\n",
       "    <tr>\n",
       "      <th>20043</th>\n",
       "      <td>دمشق عاصمة الامويين التي حكمت سبع بحار يسرح ويمرح بها الفرس  اه ياابابكر وعمر https://t.co/pqF8lm37it</td>\n",
       "      <td>[]</td>\n",
       "      <td>[]</td>\n",
       "      <td>0</td>\n",
       "    </tr>\n",
       "    <tr>\n",
       "      <th>13106</th>\n",
       "      <td>السيسي: \\nبتكلم كتير عن ربنا لأنه حبيبي وغالي عليا، \\n\\nوكمان لأني اللي شايف وكرمه على مصر فوق خيالكم \\n\\nوممكن تكونوا شايفين\\n\\n بس أنا شايف أكتر منكم\\n https://t.co/xg7Jub9tPQ https://t.co/tZtOPQp6pM</td>\n",
       "      <td>[السيسي, مصر]</td>\n",
       "      <td>[Person, Place]</td>\n",
       "      <td>2</td>\n",
       "    </tr>\n",
       "    <tr>\n",
       "      <th>3463</th>\n",
       "      <td>تركيا 🇹🇷 \\n🔞🔞🔞🔞\\nإعتداء حوالي 50 شخص تركي على شاب يمني شجاع عمره 15 سنة في #إسطنبول بعد خلاف مع شاب تركي فى مجمع سكنى مشهور⁉️\\n\\n#اليمن #تركيا #İstanbul https://t.co/88Uhj6nYhk</td>\n",
       "      <td>[تركيا]</td>\n",
       "      <td>[Place]</td>\n",
       "      <td>1</td>\n",
       "    </tr>\n",
       "    <tr>\n",
       "      <th>19796</th>\n",
       "      <td>🔴 عاجل\\n\\nقبل قليل علي CNN محطات الأرصاد الأمريكية تعلن أن السودان سوف يتعرض لأمطار لم تحدث منذ 100 عام\\nاللهم لطفك يااااا رب https://t.co/zFntSOfJg6</td>\n",
       "      <td>[السودان]</td>\n",
       "      <td>[Place]</td>\n",
       "      <td>1</td>\n",
       "    </tr>\n",
       "    <tr>\n",
       "      <th>19955</th>\n",
       "      <td>منقول من حسابات المختلط : مصطفى فتحي مرضاش يجدد للزمالك وقال لضاضا انا كدا كدا هسيبكو واروح التعاون السعودي فبيعوني واستفادوا مني 2 مليون دولار ، راح مرتضي باعه لنادي التعاون السعودي و أول ما قبض ال2 مليون دولار تمنه و راح مبلغ عنه التجنيد واتقبض عليه في المطار وهو مسافر 🤔🤔🤔. https://t.co/ghi0r7Bvf3</td>\n",
       "      <td>[مصطفى فتحي, للزمالك, التعاون السعودي, التعاون السعودي]</td>\n",
       "      <td>[Person, Organization, Organization, Organization]</td>\n",
       "      <td>4</td>\n",
       "    </tr>\n",
       "  </tbody>\n",
       "</table>\n",
       "</div>"
      ],
      "text/plain": [
       "                                                                                                                                                                                                                                                                                                               text  \\\n",
       "12374                                                                                                                                                                                                                           فيديو: عسكري يضرب “حاج” كبير بالسن لأنه حاول ازالة الحاجز !؟ http://t.co/DqljgLm4WH   \n",
       "3105                                                                               ماكرون: سحب القوات الفرنسية من النيجر سيكون بطلب من بازوم\\n\\nأكد الرئيس الفرنسي إيمانويل ماكرون الأحد، أن أي إعادة انتشار محتملة للقوات الفرنسية في النيجر لن تتم سوى بطلب من الرئيس المخلوع محمد بازوم. https://t.co/t8VMtSZJJL   \n",
       "18334                                                                     💥💥💥عاااجل🔞🔞\\n\\nسفير الايراني في لندن في قبضة المتظاهرين..\\n\\nجيد جدا مادام شرطة بريطانيا تركتهم يدخلون السفارة ويضربون السفير الايراني يعني ان بريطانيا ستغير سياستها في إيران 👇🏿\\n\\n #كابتشينو_يخطب_هند_القحطاني https://t.co/fLMHgyPcP9   \n",
       "3265                                                                                                                                                                                                              🇮🇶🇮🇷 - قوات إقليم كردستان تتمركز على حدود إيران.\\nايه العسل ده يا عم الحج https://t.co/eitMl2JDe7   \n",
       "15097                                                                                                                                                                                                                                                                              وفاة الأسطورة البرازيليه بيليه 💔   \n",
       "20043                                                                                                                                                                                                         دمشق عاصمة الامويين التي حكمت سبع بحار يسرح ويمرح بها الفرس  اه ياابابكر وعمر https://t.co/pqF8lm37it   \n",
       "13106                                                                                                     السيسي: \\nبتكلم كتير عن ربنا لأنه حبيبي وغالي عليا، \\n\\nوكمان لأني اللي شايف وكرمه على مصر فوق خيالكم \\n\\nوممكن تكونوا شايفين\\n\\n بس أنا شايف أكتر منكم\\n https://t.co/xg7Jub9tPQ https://t.co/tZtOPQp6pM   \n",
       "3463                                                                                                                               تركيا 🇹🇷 \\n🔞🔞🔞🔞\\nإعتداء حوالي 50 شخص تركي على شاب يمني شجاع عمره 15 سنة في #إسطنبول بعد خلاف مع شاب تركي فى مجمع سكنى مشهور⁉️\\n\\n#اليمن #تركيا #İstanbul https://t.co/88Uhj6nYhk   \n",
       "19796                                                                                                                                                         🔴 عاجل\\n\\nقبل قليل علي CNN محطات الأرصاد الأمريكية تعلن أن السودان سوف يتعرض لأمطار لم تحدث منذ 100 عام\\nاللهم لطفك يااااا رب https://t.co/zFntSOfJg6   \n",
       "19955  منقول من حسابات المختلط : مصطفى فتحي مرضاش يجدد للزمالك وقال لضاضا انا كدا كدا هسيبكو واروح التعاون السعودي فبيعوني واستفادوا مني 2 مليون دولار ، راح مرتضي باعه لنادي التعاون السعودي و أول ما قبض ال2 مليون دولار تمنه و راح مبلغ عنه التجنيد واتقبض عليه في المطار وهو مسافر 🤔🤔🤔. https://t.co/ghi0r7Bvf3   \n",
       "\n",
       "                                              annotations_text  \\\n",
       "12374                                                       []   \n",
       "3105                             [إيمانويل ماكرون, محمد بازوم]   \n",
       "18334                        [لندن, بريطانيا, بريطانيا, إيران]   \n",
       "3265                                                   [إيران]   \n",
       "15097                                                  [بيليه]   \n",
       "20043                                                       []   \n",
       "13106                                            [السيسي, مصر]   \n",
       "3463                                                   [تركيا]   \n",
       "19796                                                [السودان]   \n",
       "19955  [مصطفى فتحي, للزمالك, التعاون السعودي, التعاون السعودي]   \n",
       "\n",
       "                                         annotations_type  annotations_count  \n",
       "12374                                                  []                  0  \n",
       "3105                                     [Person, Person]                  2  \n",
       "18334                        [Place, Place, Place, Place]                  4  \n",
       "3265                                              [Place]                  1  \n",
       "15097                                            [Person]                  1  \n",
       "20043                                                  []                  0  \n",
       "13106                                     [Person, Place]                  2  \n",
       "3463                                              [Place]                  1  \n",
       "19796                                             [Place]                  1  \n",
       "19955  [Person, Organization, Organization, Organization]                  4  "
      ]
     },
     "execution_count": 33,
     "metadata": {},
     "output_type": "execute_result"
    }
   ],
   "source": [
    "df[['text', 'annotations_text', 'annotations_type', 'annotations_count']].sample(10)"
   ]
  },
  {
   "cell_type": "markdown",
   "id": "c48a8d9e-0c0e-4803-b86a-22f7e88eca07",
   "metadata": {},
   "source": [
    "#### Extract organizations"
   ]
  },
  {
   "cell_type": "code",
   "execution_count": 34,
   "id": "abace86c-1c6d-4d33-929c-6b3cb8acb057",
   "metadata": {},
   "outputs": [],
   "source": [
    "df['organizations'] = df.apply(lambda x: [], axis=1)\n",
    "# Iterate over the rows of the DataFrame\n",
    "for index, row in df.iterrows():\n",
    "    items = []\n",
    "    for i in range(len(row['annotations_type'])):\n",
    "        if row['annotations_type'][i] == 'Organization':\n",
    "            items.append(row['annotations_text'][i])\n",
    "    df.at[index, 'organizations'] = items"
   ]
  },
  {
   "cell_type": "code",
   "execution_count": 35,
   "id": "ef29a4f4-15e5-449e-acff-cf719831d358",
   "metadata": {},
   "outputs": [],
   "source": [
    "df['organizations_count'] = df['annotations_type'].apply(lambda x: x.count('Organization'))"
   ]
  },
  {
   "cell_type": "code",
   "execution_count": 36,
   "id": "8d0d0d82-13cb-4aeb-8a67-06c7745797fd",
   "metadata": {},
   "outputs": [
    {
     "data": {
      "text/html": [
       "<div>\n",
       "<style scoped>\n",
       "    .dataframe tbody tr th:only-of-type {\n",
       "        vertical-align: middle;\n",
       "    }\n",
       "\n",
       "    .dataframe tbody tr th {\n",
       "        vertical-align: top;\n",
       "    }\n",
       "\n",
       "    .dataframe thead th {\n",
       "        text-align: right;\n",
       "    }\n",
       "</style>\n",
       "<table border=\"1\" class=\"dataframe\">\n",
       "  <thead>\n",
       "    <tr style=\"text-align: right;\">\n",
       "      <th></th>\n",
       "      <th>text</th>\n",
       "      <th>annotations_text</th>\n",
       "      <th>annotations_type</th>\n",
       "      <th>organizations</th>\n",
       "      <th>organizations_count</th>\n",
       "    </tr>\n",
       "  </thead>\n",
       "  <tbody>\n",
       "    <tr>\n",
       "      <th>4980</th>\n",
       "      <td>عاجل.......انفجار غامض ينسف مصفاة النفط باسم تندكويان  في مدينة عبادان  العربيه في الاحواز المحتله . https://t.co/DQgQmm4blO</td>\n",
       "      <td>[عبادان, العربيه]</td>\n",
       "      <td>[Place, Place]</td>\n",
       "      <td>[]</td>\n",
       "      <td>0</td>\n",
       "    </tr>\n",
       "    <tr>\n",
       "      <th>18966</th>\n",
       "      <td>عاجل:\\n\\nالقوات المسلحه الجنوبية تلقي القبض على #أمير_تنظيم_داعش_الإرهابي باليمن، الملقب بـ (أبو أسامة المهاجر) والمسؤول المالي للتنظيم وعدد من أعضاء التنظيم المرافقين له. https://t.co/0tbx1tKeRJ</td>\n",
       "      <td>[أبو أسامة المهاجر]</td>\n",
       "      <td>[Person]</td>\n",
       "      <td>[]</td>\n",
       "      <td>0</td>\n",
       "    </tr>\n",
       "    <tr>\n",
       "      <th>8238</th>\n",
       "      <td>ضبط مخدرات داخل مستودع في خراج فتقا كسروان\\nhttps://t.co/k3b2PR5rMw</td>\n",
       "      <td>[]</td>\n",
       "      <td>[]</td>\n",
       "      <td>[]</td>\n",
       "      <td>0</td>\n",
       "    </tr>\n",
       "    <tr>\n",
       "      <th>10153</th>\n",
       "      <td>استضافة أشهر لعـ*ــاني الصحـ*ــابة\\nعلى شاشات إعلام آل سعود\\nلعل خامنئي يرضى\\n\\nفي منهاج حكم آل سعود .. يبدو أن تعريف العقيدة الصحيحة يبدأ بـــ ((تقدير كلمات لـ*ــعن صحـ*ــابة النبـ*ــي واجلالها))\\n\\n#ايران  #السعودية   #العراق https://t.co/nTsJwcNOPZ</td>\n",
       "      <td>[آل سعود]</td>\n",
       "      <td>[Person]</td>\n",
       "      <td>[]</td>\n",
       "      <td>0</td>\n",
       "    </tr>\n",
       "    <tr>\n",
       "      <th>17706</th>\n",
       "      <td>صورة لقوافل الحجاج فى الصحراء إلتقطت عام 1934  عندما كان الحجاج يأتون من المغرب ليقابلوا حجاج الجزائر ثم تونس ثم ليبيا ويتقابلون فى النهاية مع الحجاج المصريين وذلك هرباً من عصابات آل سعود ويسيروا سوياً فى قافلة كبيرة إلى مكه المكرمة.\\n\\n! https://t.co/0nWNXphb12</td>\n",
       "      <td>[الجزائر, تونس, ليبيا, مكه المكرمة]</td>\n",
       "      <td>[Place, Place, Place, Place]</td>\n",
       "      <td>[]</td>\n",
       "      <td>0</td>\n",
       "    </tr>\n",
       "  </tbody>\n",
       "</table>\n",
       "</div>"
      ],
      "text/plain": [
       "                                                                                                                                                                                                                                                                         text  \\\n",
       "4980                                                                                                                                             عاجل.......انفجار غامض ينسف مصفاة النفط باسم تندكويان  في مدينة عبادان  العربيه في الاحواز المحتله . https://t.co/DQgQmm4blO   \n",
       "18966                                                                     عاجل:\\n\\nالقوات المسلحه الجنوبية تلقي القبض على #أمير_تنظيم_داعش_الإرهابي باليمن، الملقب بـ (أبو أسامة المهاجر) والمسؤول المالي للتنظيم وعدد من أعضاء التنظيم المرافقين له. https://t.co/0tbx1tKeRJ   \n",
       "8238                                                                                                                                                                                                      ضبط مخدرات داخل مستودع في خراج فتقا كسروان\\nhttps://t.co/k3b2PR5rMw   \n",
       "10153             استضافة أشهر لعـ*ــاني الصحـ*ــابة\\nعلى شاشات إعلام آل سعود\\nلعل خامنئي يرضى\\n\\nفي منهاج حكم آل سعود .. يبدو أن تعريف العقيدة الصحيحة يبدأ بـــ ((تقدير كلمات لـ*ــعن صحـ*ــابة النبـ*ــي واجلالها))\\n\\n#ايران  #السعودية   #العراق https://t.co/nTsJwcNOPZ   \n",
       "17706  صورة لقوافل الحجاج فى الصحراء إلتقطت عام 1934  عندما كان الحجاج يأتون من المغرب ليقابلوا حجاج الجزائر ثم تونس ثم ليبيا ويتقابلون فى النهاية مع الحجاج المصريين وذلك هرباً من عصابات آل سعود ويسيروا سوياً فى قافلة كبيرة إلى مكه المكرمة.\\n\\n! https://t.co/0nWNXphb12   \n",
       "\n",
       "                          annotations_text              annotations_type  \\\n",
       "4980                     [عبادان, العربيه]                [Place, Place]   \n",
       "18966                  [أبو أسامة المهاجر]                      [Person]   \n",
       "8238                                    []                            []   \n",
       "10153                            [آل سعود]                      [Person]   \n",
       "17706  [الجزائر, تونس, ليبيا, مكه المكرمة]  [Place, Place, Place, Place]   \n",
       "\n",
       "      organizations  organizations_count  \n",
       "4980             []                    0  \n",
       "18966            []                    0  \n",
       "8238             []                    0  \n",
       "10153            []                    0  \n",
       "17706            []                    0  "
      ]
     },
     "execution_count": 36,
     "metadata": {},
     "output_type": "execute_result"
    }
   ],
   "source": [
    "df[['text', 'annotations_text', 'annotations_type', 'organizations', 'organizations_count']].sample(5)"
   ]
  },
  {
   "cell_type": "markdown",
   "id": "ee1f93b4-d782-4733-a500-5ecdaf250ff8",
   "metadata": {},
   "source": [
    "#### Extract person"
   ]
  },
  {
   "cell_type": "code",
   "execution_count": 37,
   "id": "199de511",
   "metadata": {},
   "outputs": [],
   "source": [
    "df['persons'] = df.apply(lambda x: [], axis=1)\n",
    "# Iterate over the rows of the DataFrame\n",
    "for index, row in df.iterrows():\n",
    "    items = []\n",
    "    for i in range(len(row['annotations_type'])):\n",
    "        if row['annotations_type'][i] == 'Person':\n",
    "            items.append(row['annotations_text'][i])\n",
    "    df.at[index, 'persons'] = items"
   ]
  },
  {
   "cell_type": "code",
   "execution_count": 38,
   "id": "220de47c-b2dd-44fc-a534-502ecca17275",
   "metadata": {},
   "outputs": [],
   "source": [
    "df['persons_count'] = df['annotations_type'].apply(lambda x: x.count('Person'))"
   ]
  },
  {
   "cell_type": "code",
   "execution_count": 39,
   "id": "8826acf4-a5da-4c36-b5a3-85fcc4019fd9",
   "metadata": {},
   "outputs": [
    {
     "data": {
      "text/html": [
       "<div>\n",
       "<style scoped>\n",
       "    .dataframe tbody tr th:only-of-type {\n",
       "        vertical-align: middle;\n",
       "    }\n",
       "\n",
       "    .dataframe tbody tr th {\n",
       "        vertical-align: top;\n",
       "    }\n",
       "\n",
       "    .dataframe thead th {\n",
       "        text-align: right;\n",
       "    }\n",
       "</style>\n",
       "<table border=\"1\" class=\"dataframe\">\n",
       "  <thead>\n",
       "    <tr style=\"text-align: right;\">\n",
       "      <th></th>\n",
       "      <th>text</th>\n",
       "      <th>annotations_text</th>\n",
       "      <th>annotations_type</th>\n",
       "      <th>persons</th>\n",
       "      <th>persons_count</th>\n",
       "    </tr>\n",
       "  </thead>\n",
       "  <tbody>\n",
       "    <tr>\n",
       "      <th>18972</th>\n",
       "      <td>قيادة القوات المشتركة للتحالف :\\n\\nالقوات المسلحه الجنوبية تلقي القبض على #أمير_تنظيم_داعش_الإرهابي باليمن، الملقب بـ (أبو أسامة المهاجر) والمسؤول المالي للتنظيم وعدد من أعضاء التنظيم المرافقين له.\\n\\n#67_سنه_بدون_اسيا \\n#اليوم_الوطني_السعودي_92 \\n#المهره_جنوبيه_طارده_للارهاب \\n#الرياض https://t.co/cdMyEgNohB</td>\n",
       "      <td>[أبو أسامة المهاجر]</td>\n",
       "      <td>[Person]</td>\n",
       "      <td>[أبو أسامة المهاجر]</td>\n",
       "      <td>1</td>\n",
       "    </tr>\n",
       "    <tr>\n",
       "      <th>2917</th>\n",
       "      <td>تفاصيل هامة تنشر لأول مرة بشأن وفد #الحوثيين الذي وصل #السعودية\\nhttps://t.co/mdYKKzEsab\\nلمزيد من الاخبار اشتركو بقناتنا على تلجرام\\nhttps://t.co/Y0iHOkO8H0 https://t.co/tb2tGblCje</td>\n",
       "      <td>[]</td>\n",
       "      <td>[]</td>\n",
       "      <td>[]</td>\n",
       "      <td>0</td>\n",
       "    </tr>\n",
       "    <tr>\n",
       "      <th>12840</th>\n",
       "      <td>مجموعة مسلحة من #الحوثيين دخلوا سوق مازدا في الحصبة #صنعاء ليبتزوا الباعة المتجولين وأصحاب المحلات، ففاض كيل المواطنين وأوسعوهم ضربًا بالعصي 😁.  https://t.co/98aJO0rfob https://t.co/Cgyd6mDYid</td>\n",
       "      <td>[]</td>\n",
       "      <td>[]</td>\n",
       "      <td>[]</td>\n",
       "      <td>0</td>\n",
       "    </tr>\n",
       "    <tr>\n",
       "      <th>16473</th>\n",
       "      <td>الكفاح نيوز \\n\\nمنصور نظام الدين .. المدينة المنورة \\n\\nبمناسبة مونديال كأس العالم – قطر تعطل الدوام الرسمي لمدة شهر تزامنًا مع المونديال https://t.co/atkjJ0cc0n. #المدينة__المنورة</td>\n",
       "      <td>[المدينة المنورة, قطر]</td>\n",
       "      <td>[Place, Place]</td>\n",
       "      <td>[]</td>\n",
       "      <td>0</td>\n",
       "    </tr>\n",
       "    <tr>\n",
       "      <th>19674</th>\n",
       "      <td>اليابان توافق على إنجاز مشروع خط TGV خلال سنة 🇯🇵🇹🇳 ونحو إرساء وكالة فضاء يابانية JAXA في تونس 🇯🇵🇹🇳 https://t.co/S4QXJOaIXM</td>\n",
       "      <td>[اليابان, تونس]</td>\n",
       "      <td>[Place, Place]</td>\n",
       "      <td>[]</td>\n",
       "      <td>0</td>\n",
       "    </tr>\n",
       "  </tbody>\n",
       "</table>\n",
       "</div>"
      ],
      "text/plain": [
       "                                                                                                                                                                                                                                                                                                                         text  \\\n",
       "18972  قيادة القوات المشتركة للتحالف :\\n\\nالقوات المسلحه الجنوبية تلقي القبض على #أمير_تنظيم_داعش_الإرهابي باليمن، الملقب بـ (أبو أسامة المهاجر) والمسؤول المالي للتنظيم وعدد من أعضاء التنظيم المرافقين له.\\n\\n#67_سنه_بدون_اسيا \\n#اليوم_الوطني_السعودي_92 \\n#المهره_جنوبيه_طارده_للارهاب \\n#الرياض https://t.co/cdMyEgNohB   \n",
       "2917                                                                                                                                    تفاصيل هامة تنشر لأول مرة بشأن وفد #الحوثيين الذي وصل #السعودية\\nhttps://t.co/mdYKKzEsab\\nلمزيد من الاخبار اشتركو بقناتنا على تلجرام\\nhttps://t.co/Y0iHOkO8H0 https://t.co/tb2tGblCje   \n",
       "12840                                                                                                                        مجموعة مسلحة من #الحوثيين دخلوا سوق مازدا في الحصبة #صنعاء ليبتزوا الباعة المتجولين وأصحاب المحلات، ففاض كيل المواطنين وأوسعوهم ضربًا بالعصي 😁.  https://t.co/98aJO0rfob https://t.co/Cgyd6mDYid   \n",
       "16473                                                                                                                                    الكفاح نيوز \\n\\nمنصور نظام الدين .. المدينة المنورة \\n\\nبمناسبة مونديال كأس العالم – قطر تعطل الدوام الرسمي لمدة شهر تزامنًا مع المونديال https://t.co/atkjJ0cc0n. #المدينة__المنورة   \n",
       "19674                                                                                                                                                                                              اليابان توافق على إنجاز مشروع خط TGV خلال سنة 🇯🇵🇹🇳 ونحو إرساء وكالة فضاء يابانية JAXA في تونس 🇯🇵🇹🇳 https://t.co/S4QXJOaIXM   \n",
       "\n",
       "             annotations_text annotations_type              persons  \\\n",
       "18972     [أبو أسامة المهاجر]         [Person]  [أبو أسامة المهاجر]   \n",
       "2917                       []               []                   []   \n",
       "12840                      []               []                   []   \n",
       "16473  [المدينة المنورة, قطر]   [Place, Place]                   []   \n",
       "19674         [اليابان, تونس]   [Place, Place]                   []   \n",
       "\n",
       "       persons_count  \n",
       "18972              1  \n",
       "2917               0  \n",
       "12840              0  \n",
       "16473              0  \n",
       "19674              0  "
      ]
     },
     "execution_count": 39,
     "metadata": {},
     "output_type": "execute_result"
    }
   ],
   "source": [
    "df[['text', 'annotations_text', 'annotations_type', 'persons', 'persons_count']].sample(5)"
   ]
  },
  {
   "cell_type": "markdown",
   "id": "acb29f85-1d73-4ac6-aefb-a45df33782ee",
   "metadata": {},
   "source": [
    "#### Extract places"
   ]
  },
  {
   "cell_type": "code",
   "execution_count": 40,
   "id": "39d02404-d1ce-49ec-a83e-91940ed0b92e",
   "metadata": {},
   "outputs": [],
   "source": [
    "df['places'] = df.apply(lambda x: [], axis=1)\n",
    "# Iterate over the rows of the DataFrame\n",
    "for index, row in df.iterrows():\n",
    "    items = []\n",
    "    for i in range(len(row['annotations_type'])):\n",
    "        if row['annotations_type'][i] == 'Place':\n",
    "            items.append(row['annotations_text'][i])\n",
    "    df.at[index, 'places'] = items"
   ]
  },
  {
   "cell_type": "code",
   "execution_count": 41,
   "id": "15d33811-212e-4377-92da-fbdb62c96475",
   "metadata": {},
   "outputs": [],
   "source": [
    "df['places_count'] = df['annotations_type'].apply(lambda x: x.count('Place'))"
   ]
  },
  {
   "cell_type": "code",
   "execution_count": 42,
   "id": "9e9433d1-6104-44d3-b40a-9b3dedd750c6",
   "metadata": {},
   "outputs": [
    {
     "data": {
      "text/html": [
       "<div>\n",
       "<style scoped>\n",
       "    .dataframe tbody tr th:only-of-type {\n",
       "        vertical-align: middle;\n",
       "    }\n",
       "\n",
       "    .dataframe tbody tr th {\n",
       "        vertical-align: top;\n",
       "    }\n",
       "\n",
       "    .dataframe thead th {\n",
       "        text-align: right;\n",
       "    }\n",
       "</style>\n",
       "<table border=\"1\" class=\"dataframe\">\n",
       "  <thead>\n",
       "    <tr style=\"text-align: right;\">\n",
       "      <th></th>\n",
       "      <th>text</th>\n",
       "      <th>annotations_text</th>\n",
       "      <th>annotations_type</th>\n",
       "      <th>places</th>\n",
       "      <th>places_count</th>\n",
       "    </tr>\n",
       "  </thead>\n",
       "  <tbody>\n",
       "    <tr>\n",
       "      <th>4509</th>\n",
       "      <td>بعد أيام من إحباط السعودية محاولة تهريب كبتاغون في قلب شحنة رمُان من لبنان.. الكويت تحبط تهريب 16 كيلو مخدرات محشوة في شحنة أسماك \"هامور\" قادمة من إيران\\n https://t.co/sI1KNyIczF</td>\n",
       "      <td>[السعودية, رمُان, لبنان, الكويت, إيران]</td>\n",
       "      <td>[Place, Place, Place, Place, Place]</td>\n",
       "      <td>[السعودية, رمُان, لبنان, الكويت, إيران]</td>\n",
       "      <td>5</td>\n",
       "    </tr>\n",
       "    <tr>\n",
       "      <th>13404</th>\n",
       "      <td>🚨🚨🚨عاجل : رغم اصابته.. نجم توتنهام هيونج مين سون يعلن مشاركتة فى كأس العالم 🇰🇷🔥🔥 https://t.co/SeggIkPOua</td>\n",
       "      <td>[توتنهام, هيونج, مين سون]</td>\n",
       "      <td>[Organization, Person, Person]</td>\n",
       "      <td>[]</td>\n",
       "      <td>0</td>\n",
       "    </tr>\n",
       "    <tr>\n",
       "      <th>9826</th>\n",
       "      <td>#عاجل | \\n\\nقيادة القوات المشتركة للتحالف \"تحالف دعم الشرعية في اليمن\":\\n\\n▪ القوات الخاصة السعودية تلقي القبض على أمير تنظيم داعش الإرهابي باليمن، الملقب بـ ( أبو أسامة المهاجر ) والمسؤول المالي للتنظيم وعدد من أعضاء التنظيم المرافقين له. https://t.co/u6zVBIQt3L</td>\n",
       "      <td>[اليمن, السعودية, أبو أسامة المهاجر]</td>\n",
       "      <td>[Place, Place, Person]</td>\n",
       "      <td>[اليمن, السعودية]</td>\n",
       "      <td>2</td>\n",
       "    </tr>\n",
       "    <tr>\n",
       "      <th>16849</th>\n",
       "      <td>“سون هيونج مين” على رأس قائمة كوريا الجنوبية في كأس العالم https://t.co/5vb80E7Mh6</td>\n",
       "      <td>[سون هيونج, كوريا الجنوبية]</td>\n",
       "      <td>[Person, Place]</td>\n",
       "      <td>[كوريا الجنوبية]</td>\n",
       "      <td>1</td>\n",
       "    </tr>\n",
       "    <tr>\n",
       "      <th>11512</th>\n",
       "      <td>🗣️ كريستيانو رونالدو :\\n\\n\" أنا اشعر بالخيانة من مانشستر يونايتد ، النادي استخدمني كـ عذر لكل الاخفاقات التي حدثت ، لقد أجبروني على الخروج ، المدرب واشخاص آخرين أيضاً ، الأمر ليس جديدًا هناك أشخاص لم يرغبوا بوجودي في النادي مُنذ العام الماضي وليس هذا العام فقط \"</td>\n",
       "      <td>[كريستيانو رونالدو, مانشستر يونايتد]</td>\n",
       "      <td>[Person, Organization]</td>\n",
       "      <td>[]</td>\n",
       "      <td>0</td>\n",
       "    </tr>\n",
       "  </tbody>\n",
       "</table>\n",
       "</div>"
      ],
      "text/plain": [
       "                                                                                                                                                                                                                                                                          text  \\\n",
       "4509                                                                                        بعد أيام من إحباط السعودية محاولة تهريب كبتاغون في قلب شحنة رمُان من لبنان.. الكويت تحبط تهريب 16 كيلو مخدرات محشوة في شحنة أسماك \"هامور\" قادمة من إيران\\n https://t.co/sI1KNyIczF   \n",
       "13404                                                                                                                                                                 🚨🚨🚨عاجل : رغم اصابته.. نجم توتنهام هيونج مين سون يعلن مشاركتة فى كأس العالم 🇰🇷🔥🔥 https://t.co/SeggIkPOua   \n",
       "9826   #عاجل | \\n\\nقيادة القوات المشتركة للتحالف \"تحالف دعم الشرعية في اليمن\":\\n\\n▪ القوات الخاصة السعودية تلقي القبض على أمير تنظيم داعش الإرهابي باليمن، الملقب بـ ( أبو أسامة المهاجر ) والمسؤول المالي للتنظيم وعدد من أعضاء التنظيم المرافقين له. https://t.co/u6zVBIQt3L   \n",
       "16849                                                                                                                                                                                       “سون هيونج مين” على رأس قائمة كوريا الجنوبية في كأس العالم https://t.co/5vb80E7Mh6   \n",
       "11512   🗣️ كريستيانو رونالدو :\\n\\n\" أنا اشعر بالخيانة من مانشستر يونايتد ، النادي استخدمني كـ عذر لكل الاخفاقات التي حدثت ، لقد أجبروني على الخروج ، المدرب واشخاص آخرين أيضاً ، الأمر ليس جديدًا هناك أشخاص لم يرغبوا بوجودي في النادي مُنذ العام الماضي وليس هذا العام فقط \"   \n",
       "\n",
       "                              annotations_text  \\\n",
       "4509   [السعودية, رمُان, لبنان, الكويت, إيران]   \n",
       "13404                [توتنهام, هيونج, مين سون]   \n",
       "9826      [اليمن, السعودية, أبو أسامة المهاجر]   \n",
       "16849              [سون هيونج, كوريا الجنوبية]   \n",
       "11512     [كريستيانو رونالدو, مانشستر يونايتد]   \n",
       "\n",
       "                          annotations_type  \\\n",
       "4509   [Place, Place, Place, Place, Place]   \n",
       "13404       [Organization, Person, Person]   \n",
       "9826                [Place, Place, Person]   \n",
       "16849                      [Person, Place]   \n",
       "11512               [Person, Organization]   \n",
       "\n",
       "                                        places  places_count  \n",
       "4509   [السعودية, رمُان, لبنان, الكويت, إيران]             5  \n",
       "13404                                       []             0  \n",
       "9826                         [اليمن, السعودية]             2  \n",
       "16849                         [كوريا الجنوبية]             1  \n",
       "11512                                       []             0  "
      ]
     },
     "execution_count": 42,
     "metadata": {},
     "output_type": "execute_result"
    }
   ],
   "source": [
    "df[['text', 'annotations_text', 'annotations_type', 'places', 'places_count']].sample(5)"
   ]
  },
  {
   "cell_type": "markdown",
   "id": "ec172365-ae1a-4522-a994-aa3a3736fb57",
   "metadata": {},
   "source": [
    "#### Extract products"
   ]
  },
  {
   "cell_type": "code",
   "execution_count": 43,
   "id": "138d1d86",
   "metadata": {},
   "outputs": [],
   "source": [
    "df['products'] = df.apply(lambda x: [], axis=1)\n",
    "# Iterate over the rows of the DataFrame\n",
    "for index, row in df.iterrows():\n",
    "    items = []\n",
    "    for i in range(len(row['annotations_type'])):\n",
    "        if row['annotations_type'][i] == 'Product':\n",
    "            items.append(row['annotations_text'][i])\n",
    "    df.at[index, 'products'] = items"
   ]
  },
  {
   "cell_type": "code",
   "execution_count": 44,
   "id": "fa8a187e-e204-491a-965f-83b99d2d3891",
   "metadata": {},
   "outputs": [],
   "source": [
    "df['products_count'] = df['annotations_type'].apply(lambda x: x.count('Product'))"
   ]
  },
  {
   "cell_type": "code",
   "execution_count": 45,
   "id": "53dc9aa5-dabf-42d8-a893-dd824926c285",
   "metadata": {},
   "outputs": [
    {
     "data": {
      "text/html": [
       "<div>\n",
       "<style scoped>\n",
       "    .dataframe tbody tr th:only-of-type {\n",
       "        vertical-align: middle;\n",
       "    }\n",
       "\n",
       "    .dataframe tbody tr th {\n",
       "        vertical-align: top;\n",
       "    }\n",
       "\n",
       "    .dataframe thead th {\n",
       "        text-align: right;\n",
       "    }\n",
       "</style>\n",
       "<table border=\"1\" class=\"dataframe\">\n",
       "  <thead>\n",
       "    <tr style=\"text-align: right;\">\n",
       "      <th></th>\n",
       "      <th>text</th>\n",
       "      <th>annotations_text</th>\n",
       "      <th>annotations_type</th>\n",
       "      <th>products</th>\n",
       "      <th>products_count</th>\n",
       "    </tr>\n",
       "  </thead>\n",
       "  <tbody>\n",
       "    <tr>\n",
       "      <th>4128</th>\n",
       "      <td>رحلة الهروب من المسعودية 😂 https://t.co/FFyfg2epmL</td>\n",
       "      <td>[]</td>\n",
       "      <td>[]</td>\n",
       "      <td>[]</td>\n",
       "      <td>0</td>\n",
       "    </tr>\n",
       "    <tr>\n",
       "      <th>16095</th>\n",
       "      <td>@SufianSamarrai مسيرات في شوارع الفلوجة بالأنبار بعد الفوز https://t.co/aJl0okyk19</td>\n",
       "      <td>[]</td>\n",
       "      <td>[]</td>\n",
       "      <td>[]</td>\n",
       "      <td>0</td>\n",
       "    </tr>\n",
       "    <tr>\n",
       "      <th>7171</th>\n",
       "      <td>مشاهد من المناورة اليوم\\n#قسماً_قادرون_سنعبر \\n#مناورة_المقاومة_الإسلامية \\n#حزب_الله https://t.co/uF3ZZnSlF3</td>\n",
       "      <td>[]</td>\n",
       "      <td>[]</td>\n",
       "      <td>[]</td>\n",
       "      <td>0</td>\n",
       "    </tr>\n",
       "    <tr>\n",
       "      <th>4998</th>\n",
       "      <td>صاروخ \"تاو\" يبيد مجموعة كاملة من قوات #الأسد في #حماة (شاهد)\\nرابط بديل : https://t.co/7vZd5AGowm\\nhttps://t.co/ex30yuLXTZ</td>\n",
       "      <td>[]</td>\n",
       "      <td>[]</td>\n",
       "      <td>[]</td>\n",
       "      <td>0</td>\n",
       "    </tr>\n",
       "    <tr>\n",
       "      <th>10004</th>\n",
       "      <td>ربع مليون مصلى النهاردة فى رحاب المسجد الاقصى يا ولاد الأحبة عادى https://t.co/EDXYAJcisz</td>\n",
       "      <td>[]</td>\n",
       "      <td>[]</td>\n",
       "      <td>[]</td>\n",
       "      <td>0</td>\n",
       "    </tr>\n",
       "  </tbody>\n",
       "</table>\n",
       "</div>"
      ],
      "text/plain": [
       "                                                                                                                             text  \\\n",
       "4128                                                                           رحلة الهروب من المسعودية 😂 https://t.co/FFyfg2epmL   \n",
       "16095                                          @SufianSamarrai مسيرات في شوارع الفلوجة بالأنبار بعد الفوز https://t.co/aJl0okyk19   \n",
       "7171                مشاهد من المناورة اليوم\\n#قسماً_قادرون_سنعبر \\n#مناورة_المقاومة_الإسلامية \\n#حزب_الله https://t.co/uF3ZZnSlF3   \n",
       "4998   صاروخ \"تاو\" يبيد مجموعة كاملة من قوات #الأسد في #حماة (شاهد)\\nرابط بديل : https://t.co/7vZd5AGowm\\nhttps://t.co/ex30yuLXTZ   \n",
       "10004                                   ربع مليون مصلى النهاردة فى رحاب المسجد الاقصى يا ولاد الأحبة عادى https://t.co/EDXYAJcisz   \n",
       "\n",
       "      annotations_text annotations_type products  products_count  \n",
       "4128                []               []       []               0  \n",
       "16095               []               []       []               0  \n",
       "7171                []               []       []               0  \n",
       "4998                []               []       []               0  \n",
       "10004               []               []       []               0  "
      ]
     },
     "execution_count": 45,
     "metadata": {},
     "output_type": "execute_result"
    }
   ],
   "source": [
    "df[['text', 'annotations_text', 'annotations_type', 'products', 'products_count']].sample(5)"
   ]
  },
  {
   "cell_type": "markdown",
   "id": "a06094f4-0ca8-45db-b746-63aef548b06c",
   "metadata": {},
   "source": [
    "#### Hashtags"
   ]
  },
  {
   "cell_type": "code",
   "execution_count": 46,
   "id": "ebf7a8d0-7c0f-4afa-8f65-8c6e4c25952f",
   "metadata": {},
   "outputs": [
    {
     "data": {
      "text/plain": [
       "193                          []\n",
       "18463                        []\n",
       "4862                         []\n",
       "8399                         []\n",
       "421      ['ريف_دمشق', 'جرمانا']\n",
       "Name: hashtags, dtype: object"
      ]
     },
     "execution_count": 46,
     "metadata": {},
     "output_type": "execute_result"
    }
   ],
   "source": [
    "df['hashtags'].sample(5)"
   ]
  },
  {
   "cell_type": "code",
   "execution_count": 47,
   "id": "ed6ad245-87c7-4042-9a69-7cee70722577",
   "metadata": {},
   "outputs": [],
   "source": [
    "# Convert string columns to actual lists\n",
    "df['hashtags'] = df['hashtags'].apply(ast.literal_eval)"
   ]
  },
  {
   "cell_type": "code",
   "execution_count": 48,
   "id": "962d44d8-ebc1-49e4-a3ef-11b7d782d77b",
   "metadata": {},
   "outputs": [
    {
     "data": {
      "text/plain": [
       "18229                                     []\n",
       "7614     [قمه_جده, ولي_العهد, القمة_العربية]\n",
       "16248                          [صفعة_ماكرون]\n",
       "8015                                      []\n",
       "19007                [اليمن, السعودية, داعش]\n",
       "Name: hashtags, dtype: object"
      ]
     },
     "execution_count": 48,
     "metadata": {},
     "output_type": "execute_result"
    }
   ],
   "source": [
    "df['hashtags'].sample(5)"
   ]
  },
  {
   "cell_type": "code",
   "execution_count": 49,
   "id": "9d6ba2db-ecb4-45d7-9739-ae033ee70f78",
   "metadata": {},
   "outputs": [],
   "source": [
    "df['hashtags_count'] = df['hashtags'].apply(lambda x: len(x))"
   ]
  },
  {
   "cell_type": "code",
   "execution_count": 50,
   "id": "e778766e-0766-4a81-a205-54c93057fab5",
   "metadata": {},
   "outputs": [
    {
     "data": {
      "text/html": [
       "<div>\n",
       "<style scoped>\n",
       "    .dataframe tbody tr th:only-of-type {\n",
       "        vertical-align: middle;\n",
       "    }\n",
       "\n",
       "    .dataframe tbody tr th {\n",
       "        vertical-align: top;\n",
       "    }\n",
       "\n",
       "    .dataframe thead th {\n",
       "        text-align: right;\n",
       "    }\n",
       "</style>\n",
       "<table border=\"1\" class=\"dataframe\">\n",
       "  <thead>\n",
       "    <tr style=\"text-align: right;\">\n",
       "      <th></th>\n",
       "      <th>text</th>\n",
       "      <th>hashtags</th>\n",
       "      <th>hashtags_count</th>\n",
       "    </tr>\n",
       "  </thead>\n",
       "  <tbody>\n",
       "    <tr>\n",
       "      <th>3846</th>\n",
       "      <td>📸🎦⬇🚨\\n\\n*إعصار جيبي، أقوى إعصار في اليابان منذ 25 عاما، ضرب المنطقة الغربية من اليابان بعد ظهر اليوم الثلاثاء ليصل إلى اليابسة في الجزء الجنوبي من محافظة توكوشيما، حسبما أفادت هيئة الأرصاد الجوية. وتسبب الإعصار في تعطيل خدمات النقل بشكل كبير.*# https://t.co/oxjQqoGMoc</td>\n",
       "      <td>[]</td>\n",
       "      <td>0</td>\n",
       "    </tr>\n",
       "    <tr>\n",
       "      <th>8405</th>\n",
       "      <td>إبراهيموفيتش : \" كل شيء رائع في مونديال قطر ومن يرون عكس ذلك هم الشوا ذ فقط \" 🔥 https://t.co/8TstffcspI</td>\n",
       "      <td>[]</td>\n",
       "      <td>0</td>\n",
       "    </tr>\n",
       "    <tr>\n",
       "      <th>16009</th>\n",
       "      <td>راية الحشد الشعبي المقدس في ارض البرازيل.\\n#الحشد_باقي_وينتشر_على_عناد_ال_سعود https://t.co/ajWZGNB7Ei</td>\n",
       "      <td>[الحشد_باقي_وينتشر_على_عناد_ال_سعود]</td>\n",
       "      <td>1</td>\n",
       "    </tr>\n",
       "    <tr>\n",
       "      <th>15836</th>\n",
       "      <td>#قطر | السيطرة على حريق بأحد المباني قيد الانشاء في منطقة #لوسيل دون مصابين.\\n\\n#الخيمة_نيوز #قطر2022 https://t.co/ULVKeQavXw</td>\n",
       "      <td>[قطر, لوسيل, الخيمة_نيوز, قطر2022]</td>\n",
       "      <td>4</td>\n",
       "    </tr>\n",
       "    <tr>\n",
       "      <th>7677</th>\n",
       "      <td>\"#الجمارك\" تحبط تهريب 10 ملايين حبة كبتاجون مخدرة عبر منفذ #البطحاء.\\n\\n https://t.co/9a9xnNclXJ</td>\n",
       "      <td>[الجمارك, البطحاء]</td>\n",
       "      <td>2</td>\n",
       "    </tr>\n",
       "  </tbody>\n",
       "</table>\n",
       "</div>"
      ],
      "text/plain": [
       "                                                                                                                                                                                                                                                                               text  \\\n",
       "3846   📸🎦⬇🚨\\n\\n*إعصار جيبي، أقوى إعصار في اليابان منذ 25 عاما، ضرب المنطقة الغربية من اليابان بعد ظهر اليوم الثلاثاء ليصل إلى اليابسة في الجزء الجنوبي من محافظة توكوشيما، حسبما أفادت هيئة الأرصاد الجوية. وتسبب الإعصار في تعطيل خدمات النقل بشكل كبير.*# https://t.co/oxjQqoGMoc   \n",
       "8405                                                                                                                                                                        إبراهيموفيتش : \" كل شيء رائع في مونديال قطر ومن يرون عكس ذلك هم الشوا ذ فقط \" 🔥 https://t.co/8TstffcspI   \n",
       "16009                                                                                                                                                                        راية الحشد الشعبي المقدس في ارض البرازيل.\\n#الحشد_باقي_وينتشر_على_عناد_ال_سعود https://t.co/ajWZGNB7Ei   \n",
       "15836                                                                                                                                                 #قطر | السيطرة على حريق بأحد المباني قيد الانشاء في منطقة #لوسيل دون مصابين.\\n\\n#الخيمة_نيوز #قطر2022 https://t.co/ULVKeQavXw   \n",
       "7677                                                                                                                                                                               \"#الجمارك\" تحبط تهريب 10 ملايين حبة كبتاجون مخدرة عبر منفذ #البطحاء.\\n\\n https://t.co/9a9xnNclXJ   \n",
       "\n",
       "                                   hashtags  hashtags_count  \n",
       "3846                                     []               0  \n",
       "8405                                     []               0  \n",
       "16009  [الحشد_باقي_وينتشر_على_عناد_ال_سعود]               1  \n",
       "15836    [قطر, لوسيل, الخيمة_نيوز, قطر2022]               4  \n",
       "7677                     [الجمارك, البطحاء]               2  "
      ]
     },
     "execution_count": 50,
     "metadata": {},
     "output_type": "execute_result"
    }
   ],
   "source": [
    "df[['text', 'hashtags', 'hashtags_count']].sample(5)"
   ]
  },
  {
   "cell_type": "markdown",
   "id": "eccfdab6-c336-4a86-9684-cce1fb713ab5",
   "metadata": {},
   "source": [
    "## Tweet context"
   ]
  },
  {
   "cell_type": "code",
   "execution_count": 51,
   "id": "ee42e506-2c6c-472a-91ce-38c80b369f6f",
   "metadata": {},
   "outputs": [],
   "source": [
    "df['context_domain'] = df['context_domain'].apply(ast.literal_eval)"
   ]
  },
  {
   "cell_type": "code",
   "execution_count": 52,
   "id": "eaea229d-647b-4220-b20a-ebc1f401c37d",
   "metadata": {},
   "outputs": [],
   "source": [
    "df['context_entity'] = df['context_entity'].apply(ast.literal_eval)"
   ]
  },
  {
   "cell_type": "code",
   "execution_count": 53,
   "id": "5ace4f97-3dc5-4997-9db3-c32214ea3c1f",
   "metadata": {},
   "outputs": [
    {
     "data": {
      "text/html": [
       "<div>\n",
       "<style scoped>\n",
       "    .dataframe tbody tr th:only-of-type {\n",
       "        vertical-align: middle;\n",
       "    }\n",
       "\n",
       "    .dataframe tbody tr th {\n",
       "        vertical-align: top;\n",
       "    }\n",
       "\n",
       "    .dataframe thead th {\n",
       "        text-align: right;\n",
       "    }\n",
       "</style>\n",
       "<table border=\"1\" class=\"dataframe\">\n",
       "  <thead>\n",
       "    <tr style=\"text-align: right;\">\n",
       "      <th></th>\n",
       "      <th>text</th>\n",
       "      <th>context_domain</th>\n",
       "      <th>context_entity</th>\n",
       "    </tr>\n",
       "  </thead>\n",
       "  <tbody>\n",
       "    <tr>\n",
       "      <th>14339</th>\n",
       "      <td>❗شرطي سويدي يخنق طفلاً مسلماً يردد الشهادتين ❗ً ليس إرهاباً طالما إن الضحيه مسلم ❗  انشروها قبل ما يحذفون المقطع .. http://t.co/OcgRAsuRGd</td>\n",
       "      <td>[]</td>\n",
       "      <td>[]</td>\n",
       "    </tr>\n",
       "    <tr>\n",
       "      <th>12127</th>\n",
       "      <td>@s_alharbi2020 دخول معدات مصرية 🇪🇬 لإعمار غزة بقرار من رئيس #مصر\\nمفيش حد هياخد جنية في ايده\\nشركات مصرية هي اللي هتصرف وتعمر يعني لا حماس ولا عباس https://t.co/HOIhfADxHJ</td>\n",
       "      <td>[Unified Twitter Taxonomy]</td>\n",
       "      <td>[Popular Videos]</td>\n",
       "    </tr>\n",
       "    <tr>\n",
       "      <th>18968</th>\n",
       "      <td>مجلة التايم الأمريكية تختار  الرئيس القائد عيدروس الزبيدي كشخصية للعام وهو أول شخصية عربية تتصدر غلاف المجلة. https://t.co/ArQaNTpraQ</td>\n",
       "      <td>[]</td>\n",
       "      <td>[]</td>\n",
       "    </tr>\n",
       "    <tr>\n",
       "      <th>11408</th>\n",
       "      <td>#أحمد_شوبير يأكل ” عيش وحلاوة ” على الهوا ساخراً من #محمود_طاهر ومجلس إدارة #الأهلي | #مصر_الإخبارية... https://t.co/7MqdNWa8Wd</td>\n",
       "      <td>[]</td>\n",
       "      <td>[]</td>\n",
       "    </tr>\n",
       "    <tr>\n",
       "      <th>942</th>\n",
       "      <td>وقع قبل لحظات من بدء صلاة الجمعة.. هجوم انتحاري على مسجد شيعي بمدينة بيشاور في #باكستان تسبّـب في مقتل 56 شخصاً على الأقل وإصابة نحو 200 بجروح وتنظيم الدولة يعلن مسؤوليته عنه\\n#ألبوم https://t.co/w3O3Xdcqxa</td>\n",
       "      <td>[Brand Vertical, Entities [Entity Service], Brand, News Vertical, Unified Twitter Taxonomy]</td>\n",
       "      <td>[Entertainment, TV/Movies Related - Entertainment, Al Jazeera, World news, World news]</td>\n",
       "    </tr>\n",
       "  </tbody>\n",
       "</table>\n",
       "</div>"
      ],
      "text/plain": [
       "                                                                                                                                                                                                                 text  \\\n",
       "14339                                                                      ❗شرطي سويدي يخنق طفلاً مسلماً يردد الشهادتين ❗ً ليس إرهاباً طالما إن الضحيه مسلم ❗  انشروها قبل ما يحذفون المقطع .. http://t.co/OcgRAsuRGd   \n",
       "12127                                     @s_alharbi2020 دخول معدات مصرية 🇪🇬 لإعمار غزة بقرار من رئيس #مصر\\nمفيش حد هياخد جنية في ايده\\nشركات مصرية هي اللي هتصرف وتعمر يعني لا حماس ولا عباس https://t.co/HOIhfADxHJ   \n",
       "18968                                                                           مجلة التايم الأمريكية تختار  الرئيس القائد عيدروس الزبيدي كشخصية للعام وهو أول شخصية عربية تتصدر غلاف المجلة. https://t.co/ArQaNTpraQ   \n",
       "11408                                                                                 #أحمد_شوبير يأكل ” عيش وحلاوة ” على الهوا ساخراً من #محمود_طاهر ومجلس إدارة #الأهلي | #مصر_الإخبارية... https://t.co/7MqdNWa8Wd   \n",
       "942    وقع قبل لحظات من بدء صلاة الجمعة.. هجوم انتحاري على مسجد شيعي بمدينة بيشاور في #باكستان تسبّـب في مقتل 56 شخصاً على الأقل وإصابة نحو 200 بجروح وتنظيم الدولة يعلن مسؤوليته عنه\\n#ألبوم https://t.co/w3O3Xdcqxa   \n",
       "\n",
       "                                                                                    context_domain  \\\n",
       "14339                                                                                           []   \n",
       "12127                                                                   [Unified Twitter Taxonomy]   \n",
       "18968                                                                                           []   \n",
       "11408                                                                                           []   \n",
       "942    [Brand Vertical, Entities [Entity Service], Brand, News Vertical, Unified Twitter Taxonomy]   \n",
       "\n",
       "                                                                               context_entity  \n",
       "14339                                                                                      []  \n",
       "12127                                                                        [Popular Videos]  \n",
       "18968                                                                                      []  \n",
       "11408                                                                                      []  \n",
       "942    [Entertainment, TV/Movies Related - Entertainment, Al Jazeera, World news, World news]  "
      ]
     },
     "execution_count": 53,
     "metadata": {},
     "output_type": "execute_result"
    }
   ],
   "source": [
    "df[['text', 'context_domain', 'context_entity']].sample(5)"
   ]
  },
  {
   "cell_type": "code",
   "execution_count": 54,
   "id": "2898eff7-4af4-491c-8614-a90e82f66c75",
   "metadata": {},
   "outputs": [
    {
     "data": {
      "text/plain": [
       "Index(['tweet_id', 'possibly_sensitive', 'retweet_count', 'reply_count',\n",
       "       'like_count', 'quote_count', 'bookmark_count', 'impression_count',\n",
       "       'user_id', 'lang', 'annotations_text', 'annotations_type', 'hashtags',\n",
       "       'mentions', 'urls', 'urls_titles', 'urls_desc', 'context_domain',\n",
       "       'context_domain_desc', 'context_entity', 'context_entity_desc',\n",
       "       'copyright', 'withheld_country_codes', 'created_at', 'edits_remaining',\n",
       "       'is_edit_eligible', 'text', 'reply_settings', 'label',\n",
       "       'user_created_at', 'user_description', 'user_description_urls',\n",
       "       'user_description_hashtags', 'user_description_mentions', 'location',\n",
       "       'protected', 'followers_count', 'following_count', 'tweet_count',\n",
       "       'listed_count', 'user_like_count', 'verified', 'claim_id',\n",
       "       'text_arabic', 'text_length', 'emojis', 'emojis_count',\n",
       "       'emojis_total_count', 'annotations_count', 'organizations',\n",
       "       'organizations_count', 'persons', 'persons_count', 'places',\n",
       "       'places_count', 'products', 'products_count', 'hashtags_count'],\n",
       "      dtype='object')"
      ]
     },
     "execution_count": 54,
     "metadata": {},
     "output_type": "execute_result"
    }
   ],
   "source": [
    "df.columns"
   ]
  },
  {
   "cell_type": "code",
   "execution_count": 55,
   "id": "27bb999f-e205-407d-b650-2477833deea8",
   "metadata": {},
   "outputs": [],
   "source": [
    "textual_features = ['possibly_sensitive', 'annotations_text', 'annotations_type', 'hashtags',\n",
    "       'context_domain', 'context_domain_desc', 'context_entity', 'context_entity_desc',\n",
    "       'edits_remaining', 'is_edit_eligible', 'text', 'reply_settings', 'label',\n",
    "       'text_arabic', 'text_length', 'emojis', 'emojis_count', 'emojis_total_count', 'annotations_count',\n",
    "       'organizations', 'organizations_count', 'persons', 'persons_count',\n",
    "       'places', 'places_count', 'products', 'products_count', 'hashtags_count']"
   ]
  },
  {
   "cell_type": "code",
   "execution_count": 56,
   "id": "734822b3-d5b6-427e-8274-42b45336621f",
   "metadata": {},
   "outputs": [],
   "source": [
    "df_textual = df[textual_features]"
   ]
  },
  {
   "cell_type": "code",
   "execution_count": 57,
   "id": "214dbe50-e040-4e09-973c-d8d9b112951e",
   "metadata": {},
   "outputs": [],
   "source": [
    "df_textual.to_excel('data/05-VERA-ARB_Textual.xlsx', index=False)"
   ]
  },
  {
   "cell_type": "markdown",
   "id": "31281bbc-09bf-41dc-86cb-6ad6733c0980",
   "metadata": {},
   "source": [
    "# 2- User features"
   ]
  },
  {
   "cell_type": "markdown",
   "id": "8e9d0b78-de40-4c1c-b9f6-adc7a6f77f38",
   "metadata": {},
   "source": [
    "#### User mentions"
   ]
  },
  {
   "cell_type": "code",
   "execution_count": 58,
   "id": "dbf8052e-331e-478d-9263-45fd2907f659",
   "metadata": {},
   "outputs": [
    {
     "data": {
      "text/plain": [
       "1511     []\n",
       "11885    []\n",
       "18656    []\n",
       "9156     []\n",
       "2995     []\n",
       "Name: mentions, dtype: object"
      ]
     },
     "execution_count": 58,
     "metadata": {},
     "output_type": "execute_result"
    }
   ],
   "source": [
    "df['mentions'].sample(5)"
   ]
  },
  {
   "cell_type": "code",
   "execution_count": 59,
   "id": "75e02ed9-b018-417b-bf1c-984094109499",
   "metadata": {},
   "outputs": [],
   "source": [
    "# Convert string columns to actual lists\n",
    "df['mentions'] = df['mentions'].apply(ast.literal_eval)"
   ]
  },
  {
   "cell_type": "code",
   "execution_count": 60,
   "id": "98b92a72-1844-4fc1-a551-c9f35065a01a",
   "metadata": {},
   "outputs": [
    {
     "data": {
      "text/plain": [
       "3319    []\n",
       "7873    []\n",
       "3942    []\n",
       "6926    []\n",
       "661     []\n",
       "Name: mentions, dtype: object"
      ]
     },
     "execution_count": 60,
     "metadata": {},
     "output_type": "execute_result"
    }
   ],
   "source": [
    "df['mentions'].sample(5)"
   ]
  },
  {
   "cell_type": "code",
   "execution_count": 61,
   "id": "a8458146-f2d8-4322-aee4-e28643cb908b",
   "metadata": {},
   "outputs": [],
   "source": [
    "df['mentions_count'] = df['mentions'].apply(lambda x: len(x))"
   ]
  },
  {
   "cell_type": "code",
   "execution_count": 62,
   "id": "16ea3954-709b-4ef8-92e0-4a8e69ad39e6",
   "metadata": {},
   "outputs": [
    {
     "data": {
      "text/html": [
       "<div>\n",
       "<style scoped>\n",
       "    .dataframe tbody tr th:only-of-type {\n",
       "        vertical-align: middle;\n",
       "    }\n",
       "\n",
       "    .dataframe tbody tr th {\n",
       "        vertical-align: top;\n",
       "    }\n",
       "\n",
       "    .dataframe thead th {\n",
       "        text-align: right;\n",
       "    }\n",
       "</style>\n",
       "<table border=\"1\" class=\"dataframe\">\n",
       "  <thead>\n",
       "    <tr style=\"text-align: right;\">\n",
       "      <th></th>\n",
       "      <th>mentions</th>\n",
       "      <th>mentions_count</th>\n",
       "    </tr>\n",
       "  </thead>\n",
       "  <tbody>\n",
       "    <tr>\n",
       "      <th>11165</th>\n",
       "      <td>[]</td>\n",
       "      <td>0</td>\n",
       "    </tr>\n",
       "    <tr>\n",
       "      <th>19364</th>\n",
       "      <td>[]</td>\n",
       "      <td>0</td>\n",
       "    </tr>\n",
       "    <tr>\n",
       "      <th>16459</th>\n",
       "      <td>[]</td>\n",
       "      <td>0</td>\n",
       "    </tr>\n",
       "    <tr>\n",
       "      <th>19751</th>\n",
       "      <td>[]</td>\n",
       "      <td>0</td>\n",
       "    </tr>\n",
       "    <tr>\n",
       "      <th>2396</th>\n",
       "      <td>[]</td>\n",
       "      <td>0</td>\n",
       "    </tr>\n",
       "  </tbody>\n",
       "</table>\n",
       "</div>"
      ],
      "text/plain": [
       "      mentions  mentions_count\n",
       "11165       []               0\n",
       "19364       []               0\n",
       "16459       []               0\n",
       "19751       []               0\n",
       "2396        []               0"
      ]
     },
     "execution_count": 62,
     "metadata": {},
     "output_type": "execute_result"
    }
   ],
   "source": [
    "df[['mentions', 'mentions_count']].sample(5)"
   ]
  },
  {
   "cell_type": "markdown",
   "id": "6ab97d6b-166e-4672-9be5-12b09775b359",
   "metadata": {},
   "source": [
    "#### User description"
   ]
  },
  {
   "cell_type": "code",
   "execution_count": 63,
   "id": "34f3c7bc-4b9b-4c1a-a906-513f156095f2",
   "metadata": {},
   "outputs": [
    {
     "data": {
      "text/html": [
       "<div>\n",
       "<style scoped>\n",
       "    .dataframe tbody tr th:only-of-type {\n",
       "        vertical-align: middle;\n",
       "    }\n",
       "\n",
       "    .dataframe tbody tr th {\n",
       "        vertical-align: top;\n",
       "    }\n",
       "\n",
       "    .dataframe thead th {\n",
       "        text-align: right;\n",
       "    }\n",
       "</style>\n",
       "<table border=\"1\" class=\"dataframe\">\n",
       "  <thead>\n",
       "    <tr style=\"text-align: right;\">\n",
       "      <th></th>\n",
       "      <th>user_description</th>\n",
       "      <th>user_description_urls</th>\n",
       "      <th>user_description_hashtags</th>\n",
       "      <th>user_description_mentions</th>\n",
       "    </tr>\n",
       "  </thead>\n",
       "  <tbody>\n",
       "    <tr>\n",
       "      <th>16837</th>\n",
       "      <td>NaN</td>\n",
       "      <td>[]</td>\n",
       "      <td>[]</td>\n",
       "      <td>[]</td>\n",
       "    </tr>\n",
       "    <tr>\n",
       "      <th>9337</th>\n",
       "      <td>رعاة الإبل🐪 وساكني الخيمة⛺ ولنا الفخر\\nلنا الافعال ولكم ردح العوالم🎷</td>\n",
       "      <td>['http://noaf1358.sarhne.com']</td>\n",
       "      <td>[]</td>\n",
       "      <td>[]</td>\n",
       "    </tr>\n",
       "    <tr>\n",
       "      <th>2920</th>\n",
       "      <td>صحفي يمني ـ امارس عملي الصحفي والاعلامي منذ عام 2008 اجيد التحليلات السياسية وكتابة المقالات مديرآ سابقآ لمركز هدى القران للدراسات الاستراتيجية</td>\n",
       "      <td>[]</td>\n",
       "      <td>[]</td>\n",
       "      <td>[]</td>\n",
       "    </tr>\n",
       "    <tr>\n",
       "      <th>14744</th>\n",
       "      <td>مدرس أحياء 🧬🔬\\nIn love with #Al_Ahly 🦅 #AC_Milan 🔴⚫\\n\\nhttps://t.co/7fIDLAOWNL</td>\n",
       "      <td>['https://www.facebook.com']</td>\n",
       "      <td>['Al_Ahly', 'AC_Milan']</td>\n",
       "      <td>[]</td>\n",
       "    </tr>\n",
       "    <tr>\n",
       "      <th>7793</th>\n",
       "      <td>أجمل منصة ترفيهية لأخبار و احداث النجوم والمشاهير حول العالم | الخاص للدعاية و الإعلان</td>\n",
       "      <td>['http://t.me/egphpp']</td>\n",
       "      <td>['فولو']</td>\n",
       "      <td>[]</td>\n",
       "    </tr>\n",
       "    <tr>\n",
       "      <th>7968</th>\n",
       "      <td>ناصر الحق ولو بكلمة</td>\n",
       "      <td>[]</td>\n",
       "      <td>['فلسطين']</td>\n",
       "      <td>[]</td>\n",
       "    </tr>\n",
       "    <tr>\n",
       "      <th>19886</th>\n",
       "      <td>نيوز كوم - كل ما هو حصري . الإعلانات التواصل عن طريق الخاص - مرخصة من قبل وزارة الإعلام</td>\n",
       "      <td>[]</td>\n",
       "      <td>[]</td>\n",
       "      <td>[]</td>\n",
       "    </tr>\n",
       "    <tr>\n",
       "      <th>15073</th>\n",
       "      <td>اللهم صلي وسلم على نبينا محمد 🌹</td>\n",
       "      <td>[]</td>\n",
       "      <td>['قنوات_الكاس']</td>\n",
       "      <td>[]</td>\n",
       "    </tr>\n",
       "    <tr>\n",
       "      <th>3518</th>\n",
       "      <td>صحيفة تصدر عن مؤسسة المرصد للنشر الإلكتروني | للتواصل info@al-marsd.com</td>\n",
       "      <td>[]</td>\n",
       "      <td>[]</td>\n",
       "      <td>[]</td>\n",
       "    </tr>\n",
       "    <tr>\n",
       "      <th>5845</th>\n",
       "      <td>(  البحث عن موقع في عالم البزنزس)   التفائل سمتي</td>\n",
       "      <td>[]</td>\n",
       "      <td>['السعودية']</td>\n",
       "      <td>[]</td>\n",
       "    </tr>\n",
       "  </tbody>\n",
       "</table>\n",
       "</div>"
      ],
      "text/plain": [
       "                                                                                                                                      user_description  \\\n",
       "16837                                                                                                                                              NaN   \n",
       "9337                                                                              رعاة الإبل🐪 وساكني الخيمة⛺ ولنا الفخر\\nلنا الافعال ولكم ردح العوالم🎷   \n",
       "2920   صحفي يمني ـ امارس عملي الصحفي والاعلامي منذ عام 2008 اجيد التحليلات السياسية وكتابة المقالات مديرآ سابقآ لمركز هدى القران للدراسات الاستراتيجية   \n",
       "14744                                                                   مدرس أحياء 🧬🔬\\nIn love with #Al_Ahly 🦅 #AC_Milan 🔴⚫\\n\\nhttps://t.co/7fIDLAOWNL   \n",
       "7793                                                            أجمل منصة ترفيهية لأخبار و احداث النجوم والمشاهير حول العالم | الخاص للدعاية و الإعلان   \n",
       "7968                                                                                                                               ناصر الحق ولو بكلمة   \n",
       "19886                                                          نيوز كوم - كل ما هو حصري . الإعلانات التواصل عن طريق الخاص - مرخصة من قبل وزارة الإعلام   \n",
       "15073                                                                                                                  اللهم صلي وسلم على نبينا محمد 🌹   \n",
       "3518                                                                           صحيفة تصدر عن مؤسسة المرصد للنشر الإلكتروني | للتواصل info@al-marsd.com   \n",
       "5845                                                                                                  (  البحث عن موقع في عالم البزنزس)   التفائل سمتي   \n",
       "\n",
       "                user_description_urls user_description_hashtags  \\\n",
       "16837                              []                        []   \n",
       "9337   ['http://noaf1358.sarhne.com']                        []   \n",
       "2920                               []                        []   \n",
       "14744    ['https://www.facebook.com']   ['Al_Ahly', 'AC_Milan']   \n",
       "7793           ['http://t.me/egphpp']                  ['فولو']   \n",
       "7968                               []                ['فلسطين']   \n",
       "19886                              []                        []   \n",
       "15073                              []           ['قنوات_الكاس']   \n",
       "3518                               []                        []   \n",
       "5845                               []              ['السعودية']   \n",
       "\n",
       "      user_description_mentions  \n",
       "16837                        []  \n",
       "9337                         []  \n",
       "2920                         []  \n",
       "14744                        []  \n",
       "7793                         []  \n",
       "7968                         []  \n",
       "19886                        []  \n",
       "15073                        []  \n",
       "3518                         []  \n",
       "5845                         []  "
      ]
     },
     "execution_count": 63,
     "metadata": {},
     "output_type": "execute_result"
    }
   ],
   "source": [
    "df[['user_description', 'user_description_urls', 'user_description_hashtags', 'user_description_mentions']].sample(10)"
   ]
  },
  {
   "cell_type": "code",
   "execution_count": 64,
   "id": "27556554-b290-4ef2-a7ad-73001fa52be0",
   "metadata": {},
   "outputs": [],
   "source": [
    "df['user_description_text'] = df['user_description'].apply(filter_text)"
   ]
  },
  {
   "cell_type": "code",
   "execution_count": 65,
   "id": "a456a1a5-40ab-4108-a405-f062f9995f64",
   "metadata": {},
   "outputs": [
    {
     "data": {
      "text/html": [
       "<div>\n",
       "<style scoped>\n",
       "    .dataframe tbody tr th:only-of-type {\n",
       "        vertical-align: middle;\n",
       "    }\n",
       "\n",
       "    .dataframe tbody tr th {\n",
       "        vertical-align: top;\n",
       "    }\n",
       "\n",
       "    .dataframe thead th {\n",
       "        text-align: right;\n",
       "    }\n",
       "</style>\n",
       "<table border=\"1\" class=\"dataframe\">\n",
       "  <thead>\n",
       "    <tr style=\"text-align: right;\">\n",
       "      <th></th>\n",
       "      <th>user_description</th>\n",
       "      <th>user_description_text</th>\n",
       "    </tr>\n",
       "  </thead>\n",
       "  <tbody>\n",
       "    <tr>\n",
       "      <th>17037</th>\n",
       "      <td>”إنّ خيرَ اللهِ مُقبِل .. كلّ ما ترجوهُ آتٍ“</td>\n",
       "      <td>إنّ خيرَ اللهِ مُقبِل .. كلّ ما ترجوهُ آتٍ</td>\n",
       "    </tr>\n",
       "    <tr>\n",
       "      <th>19847</th>\n",
       "      <td>سينالك الاذى من الذين يعيشون في وطنك كالغرباء؛\\n؛؛؛؛؛؛؛؛؛؛؛؛؛؛؛؛؛؛ \\nلاتبرر فشلك بتقليل شأن الاخرين  ..\\nواعلم ان نجاحك مرهون باخلاقك؛؛</td>\n",
       "      <td>سينالك الاذى من الذين يعيشون في وطنك كالغرباء؛ ؛؛؛؛؛؛؛؛؛؛؛؛؛؛؛؛؛؛  لاتبرر فشلك بتقليل شأن الاخرين  .. واعلم ان نجاحك مرهون باخلاقك؛؛</td>\n",
       "    </tr>\n",
       "    <tr>\n",
       "      <th>7569</th>\n",
       "      <td>حساب يلقي الضوء على المجتمع السعودي من الداخل ويرصد الأخبار العاجلة والمهمة، ويتابع التطورات ومدى انعكاسها على المواطن</td>\n",
       "      <td>حساب يلقي الضوء على المجتمع السعودي من الداخل ويرصد الأخبار العاجلة والمهمة، ويتابع التطورات ومدى انعكاسها على المواطن</td>\n",
       "    </tr>\n",
       "    <tr>\n",
       "      <th>8387</th>\n",
       "      <td>(Lazy) Blogger, Tech Lover &amp; PlayStation Player. I tweet my own thoughts about anything, literally .. つづく</td>\n",
       "      <td>.         ..</td>\n",
       "    </tr>\n",
       "    <tr>\n",
       "      <th>12368</th>\n",
       "      <td>المحترم يفرض علي ان احترمه غيرتي علي الله ورسوله ووطني ومليكي اعتز بحبي لكيان النادي العالمي النصر السعودي</td>\n",
       "      <td>المحترم يفرض علي ان احترمه غيرتي علي الله ورسوله ووطني ومليكي اعتز بحبي لكيان النادي العالمي النصر السعودي</td>\n",
       "    </tr>\n",
       "  </tbody>\n",
       "</table>\n",
       "</div>"
      ],
      "text/plain": [
       "                                                                                                                              user_description  \\\n",
       "17037                                                                                             ”إنّ خيرَ اللهِ مُقبِل .. كلّ ما ترجوهُ آتٍ“   \n",
       "19847  سينالك الاذى من الذين يعيشون في وطنك كالغرباء؛\\n؛؛؛؛؛؛؛؛؛؛؛؛؛؛؛؛؛؛ \\nلاتبرر فشلك بتقليل شأن الاخرين  ..\\nواعلم ان نجاحك مرهون باخلاقك؛؛   \n",
       "7569                    حساب يلقي الضوء على المجتمع السعودي من الداخل ويرصد الأخبار العاجلة والمهمة، ويتابع التطورات ومدى انعكاسها على المواطن   \n",
       "8387                                 (Lazy) Blogger, Tech Lover & PlayStation Player. I tweet my own thoughts about anything, literally .. つづく   \n",
       "12368                               المحترم يفرض علي ان احترمه غيرتي علي الله ورسوله ووطني ومليكي اعتز بحبي لكيان النادي العالمي النصر السعودي   \n",
       "\n",
       "                                                                                                                      user_description_text  \n",
       "17037                                                                                            إنّ خيرَ اللهِ مُقبِل .. كلّ ما ترجوهُ آتٍ  \n",
       "19847  سينالك الاذى من الذين يعيشون في وطنك كالغرباء؛ ؛؛؛؛؛؛؛؛؛؛؛؛؛؛؛؛؛؛  لاتبرر فشلك بتقليل شأن الاخرين  .. واعلم ان نجاحك مرهون باخلاقك؛؛  \n",
       "7569                 حساب يلقي الضوء على المجتمع السعودي من الداخل ويرصد الأخبار العاجلة والمهمة، ويتابع التطورات ومدى انعكاسها على المواطن  \n",
       "8387                                                                                                                          .         ..   \n",
       "12368                            المحترم يفرض علي ان احترمه غيرتي علي الله ورسوله ووطني ومليكي اعتز بحبي لكيان النادي العالمي النصر السعودي  "
      ]
     },
     "execution_count": 65,
     "metadata": {},
     "output_type": "execute_result"
    }
   ],
   "source": [
    "df[['user_description', 'user_description_text']].sample(5)"
   ]
  },
  {
   "cell_type": "code",
   "execution_count": 66,
   "id": "4cc647fc-6eff-4866-9d3f-8ae1e3d0c32f",
   "metadata": {},
   "outputs": [],
   "source": [
    "df['user_description_emojis'] = df['user_description'].apply(extract_emojis)"
   ]
  },
  {
   "cell_type": "code",
   "execution_count": 67,
   "id": "3365026b-a107-442a-b842-b859b623d7fa",
   "metadata": {},
   "outputs": [
    {
     "data": {
      "text/html": [
       "<div>\n",
       "<style scoped>\n",
       "    .dataframe tbody tr th:only-of-type {\n",
       "        vertical-align: middle;\n",
       "    }\n",
       "\n",
       "    .dataframe tbody tr th {\n",
       "        vertical-align: top;\n",
       "    }\n",
       "\n",
       "    .dataframe thead th {\n",
       "        text-align: right;\n",
       "    }\n",
       "</style>\n",
       "<table border=\"1\" class=\"dataframe\">\n",
       "  <thead>\n",
       "    <tr style=\"text-align: right;\">\n",
       "      <th></th>\n",
       "      <th>user_description</th>\n",
       "      <th>user_description_emojis</th>\n",
       "    </tr>\n",
       "  </thead>\n",
       "  <tbody>\n",
       "    <tr>\n",
       "      <th>11324</th>\n",
       "      <td>اخبار عاجلة عالمية</td>\n",
       "      <td>{}</td>\n",
       "    </tr>\n",
       "    <tr>\n",
       "      <th>8932</th>\n",
       "      <td>يومية شاملة تصدر عن دار الوطن للطباعة والنشر والتوزيع – تأسست سنة 1995م ..تابعوا كل الأخبار عبر هاشتاج #جريدة_الوطن_القطرية  📰🇶🇦</td>\n",
       "      <td>{'🇶🇦': 'flag: Qatar', '📰': 'newspaper'}</td>\n",
       "    </tr>\n",
       "    <tr>\n",
       "      <th>15927</th>\n",
       "      <td>إنسان عايش يتأمل .. ويأمل .. مسلم .. عربي .. السعودية أولوية .</td>\n",
       "      <td>{}</td>\n",
       "    </tr>\n",
       "    <tr>\n",
       "      <th>5486</th>\n",
       "      <td>NaN</td>\n",
       "      <td></td>\n",
       "    </tr>\n",
       "    <tr>\n",
       "      <th>8722</th>\n",
       "      <td>NaN</td>\n",
       "      <td></td>\n",
       "    </tr>\n",
       "    <tr>\n",
       "      <th>13291</th>\n",
       "      <td>عراقي🇮🇶 صدري</td>\n",
       "      <td>{'🇮🇶': 'flag: Iraq'}</td>\n",
       "    </tr>\n",
       "    <tr>\n",
       "      <th>54</th>\n",
       "      <td>Author/Editor-in-Chief of American and International Affairs/ Dr.SamXPlatform/ Political Activist, Ph.D.Cognitive Psychology/Doctoral Academic Researcher at GCU</td>\n",
       "      <td>{}</td>\n",
       "    </tr>\n",
       "    <tr>\n",
       "      <th>5133</th>\n",
       "      <td>⛈️🌴</td>\n",
       "      <td>{'🌴': 'palm tree', '⛈️': 'cloud with lightning and rain'}</td>\n",
       "    </tr>\n",
       "    <tr>\n",
       "      <th>3281</th>\n",
       "      <td>إعلامي حر.. إلهي نفسي وانفاسي وكل شعرةٍ وذرةٍ تقول صوتاً وصمتاً واعجاماً وإعراباً : لاغنى لي طرفة عينٍ عن رحمتك ورضاك وغفرانك</td>\n",
       "      <td>{}</td>\n",
       "    </tr>\n",
       "    <tr>\n",
       "      <th>3344</th>\n",
       "      <td>أكتب ما يحلو لي .. ولست مسؤول عن إستيعابك الخاطئ لتغريدتي</td>\n",
       "      <td>{}</td>\n",
       "    </tr>\n",
       "  </tbody>\n",
       "</table>\n",
       "</div>"
      ],
      "text/plain": [
       "                                                                                                                                                       user_description  \\\n",
       "11324                                                                                                                                                اخبار عاجلة عالمية   \n",
       "8932                                   يومية شاملة تصدر عن دار الوطن للطباعة والنشر والتوزيع – تأسست سنة 1995م ..تابعوا كل الأخبار عبر هاشتاج #جريدة_الوطن_القطرية  📰🇶🇦   \n",
       "15927                                                                                                    إنسان عايش يتأمل .. ويأمل .. مسلم .. عربي .. السعودية أولوية .   \n",
       "5486                                                                                                                                                                NaN   \n",
       "8722                                                                                                                                                                NaN   \n",
       "13291                                                                                                                                                      عراقي🇮🇶 صدري   \n",
       "54     Author/Editor-in-Chief of American and International Affairs/ Dr.SamXPlatform/ Political Activist, Ph.D.Cognitive Psychology/Doctoral Academic Researcher at GCU   \n",
       "5133                                                                                                                                                                ⛈️🌴   \n",
       "3281                                      إعلامي حر.. إلهي نفسي وانفاسي وكل شعرةٍ وذرةٍ تقول صوتاً وصمتاً واعجاماً وإعراباً : لاغنى لي طرفة عينٍ عن رحمتك ورضاك وغفرانك   \n",
       "3344                                                                                                          أكتب ما يحلو لي .. ولست مسؤول عن إستيعابك الخاطئ لتغريدتي   \n",
       "\n",
       "                                         user_description_emojis  \n",
       "11324                                                         {}  \n",
       "8932                     {'🇶🇦': 'flag: Qatar', '📰': 'newspaper'}  \n",
       "15927                                                         {}  \n",
       "5486                                                              \n",
       "8722                                                              \n",
       "13291                                       {'🇮🇶': 'flag: Iraq'}  \n",
       "54                                                            {}  \n",
       "5133   {'🌴': 'palm tree', '⛈️': 'cloud with lightning and rain'}  \n",
       "3281                                                          {}  \n",
       "3344                                                          {}  "
      ]
     },
     "execution_count": 67,
     "metadata": {},
     "output_type": "execute_result"
    }
   ],
   "source": [
    "df[['user_description', 'user_description_emojis']].sample(10)"
   ]
  },
  {
   "cell_type": "code",
   "execution_count": 68,
   "id": "316e800c-5eff-4721-87c1-633aa6e7ebb5",
   "metadata": {},
   "outputs": [],
   "source": [
    "df['user_description_emojis_count'] =  df.apply(lambda row: count_emojis(row['user_description'], row['user_description_emojis']), axis=1)"
   ]
  },
  {
   "cell_type": "code",
   "execution_count": 69,
   "id": "a1a1af4d-6b1f-4646-be15-ecba7d1e379f",
   "metadata": {},
   "outputs": [
    {
     "data": {
      "text/html": [
       "<div>\n",
       "<style scoped>\n",
       "    .dataframe tbody tr th:only-of-type {\n",
       "        vertical-align: middle;\n",
       "    }\n",
       "\n",
       "    .dataframe tbody tr th {\n",
       "        vertical-align: top;\n",
       "    }\n",
       "\n",
       "    .dataframe thead th {\n",
       "        text-align: right;\n",
       "    }\n",
       "</style>\n",
       "<table border=\"1\" class=\"dataframe\">\n",
       "  <thead>\n",
       "    <tr style=\"text-align: right;\">\n",
       "      <th></th>\n",
       "      <th>user_description</th>\n",
       "      <th>user_description_emojis</th>\n",
       "      <th>user_description_emojis_count</th>\n",
       "    </tr>\n",
       "  </thead>\n",
       "  <tbody>\n",
       "    <tr>\n",
       "      <th>13352</th>\n",
       "      <td>‏‏‏‏جريدة رياضيه كويتية يمثِلُها قانونياً المحامي خالد السلطان بنيد القار ق٣ ش٦٤ مجمع ديما الدور الخامس مكتب ١٦ / ٩٩٣٣٣٠٠٩ /٦٧٦٢٦٢٦٩ ترحيص وزارةرقم 391-2020</td>\n",
       "      <td>{}</td>\n",
       "      <td>{}</td>\n",
       "    </tr>\n",
       "    <tr>\n",
       "      <th>18053</th>\n",
       "      <td>ان جاك مني طيب تستاهل الطيب وان جاك غير الطيب هذي سواياك Real Madrid 👑 Powerlifting 🏋🏼‍♂️ 💛Qadisiyah 🎬 Movie 🍿🎮 Games</td>\n",
       "      <td>{'🏋🏼‍♂️': 'man lifting weights: medium-light skin tone', '💛': 'yellow heart', '👑': 'crown', '🍿': 'popcorn', '🎮': 'video game', '🎬': 'clapper board'}</td>\n",
       "      <td>{'🏋🏼‍♂️': 1, '💛': 1, '👑': 1, '🍿': 1, '🎮': 1, '🎬': 1}</td>\n",
       "    </tr>\n",
       "    <tr>\n",
       "      <th>13292</th>\n",
       "      <td>السيد محمد الصدر .. بحر كلما شربنا منه، تـُقـنا الى مائهِ وفيضه،وكلما أبحرنا فيه اكتشفناه أكثر وأكثر</td>\n",
       "      <td>{}</td>\n",
       "      <td>{}</td>\n",
       "    </tr>\n",
       "    <tr>\n",
       "      <th>6458</th>\n",
       "      <td>‏‏‏‏‏‏‏‏‏‏‏‎‎‎‎‎‎‎‎‎‎‎#شبوه_الجنوب_العربي\\nناشط حقوقي جنوبي\\nمدافع عن حقوق الانسان فوق أي أرض وتحت أي سماء\\nHuman Rights Activist</td>\n",
       "      <td>{}</td>\n",
       "      <td>{}</td>\n",
       "    </tr>\n",
       "    <tr>\n",
       "      <th>11767</th>\n",
       "      <td>تابعتك رد المتابعة</td>\n",
       "      <td>{}</td>\n",
       "      <td>{}</td>\n",
       "    </tr>\n",
       "    <tr>\n",
       "      <th>12617</th>\n",
       "      <td>NaN</td>\n",
       "      <td></td>\n",
       "      <td>{}</td>\n",
       "    </tr>\n",
       "    <tr>\n",
       "      <th>11387</th>\n",
       "      <td>The official Group of Zamalek ⚪️🔴 Supporters in UAE 🇦🇪</td>\n",
       "      <td>{'🔴': 'red circle', '🇦🇪': 'flag: United Arab Emirates', '⚪': 'white circle'}</td>\n",
       "      <td>{'🔴': 1, '🇦🇪': 1, '⚪': 1}</td>\n",
       "    </tr>\n",
       "    <tr>\n",
       "      <th>4624</th>\n",
       "      <td>ممنوع السياسة 🚫✋🏻\\n🖤 صراحة 🖤\\nhttps://t.co/z7Rg1aCP0P</td>\n",
       "      <td>{'✋🏻': 'raised hand: light skin tone', '🚫': 'prohibited', '🖤': 'black heart'}</td>\n",
       "      <td>{'✋🏻': 1, '🚫': 1, '🖤': 2}</td>\n",
       "    </tr>\n",
       "    <tr>\n",
       "      <th>11964</th>\n",
       "      <td>مدوُن | ككهلٍ مرَّ بالعشرينَ سهوًا</td>\n",
       "      <td>{}</td>\n",
       "      <td>{}</td>\n",
       "    </tr>\n",
       "    <tr>\n",
       "      <th>9116</th>\n",
       "      <td>يومية - سياسية - مستقلة | مؤسسها: سمو الشيخ سعيد بن سيف آل نهيان | رئيس التحرير: د.عبدالرحمن الشميري #الوطن_لكل_الوطن</td>\n",
       "      <td>{}</td>\n",
       "      <td>{}</td>\n",
       "    </tr>\n",
       "  </tbody>\n",
       "</table>\n",
       "</div>"
      ],
      "text/plain": [
       "                                                                                                                                                   user_description  \\\n",
       "13352  ‏‏‏‏جريدة رياضيه كويتية يمثِلُها قانونياً المحامي خالد السلطان بنيد القار ق٣ ش٦٤ مجمع ديما الدور الخامس مكتب ١٦ / ٩٩٣٣٣٠٠٩ /٦٧٦٢٦٢٦٩ ترحيص وزارةرقم 391-2020   \n",
       "18053                                         ان جاك مني طيب تستاهل الطيب وان جاك غير الطيب هذي سواياك Real Madrid 👑 Powerlifting 🏋🏼‍♂️ 💛Qadisiyah 🎬 Movie 🍿🎮 Games   \n",
       "13292                                                          السيد محمد الصدر .. بحر كلما شربنا منه، تـُقـنا الى مائهِ وفيضه،وكلما أبحرنا فيه اكتشفناه أكثر وأكثر   \n",
       "6458                              ‏‏‏‏‏‏‏‏‏‏‏‎‎‎‎‎‎‎‎‎‎‎#شبوه_الجنوب_العربي\\nناشط حقوقي جنوبي\\nمدافع عن حقوق الانسان فوق أي أرض وتحت أي سماء\\nHuman Rights Activist   \n",
       "11767                                                                                                                                            تابعتك رد المتابعة   \n",
       "12617                                                                                                                                                           NaN   \n",
       "11387                                                                                                        The official Group of Zamalek ⚪️🔴 Supporters in UAE 🇦🇪   \n",
       "4624                                                                                                          ممنوع السياسة 🚫✋🏻\\n🖤 صراحة 🖤\\nhttps://t.co/z7Rg1aCP0P   \n",
       "11964                                                                                                                            مدوُن | ككهلٍ مرَّ بالعشرينَ سهوًا   \n",
       "9116                                          يومية - سياسية - مستقلة | مؤسسها: سمو الشيخ سعيد بن سيف آل نهيان | رئيس التحرير: د.عبدالرحمن الشميري #الوطن_لكل_الوطن   \n",
       "\n",
       "                                                                                                                                    user_description_emojis  \\\n",
       "13352                                                                                                                                                    {}   \n",
       "18053  {'🏋🏼‍♂️': 'man lifting weights: medium-light skin tone', '💛': 'yellow heart', '👑': 'crown', '🍿': 'popcorn', '🎮': 'video game', '🎬': 'clapper board'}   \n",
       "13292                                                                                                                                                    {}   \n",
       "6458                                                                                                                                                     {}   \n",
       "11767                                                                                                                                                    {}   \n",
       "12617                                                                                                                                                         \n",
       "11387                                                                          {'🔴': 'red circle', '🇦🇪': 'flag: United Arab Emirates', '⚪': 'white circle'}   \n",
       "4624                                                                          {'✋🏻': 'raised hand: light skin tone', '🚫': 'prohibited', '🖤': 'black heart'}   \n",
       "11964                                                                                                                                                    {}   \n",
       "9116                                                                                                                                                     {}   \n",
       "\n",
       "                              user_description_emojis_count  \n",
       "13352                                                    {}  \n",
       "18053  {'🏋🏼‍♂️': 1, '💛': 1, '👑': 1, '🍿': 1, '🎮': 1, '🎬': 1}  \n",
       "13292                                                    {}  \n",
       "6458                                                     {}  \n",
       "11767                                                    {}  \n",
       "12617                                                    {}  \n",
       "11387                             {'🔴': 1, '🇦🇪': 1, '⚪': 1}  \n",
       "4624                              {'✋🏻': 1, '🚫': 1, '🖤': 2}  \n",
       "11964                                                    {}  \n",
       "9116                                                     {}  "
      ]
     },
     "execution_count": 69,
     "metadata": {},
     "output_type": "execute_result"
    }
   ],
   "source": [
    "df[['user_description', 'user_description_emojis', 'user_description_emojis_count']].sample(10)"
   ]
  },
  {
   "cell_type": "code",
   "execution_count": 70,
   "id": "847a2083-163f-4731-9706-087804f5a7ce",
   "metadata": {},
   "outputs": [],
   "source": [
    "df['user_description_urls'] = df['user_description_urls'].apply(ast.literal_eval)"
   ]
  },
  {
   "cell_type": "code",
   "execution_count": 71,
   "id": "63fb46d4-96c8-459e-b48e-cb91b233f149",
   "metadata": {},
   "outputs": [],
   "source": [
    "df['user_description_urls_count'] = df['user_description_urls'].apply(lambda x: len(x))"
   ]
  },
  {
   "cell_type": "code",
   "execution_count": 72,
   "id": "a9cef095-11db-4864-aed6-3f32aa4e608e",
   "metadata": {},
   "outputs": [
    {
     "data": {
      "text/html": [
       "<div>\n",
       "<style scoped>\n",
       "    .dataframe tbody tr th:only-of-type {\n",
       "        vertical-align: middle;\n",
       "    }\n",
       "\n",
       "    .dataframe tbody tr th {\n",
       "        vertical-align: top;\n",
       "    }\n",
       "\n",
       "    .dataframe thead th {\n",
       "        text-align: right;\n",
       "    }\n",
       "</style>\n",
       "<table border=\"1\" class=\"dataframe\">\n",
       "  <thead>\n",
       "    <tr style=\"text-align: right;\">\n",
       "      <th></th>\n",
       "      <th>user_description</th>\n",
       "      <th>user_description_urls</th>\n",
       "      <th>user_description_urls_count</th>\n",
       "    </tr>\n",
       "  </thead>\n",
       "  <tbody>\n",
       "    <tr>\n",
       "      <th>5314</th>\n",
       "      <td>سبحان الله وبحمده سبحان الله العظيم اللهم صل وسلم وبارك على نبينا محمد💚ملكي ابا من ابا وزعل من زعل متعصب وبقوه للاهلي 💚🤍💪 حساب جديد ،،مسوق عقاري بمكه 🌹</td>\n",
       "      <td>[]</td>\n",
       "      <td>0</td>\n",
       "    </tr>\n",
       "    <tr>\n",
       "      <th>19074</th>\n",
       "      <td>واحد من سرب اولئك الرجال الذين اقسموا علي حفظ امن هذه البلد</td>\n",
       "      <td>[]</td>\n",
       "      <td>0</td>\n",
       "    </tr>\n",
       "    <tr>\n",
       "      <th>15778</th>\n",
       "      <td>مالذي سوف انشره هنا ..\\nلا احد يعلم...\\nتابعونا...</td>\n",
       "      <td>[]</td>\n",
       "      <td>0</td>\n",
       "    </tr>\n",
       "    <tr>\n",
       "      <th>4892</th>\n",
       "      <td>abdelkader moulaï</td>\n",
       "      <td>[]</td>\n",
       "      <td>0</td>\n",
       "    </tr>\n",
       "    <tr>\n",
       "      <th>19143</th>\n",
       "      <td>💞 ثم يعوضك الله بمن يليق بقلبك 💞.</td>\n",
       "      <td>[http://facebook.com/thawretshaab11, http://facebook.com/thawretshaab01, http://instagram.com/thawretshaaab/, http://threads.net/@thawretshaaab]</td>\n",
       "      <td>4</td>\n",
       "    </tr>\n",
       "    <tr>\n",
       "      <th>3468</th>\n",
       "      <td>حساب شخصي منوع</td>\n",
       "      <td>[https://wtspee.com/966503856594]</td>\n",
       "      <td>1</td>\n",
       "    </tr>\n",
       "    <tr>\n",
       "      <th>14096</th>\n",
       "      <td>( آغرد بكل خير وكل مايرضي خالقي )</td>\n",
       "      <td>[]</td>\n",
       "      <td>0</td>\n",
       "    </tr>\n",
       "    <tr>\n",
       "      <th>10698</th>\n",
       "      <td>مواطن عدني ,جنوبي الهوية إنتقالي الانتماء ™ حسابي الاساسي 👈 @M1_Noman</td>\n",
       "      <td>[]</td>\n",
       "      <td>0</td>\n",
       "    </tr>\n",
       "    <tr>\n",
       "      <th>6194</th>\n",
       "      <td>NaN</td>\n",
       "      <td>[]</td>\n",
       "      <td>0</td>\n",
       "    </tr>\n",
       "    <tr>\n",
       "      <th>17759</th>\n",
       "      <td>وما من كاتب إلاّ سيفنى ويُبقي الدهرُ ما كتبت يداه فلا تكتب بخطك غير شيءٍ يسرّك في القيامة أن تراه....</td>\n",
       "      <td>[]</td>\n",
       "      <td>0</td>\n",
       "    </tr>\n",
       "  </tbody>\n",
       "</table>\n",
       "</div>"
      ],
      "text/plain": [
       "                                                                                                                                              user_description  \\\n",
       "5314   سبحان الله وبحمده سبحان الله العظيم اللهم صل وسلم وبارك على نبينا محمد💚ملكي ابا من ابا وزعل من زعل متعصب وبقوه للاهلي 💚🤍💪 حساب جديد ،،مسوق عقاري بمكه 🌹   \n",
       "19074                                                                                              واحد من سرب اولئك الرجال الذين اقسموا علي حفظ امن هذه البلد   \n",
       "15778                                                                                                       مالذي سوف انشره هنا ..\\nلا احد يعلم...\\nتابعونا...   \n",
       "4892                                                                                                                                         abdelkader moulaï   \n",
       "19143                                                                                                                        💞 ثم يعوضك الله بمن يليق بقلبك 💞.   \n",
       "3468                                                                                                                                            حساب شخصي منوع   \n",
       "14096                                                                                                                        ( آغرد بكل خير وكل مايرضي خالقي )   \n",
       "10698                                                                                    مواطن عدني ,جنوبي الهوية إنتقالي الانتماء ™ حسابي الاساسي 👈 @M1_Noman   \n",
       "6194                                                                                                                                                       NaN   \n",
       "17759                                                    وما من كاتب إلاّ سيفنى ويُبقي الدهرُ ما كتبت يداه فلا تكتب بخطك غير شيءٍ يسرّك في القيامة أن تراه....   \n",
       "\n",
       "                                                                                                                                  user_description_urls  \\\n",
       "5314                                                                                                                                                 []   \n",
       "19074                                                                                                                                                []   \n",
       "15778                                                                                                                                                []   \n",
       "4892                                                                                                                                                 []   \n",
       "19143  [http://facebook.com/thawretshaab11, http://facebook.com/thawretshaab01, http://instagram.com/thawretshaaab/, http://threads.net/@thawretshaaab]   \n",
       "3468                                                                                                                  [https://wtspee.com/966503856594]   \n",
       "14096                                                                                                                                                []   \n",
       "10698                                                                                                                                                []   \n",
       "6194                                                                                                                                                 []   \n",
       "17759                                                                                                                                                []   \n",
       "\n",
       "       user_description_urls_count  \n",
       "5314                             0  \n",
       "19074                            0  \n",
       "15778                            0  \n",
       "4892                             0  \n",
       "19143                            4  \n",
       "3468                             1  \n",
       "14096                            0  \n",
       "10698                            0  \n",
       "6194                             0  \n",
       "17759                            0  "
      ]
     },
     "execution_count": 72,
     "metadata": {},
     "output_type": "execute_result"
    }
   ],
   "source": [
    "df[['user_description', 'user_description_urls', 'user_description_urls_count']].sample(10)"
   ]
  },
  {
   "cell_type": "code",
   "execution_count": 73,
   "id": "223e2160-7059-411c-9f67-4d37771397b4",
   "metadata": {},
   "outputs": [],
   "source": [
    "df['user_description_hashtags'] = df['user_description_hashtags'].apply(ast.literal_eval)"
   ]
  },
  {
   "cell_type": "code",
   "execution_count": 74,
   "id": "6f03524e-5ab8-4fcc-9d4d-74048c0cdfee",
   "metadata": {},
   "outputs": [],
   "source": [
    "df['user_description_hashtags_count'] = df['user_description_hashtags'].apply(lambda x: len(x))"
   ]
  },
  {
   "cell_type": "code",
   "execution_count": 75,
   "id": "e54089cf-4325-4d1a-aa8f-e27668ddab81",
   "metadata": {},
   "outputs": [
    {
     "data": {
      "text/html": [
       "<div>\n",
       "<style scoped>\n",
       "    .dataframe tbody tr th:only-of-type {\n",
       "        vertical-align: middle;\n",
       "    }\n",
       "\n",
       "    .dataframe tbody tr th {\n",
       "        vertical-align: top;\n",
       "    }\n",
       "\n",
       "    .dataframe thead th {\n",
       "        text-align: right;\n",
       "    }\n",
       "</style>\n",
       "<table border=\"1\" class=\"dataframe\">\n",
       "  <thead>\n",
       "    <tr style=\"text-align: right;\">\n",
       "      <th></th>\n",
       "      <th>user_description</th>\n",
       "      <th>user_description_hashtags</th>\n",
       "      <th>user_description_hashtags_count</th>\n",
       "    </tr>\n",
       "  </thead>\n",
       "  <tbody>\n",
       "    <tr>\n",
       "      <th>12030</th>\n",
       "      <td>موقع مهتم بالشأن السوري وتداعياته في المنطقة، يقدم الأخبار والتحليلات والدراسات والتقارير ومواد الرأي، ويوثق أحداث القضية السورية ويهتم بأبرز الأخبار العالمية.</td>\n",
       "      <td>[]</td>\n",
       "      <td>0</td>\n",
       "    </tr>\n",
       "    <tr>\n",
       "      <th>8478</th>\n",
       "      <td>‏‏‏‏‏‏‏‏‏‏‏انا مصمم  يوفنتيني .. ابن مكة المكرمة\\nعضو في فريق   ‎‎‎‎‎@CurvaJ</td>\n",
       "      <td>[]</td>\n",
       "      <td>0</td>\n",
       "    </tr>\n",
       "    <tr>\n",
       "      <th>4735</th>\n",
       "      <td>لا اله الا انت سبحانكً أني كنت من الظالمين👌</td>\n",
       "      <td>[]</td>\n",
       "      <td>0</td>\n",
       "    </tr>\n",
       "    <tr>\n",
       "      <th>13523</th>\n",
       "      <td>https://t.co/e3C9tMzL3Q…</td>\n",
       "      <td>[]</td>\n",
       "      <td>0</td>\n",
       "    </tr>\n",
       "    <tr>\n",
       "      <th>13282</th>\n",
       "      <td>لاتسأل الطغات لماذا طغو بال أسأل العبيد الماذا ركعو</td>\n",
       "      <td>[]</td>\n",
       "      <td>0</td>\n",
       "    </tr>\n",
       "    <tr>\n",
       "      <th>5923</th>\n",
       "      <td>Most Popular Sports News Website in Egypt</td>\n",
       "      <td>[]</td>\n",
       "      <td>0</td>\n",
       "    </tr>\n",
       "    <tr>\n",
       "      <th>5686</th>\n",
       "      <td>نائب، رئيس، نقابه، الصحفيين، الجنوبيين في العاصمه عدن</td>\n",
       "      <td>[السيسي, تحيا_مصر]</td>\n",
       "      <td>2</td>\n",
       "    </tr>\n",
       "    <tr>\n",
       "      <th>2627</th>\n",
       "      <td>24hrs Lebanese, Arab and International news                     🌍 IG: thelbnews</td>\n",
       "      <td>[]</td>\n",
       "      <td>0</td>\n",
       "    </tr>\n",
       "    <tr>\n",
       "      <th>17058</th>\n",
       "      <td>مهندس مدنى\\nاحب ‏‏‏كرة قدم العالميه</td>\n",
       "      <td>[]</td>\n",
       "      <td>0</td>\n",
       "    </tr>\n",
       "    <tr>\n",
       "      <th>18754</th>\n",
       "      <td>نحن المنتظرون</td>\n",
       "      <td>[]</td>\n",
       "      <td>0</td>\n",
       "    </tr>\n",
       "  </tbody>\n",
       "</table>\n",
       "</div>"
      ],
      "text/plain": [
       "                                                                                                                                                      user_description  \\\n",
       "12030  موقع مهتم بالشأن السوري وتداعياته في المنطقة، يقدم الأخبار والتحليلات والدراسات والتقارير ومواد الرأي، ويوثق أحداث القضية السورية ويهتم بأبرز الأخبار العالمية.   \n",
       "8478                                                                                      ‏‏‏‏‏‏‏‏‏‏‏انا مصمم  يوفنتيني .. ابن مكة المكرمة\\nعضو في فريق   ‎‎‎‎‎@CurvaJ   \n",
       "4735                                                                                                                       لا اله الا انت سبحانكً أني كنت من الظالمين👌   \n",
       "13523                                                                                                                                         https://t.co/e3C9tMzL3Q…   \n",
       "13282                                                                                                              لاتسأل الطغات لماذا طغو بال أسأل العبيد الماذا ركعو   \n",
       "5923                                                                                                                         Most Popular Sports News Website in Egypt   \n",
       "5686                                                                                                             نائب، رئيس، نقابه، الصحفيين، الجنوبيين في العاصمه عدن   \n",
       "2627                                                                                   24hrs Lebanese, Arab and International news                     🌍 IG: thelbnews   \n",
       "17058                                                                                                                              مهندس مدنى\\nاحب ‏‏‏كرة قدم العالميه   \n",
       "18754                                                                                                                                                    نحن المنتظرون   \n",
       "\n",
       "      user_description_hashtags  user_description_hashtags_count  \n",
       "12030                        []                                0  \n",
       "8478                         []                                0  \n",
       "4735                         []                                0  \n",
       "13523                        []                                0  \n",
       "13282                        []                                0  \n",
       "5923                         []                                0  \n",
       "5686         [السيسي, تحيا_مصر]                                2  \n",
       "2627                         []                                0  \n",
       "17058                        []                                0  \n",
       "18754                        []                                0  "
      ]
     },
     "execution_count": 75,
     "metadata": {},
     "output_type": "execute_result"
    }
   ],
   "source": [
    "df[['user_description', 'user_description_hashtags', 'user_description_hashtags_count']].sample(10)"
   ]
  },
  {
   "cell_type": "code",
   "execution_count": 76,
   "id": "dcda154c-80d3-4976-a868-a78bbce64537",
   "metadata": {},
   "outputs": [],
   "source": [
    "df['user_description_mentions'] = df['user_description_mentions'].apply(ast.literal_eval)"
   ]
  },
  {
   "cell_type": "code",
   "execution_count": 77,
   "id": "49e7e3fc-8e8b-4b44-a0b2-352020aaff53",
   "metadata": {},
   "outputs": [],
   "source": [
    "df['user_description_mentions_count'] = df['user_description_mentions'].apply(lambda x: len(x))"
   ]
  },
  {
   "cell_type": "code",
   "execution_count": 78,
   "id": "7a905556-4bee-46d9-a0f0-3d9a32d7444e",
   "metadata": {},
   "outputs": [
    {
     "data": {
      "text/html": [
       "<div>\n",
       "<style scoped>\n",
       "    .dataframe tbody tr th:only-of-type {\n",
       "        vertical-align: middle;\n",
       "    }\n",
       "\n",
       "    .dataframe tbody tr th {\n",
       "        vertical-align: top;\n",
       "    }\n",
       "\n",
       "    .dataframe thead th {\n",
       "        text-align: right;\n",
       "    }\n",
       "</style>\n",
       "<table border=\"1\" class=\"dataframe\">\n",
       "  <thead>\n",
       "    <tr style=\"text-align: right;\">\n",
       "      <th></th>\n",
       "      <th>user_description</th>\n",
       "      <th>user_description_mentions</th>\n",
       "      <th>user_description_mentions_count</th>\n",
       "    </tr>\n",
       "  </thead>\n",
       "  <tbody>\n",
       "    <tr>\n",
       "      <th>17278</th>\n",
       "      <td>لاتصدق مايقال لك...صدق ماتراه بعينك ....ويشعر به قلبك</td>\n",
       "      <td>[]</td>\n",
       "      <td>0</td>\n",
       "    </tr>\n",
       "    <tr>\n",
       "      <th>11790</th>\n",
       "      <td>عضو مجلس إدارة نادي النصر السعودي في المستقبل</td>\n",
       "      <td>[]</td>\n",
       "      <td>0</td>\n",
       "    </tr>\n",
       "    <tr>\n",
       "      <th>18492</th>\n",
       "      <td>‏‏‏‏‏‏‏‏‏‏‏‏‏‏‏‏‏‏‏‏‏‏‏‏‏‏ تغيب وتفقد التواصل الذي تبني عليه علاقاتك مع الاخرين هذا ما يجعل نفسك اقرب الناس إليك،، أعاني أحيانا من قلة الذكاء\\nوأحيانا من شدته</td>\n",
       "      <td>[]</td>\n",
       "      <td>0</td>\n",
       "    </tr>\n",
       "    <tr>\n",
       "      <th>16138</th>\n",
       "      <td>الحمد الله</td>\n",
       "      <td>[]</td>\n",
       "      <td>0</td>\n",
       "    </tr>\n",
       "    <tr>\n",
       "      <th>15163</th>\n",
       "      <td>I find myself happy with the simple things. I appreciate the blessing God gave me\\nDirector at Mesopotamia Trading Limited</td>\n",
       "      <td>[]</td>\n",
       "      <td>0</td>\n",
       "    </tr>\n",
       "  </tbody>\n",
       "</table>\n",
       "</div>"
      ],
      "text/plain": [
       "                                                                                                                                                     user_description  \\\n",
       "17278                                                                                                           لاتصدق مايقال لك...صدق ماتراه بعينك ....ويشعر به قلبك   \n",
       "11790                                                                                                                   عضو مجلس إدارة نادي النصر السعودي في المستقبل   \n",
       "18492  ‏‏‏‏‏‏‏‏‏‏‏‏‏‏‏‏‏‏‏‏‏‏‏‏‏‏ تغيب وتفقد التواصل الذي تبني عليه علاقاتك مع الاخرين هذا ما يجعل نفسك اقرب الناس إليك،، أعاني أحيانا من قلة الذكاء\\nوأحيانا من شدته   \n",
       "16138                                                                                                                                                      الحمد الله   \n",
       "15163                                      I find myself happy with the simple things. I appreciate the blessing God gave me\\nDirector at Mesopotamia Trading Limited   \n",
       "\n",
       "      user_description_mentions  user_description_mentions_count  \n",
       "17278                        []                                0  \n",
       "11790                        []                                0  \n",
       "18492                        []                                0  \n",
       "16138                        []                                0  \n",
       "15163                        []                                0  "
      ]
     },
     "execution_count": 78,
     "metadata": {},
     "output_type": "execute_result"
    }
   ],
   "source": [
    "df[['user_description', 'user_description_mentions', 'user_description_mentions_count']].sample(5)"
   ]
  },
  {
   "cell_type": "code",
   "execution_count": 79,
   "id": "53b8d305-8003-4e5b-bd9e-8da79bcd0cef",
   "metadata": {},
   "outputs": [
    {
     "data": {
      "text/plain": [
       "user_description_mentions_count\n",
       "0    20084\n",
       "Name: count, dtype: int64"
      ]
     },
     "execution_count": 79,
     "metadata": {},
     "output_type": "execute_result"
    }
   ],
   "source": [
    "df['user_description_mentions_count'].value_counts()"
   ]
  },
  {
   "cell_type": "code",
   "execution_count": 80,
   "id": "ac407a15-8dc2-4fa7-bf1a-d20186108a39",
   "metadata": {},
   "outputs": [],
   "source": [
    "df['user_description'].fillna('', inplace=True)"
   ]
  },
  {
   "cell_type": "code",
   "execution_count": 81,
   "id": "5bfb8a4b-3f35-4f53-8133-4a82bd7dc938",
   "metadata": {},
   "outputs": [
    {
     "data": {
      "text/html": [
       "<div>\n",
       "<style scoped>\n",
       "    .dataframe tbody tr th:only-of-type {\n",
       "        vertical-align: middle;\n",
       "    }\n",
       "\n",
       "    .dataframe tbody tr th {\n",
       "        vertical-align: top;\n",
       "    }\n",
       "\n",
       "    .dataframe thead th {\n",
       "        text-align: right;\n",
       "    }\n",
       "</style>\n",
       "<table border=\"1\" class=\"dataframe\">\n",
       "  <thead>\n",
       "    <tr style=\"text-align: right;\">\n",
       "      <th></th>\n",
       "      <th>user_id</th>\n",
       "      <th>user_description</th>\n",
       "      <th>user_description_text</th>\n",
       "      <th>user_created_at</th>\n",
       "    </tr>\n",
       "  </thead>\n",
       "  <tbody>\n",
       "    <tr>\n",
       "      <th>14203</th>\n",
       "      <td>524076266</td>\n",
       "      <td></td>\n",
       "      <td></td>\n",
       "      <td>2012-03-14T06:33:01.000Z</td>\n",
       "    </tr>\n",
       "    <tr>\n",
       "      <th>18357</th>\n",
       "      <td>1407093972254834690</td>\n",
       "      <td>Yemen- Marib</td>\n",
       "      <td></td>\n",
       "      <td>2021-06-21T21:52:22.000Z</td>\n",
       "    </tr>\n",
       "    <tr>\n",
       "      <th>6103</th>\n",
       "      <td>717180854989139968</td>\n",
       "      <td>🟢الذياب من القني من شمر / الزعيم الملكي💙 // حسابي/ ديني/ اخباري / ثقافي /فكاهي / رياضي //اتشرف بمتابعة الجميع🌹وطني السعوديه قبلة المسلمين خط احمر🇸🇦</td>\n",
       "      <td>الذياب من القني من شمر  الزعيم الملكي  حسابي ديني اخباري  ثقافي فكاهي  رياضي اتشرف بمتابعة الجميعوطني السعوديه قبلة المسلمين خط احمر</td>\n",
       "      <td>2016-04-05T02:43:35.000Z</td>\n",
       "    </tr>\n",
       "    <tr>\n",
       "      <th>16227</th>\n",
       "      <td>305186650</td>\n",
       "      <td>حساب إخباري إعلامي بطريقة أخرى</td>\n",
       "      <td>حساب إخباري إعلامي بطريقة أخرى</td>\n",
       "      <td>2011-05-25T19:56:34.000Z</td>\n",
       "    </tr>\n",
       "    <tr>\n",
       "      <th>5585</th>\n",
       "      <td>1492122003314257923</td>\n",
       "      <td>صفحة خاصة بمجلة أزهار Beirut-lebanon مجلة ازهار ترصد كل الأخبار على مدار الساعة سياسية اجتماعية – ثقافية - شاملة تصدرمن لبنان وتوزع على كافة الدول العربية</td>\n",
       "      <td>صفحة خاصة بمجلة أزهار  مجلة ازهار ترصد كل الأخبار على مدار الساعة سياسية اجتماعية  ثقافية  شاملة تصدرمن لبنان وتوزع على كافة الدول العربية</td>\n",
       "      <td>2022-02-11T13:03:28.000Z</td>\n",
       "    </tr>\n",
       "  </tbody>\n",
       "</table>\n",
       "</div>"
      ],
      "text/plain": [
       "                   user_id  \\\n",
       "14203            524076266   \n",
       "18357  1407093972254834690   \n",
       "6103    717180854989139968   \n",
       "16227            305186650   \n",
       "5585   1492122003314257923   \n",
       "\n",
       "                                                                                                                                                 user_description  \\\n",
       "14203                                                                                                                                                               \n",
       "18357                                                                                                                                                Yemen- Marib   \n",
       "6103          🟢الذياب من القني من شمر / الزعيم الملكي💙 // حسابي/ ديني/ اخباري / ثقافي /فكاهي / رياضي //اتشرف بمتابعة الجميع🌹وطني السعوديه قبلة المسلمين خط احمر🇸🇦   \n",
       "16227                                                                                                                              حساب إخباري إعلامي بطريقة أخرى   \n",
       "5585   صفحة خاصة بمجلة أزهار Beirut-lebanon مجلة ازهار ترصد كل الأخبار على مدار الساعة سياسية اجتماعية – ثقافية - شاملة تصدرمن لبنان وتوزع على كافة الدول العربية   \n",
       "\n",
       "                                                                                                                            user_description_text  \\\n",
       "14203                                                                                                                                               \n",
       "18357                                                                                                                                               \n",
       "6103         الذياب من القني من شمر  الزعيم الملكي  حسابي ديني اخباري  ثقافي فكاهي  رياضي اتشرف بمتابعة الجميعوطني السعوديه قبلة المسلمين خط احمر   \n",
       "16227                                                                                                              حساب إخباري إعلامي بطريقة أخرى   \n",
       "5585   صفحة خاصة بمجلة أزهار  مجلة ازهار ترصد كل الأخبار على مدار الساعة سياسية اجتماعية  ثقافية  شاملة تصدرمن لبنان وتوزع على كافة الدول العربية   \n",
       "\n",
       "                user_created_at  \n",
       "14203  2012-03-14T06:33:01.000Z  \n",
       "18357  2021-06-21T21:52:22.000Z  \n",
       "6103   2016-04-05T02:43:35.000Z  \n",
       "16227  2011-05-25T19:56:34.000Z  \n",
       "5585   2022-02-11T13:03:28.000Z  "
      ]
     },
     "execution_count": 81,
     "metadata": {},
     "output_type": "execute_result"
    }
   ],
   "source": [
    "df[['user_id', 'user_description', 'user_description_text', 'user_created_at']].sample(5)"
   ]
  },
  {
   "cell_type": "code",
   "execution_count": 82,
   "id": "c1a1c9ba-9e55-400e-9381-f9e73cd59319",
   "metadata": {},
   "outputs": [
    {
     "data": {
      "text/plain": [
       "Index(['tweet_id', 'possibly_sensitive', 'retweet_count', 'reply_count',\n",
       "       'like_count', 'quote_count', 'bookmark_count', 'impression_count',\n",
       "       'user_id', 'lang', 'annotations_text', 'annotations_type', 'hashtags',\n",
       "       'mentions', 'urls', 'urls_titles', 'urls_desc', 'context_domain',\n",
       "       'context_domain_desc', 'context_entity', 'context_entity_desc',\n",
       "       'copyright', 'withheld_country_codes', 'created_at', 'edits_remaining',\n",
       "       'is_edit_eligible', 'text', 'reply_settings', 'label',\n",
       "       'user_created_at', 'user_description', 'user_description_urls',\n",
       "       'user_description_hashtags', 'user_description_mentions', 'location',\n",
       "       'protected', 'followers_count', 'following_count', 'tweet_count',\n",
       "       'listed_count', 'user_like_count', 'verified', 'claim_id',\n",
       "       'text_arabic', 'text_length', 'emojis', 'emojis_count',\n",
       "       'emojis_total_count', 'annotations_count', 'organizations',\n",
       "       'organizations_count', 'persons', 'persons_count', 'places',\n",
       "       'places_count', 'products', 'products_count', 'hashtags_count',\n",
       "       'mentions_count', 'user_description_text', 'user_description_emojis',\n",
       "       'user_description_emojis_count', 'user_description_urls_count',\n",
       "       'user_description_hashtags_count', 'user_description_mentions_count'],\n",
       "      dtype='object')"
      ]
     },
     "execution_count": 82,
     "metadata": {},
     "output_type": "execute_result"
    }
   ],
   "source": [
    "df.columns"
   ]
  },
  {
   "cell_type": "code",
   "execution_count": 83,
   "id": "0e7db4b3-5bc6-4936-b1e0-a1de758f0ad1",
   "metadata": {},
   "outputs": [],
   "source": [
    "df['user_id'] = df['user_id'].astype(str)"
   ]
  },
  {
   "cell_type": "code",
   "execution_count": 84,
   "id": "f41c3c37-7800-44ed-9847-241fc57ead81",
   "metadata": {},
   "outputs": [],
   "source": [
    "user_features = ['mentions', 'user_description', 'user_description_urls',\n",
    "       'user_description_hashtags', 'user_description_mentions', 'protected', \n",
    "       'followers_count', 'following_count', 'tweet_count',\n",
    "       'listed_count', 'user_like_count', 'verified', 'user_description_text',\n",
    "       'user_description_emojis', 'user_description_emojis_count',\n",
    "       'user_description_urls_count', 'user_description_hashtags_count',\n",
    "       'user_description_mentions_count', 'label']"
   ]
  },
  {
   "cell_type": "code",
   "execution_count": 85,
   "id": "41dc97b0-a63c-4966-b579-f69892d2f70f",
   "metadata": {},
   "outputs": [],
   "source": [
    "df_user = df[user_features]"
   ]
  },
  {
   "cell_type": "code",
   "execution_count": 86,
   "id": "c22acebe-3740-4127-91d6-e7fc3484c47d",
   "metadata": {},
   "outputs": [],
   "source": [
    "df_user.to_excel('data/05-VERA-ARB_user_features.xlsx', index=False)"
   ]
  },
  {
   "cell_type": "markdown",
   "id": "2a87c99f-9c0d-4c7e-8a8b-dca7a446269e",
   "metadata": {},
   "source": [
    "# 3- Network features"
   ]
  },
  {
   "cell_type": "code",
   "execution_count": 87,
   "id": "1e0a0c09-bb8c-4b13-934a-236e45d813dd",
   "metadata": {},
   "outputs": [
    {
     "data": {
      "text/plain": [
       "reply_settings\n",
       "everyone          19911\n",
       "mentionedUsers       92\n",
       "following            81\n",
       "Name: count, dtype: int64"
      ]
     },
     "execution_count": 87,
     "metadata": {},
     "output_type": "execute_result"
    }
   ],
   "source": [
    "df['reply_settings'].value_counts()"
   ]
  },
  {
   "cell_type": "code",
   "execution_count": 88,
   "id": "cfb2222f-db5c-48ec-9fe9-2d23f4be7ee6",
   "metadata": {},
   "outputs": [],
   "source": [
    "network_features = ['reply_settings', 'retweet_count', 'reply_count', 'like_count', 'quote_count', 'bookmark_count', 'impression_count']"
   ]
  },
  {
   "cell_type": "code",
   "execution_count": 89,
   "id": "3c935ec4-6b3f-44f7-991e-96eabb67f7de",
   "metadata": {},
   "outputs": [
    {
     "data": {
      "text/html": [
       "<div>\n",
       "<style scoped>\n",
       "    .dataframe tbody tr th:only-of-type {\n",
       "        vertical-align: middle;\n",
       "    }\n",
       "\n",
       "    .dataframe tbody tr th {\n",
       "        vertical-align: top;\n",
       "    }\n",
       "\n",
       "    .dataframe thead th {\n",
       "        text-align: right;\n",
       "    }\n",
       "</style>\n",
       "<table border=\"1\" class=\"dataframe\">\n",
       "  <thead>\n",
       "    <tr style=\"text-align: right;\">\n",
       "      <th></th>\n",
       "      <th>reply_settings</th>\n",
       "      <th>retweet_count</th>\n",
       "      <th>reply_count</th>\n",
       "      <th>like_count</th>\n",
       "      <th>quote_count</th>\n",
       "      <th>bookmark_count</th>\n",
       "      <th>impression_count</th>\n",
       "    </tr>\n",
       "  </thead>\n",
       "  <tbody>\n",
       "    <tr>\n",
       "      <th>19070</th>\n",
       "      <td>everyone</td>\n",
       "      <td>0</td>\n",
       "      <td>0</td>\n",
       "      <td>0</td>\n",
       "      <td>0</td>\n",
       "      <td>0</td>\n",
       "      <td>0</td>\n",
       "    </tr>\n",
       "    <tr>\n",
       "      <th>19182</th>\n",
       "      <td>everyone</td>\n",
       "      <td>0</td>\n",
       "      <td>0</td>\n",
       "      <td>0</td>\n",
       "      <td>0</td>\n",
       "      <td>0</td>\n",
       "      <td>0</td>\n",
       "    </tr>\n",
       "    <tr>\n",
       "      <th>10659</th>\n",
       "      <td>everyone</td>\n",
       "      <td>36</td>\n",
       "      <td>22</td>\n",
       "      <td>261</td>\n",
       "      <td>2</td>\n",
       "      <td>2</td>\n",
       "      <td>5776</td>\n",
       "    </tr>\n",
       "    <tr>\n",
       "      <th>3436</th>\n",
       "      <td>everyone</td>\n",
       "      <td>0</td>\n",
       "      <td>0</td>\n",
       "      <td>0</td>\n",
       "      <td>0</td>\n",
       "      <td>0</td>\n",
       "      <td>0</td>\n",
       "    </tr>\n",
       "    <tr>\n",
       "      <th>6590</th>\n",
       "      <td>everyone</td>\n",
       "      <td>1</td>\n",
       "      <td>2</td>\n",
       "      <td>8</td>\n",
       "      <td>1</td>\n",
       "      <td>0</td>\n",
       "      <td>497</td>\n",
       "    </tr>\n",
       "    <tr>\n",
       "      <th>19477</th>\n",
       "      <td>everyone</td>\n",
       "      <td>0</td>\n",
       "      <td>0</td>\n",
       "      <td>0</td>\n",
       "      <td>0</td>\n",
       "      <td>0</td>\n",
       "      <td>0</td>\n",
       "    </tr>\n",
       "    <tr>\n",
       "      <th>13289</th>\n",
       "      <td>everyone</td>\n",
       "      <td>5</td>\n",
       "      <td>11</td>\n",
       "      <td>46</td>\n",
       "      <td>2</td>\n",
       "      <td>1</td>\n",
       "      <td>0</td>\n",
       "    </tr>\n",
       "    <tr>\n",
       "      <th>4711</th>\n",
       "      <td>everyone</td>\n",
       "      <td>164</td>\n",
       "      <td>23</td>\n",
       "      <td>160</td>\n",
       "      <td>11</td>\n",
       "      <td>0</td>\n",
       "      <td>0</td>\n",
       "    </tr>\n",
       "    <tr>\n",
       "      <th>12005</th>\n",
       "      <td>everyone</td>\n",
       "      <td>1</td>\n",
       "      <td>0</td>\n",
       "      <td>5</td>\n",
       "      <td>0</td>\n",
       "      <td>0</td>\n",
       "      <td>0</td>\n",
       "    </tr>\n",
       "    <tr>\n",
       "      <th>15900</th>\n",
       "      <td>everyone</td>\n",
       "      <td>0</td>\n",
       "      <td>1</td>\n",
       "      <td>0</td>\n",
       "      <td>0</td>\n",
       "      <td>0</td>\n",
       "      <td>0</td>\n",
       "    </tr>\n",
       "  </tbody>\n",
       "</table>\n",
       "</div>"
      ],
      "text/plain": [
       "      reply_settings  retweet_count  reply_count  like_count  quote_count  \\\n",
       "19070       everyone              0            0           0            0   \n",
       "19182       everyone              0            0           0            0   \n",
       "10659       everyone             36           22         261            2   \n",
       "3436        everyone              0            0           0            0   \n",
       "6590        everyone              1            2           8            1   \n",
       "19477       everyone              0            0           0            0   \n",
       "13289       everyone              5           11          46            2   \n",
       "4711        everyone            164           23         160           11   \n",
       "12005       everyone              1            0           5            0   \n",
       "15900       everyone              0            1           0            0   \n",
       "\n",
       "       bookmark_count  impression_count  \n",
       "19070               0                 0  \n",
       "19182               0                 0  \n",
       "10659               2              5776  \n",
       "3436                0                 0  \n",
       "6590                0               497  \n",
       "19477               0                 0  \n",
       "13289               1                 0  \n",
       "4711                0                 0  \n",
       "12005               0                 0  \n",
       "15900               0                 0  "
      ]
     },
     "execution_count": 89,
     "metadata": {},
     "output_type": "execute_result"
    }
   ],
   "source": [
    "df[network_features].sample(10)"
   ]
  },
  {
   "cell_type": "code",
   "execution_count": 90,
   "id": "6d161c8a-f890-44f9-a8b1-911de49a9b22",
   "metadata": {},
   "outputs": [],
   "source": [
    "df_network = df[network_features]"
   ]
  },
  {
   "cell_type": "code",
   "execution_count": 91,
   "id": "fec06265-b92c-4ae4-a050-b0170d4a900e",
   "metadata": {},
   "outputs": [],
   "source": [
    "df_network.to_excel('data/05-VERA-ARB_network.xlsx', index=False)"
   ]
  },
  {
   "cell_type": "markdown",
   "id": "f9782835-5293-4a05-b05d-7193785e7e0f",
   "metadata": {},
   "source": [
    "# 4- Multimedia features"
   ]
  },
  {
   "cell_type": "code",
   "execution_count": 92,
   "id": "77d2ab0f-41e0-4a57-bb91-6bed4f5d8ff0",
   "metadata": {},
   "outputs": [
    {
     "data": {
      "text/plain": [
       "17137                                                                                                                                                                                                                                                                                                      []\n",
       "17514                                                                                                                                                                                                                              ['https://twitter.com/Emarati_Marshal/status/1586642799906230272/video/1']\n",
       "435                                                                                                                                                                                                                                  ['https://twitter.com/ahmadhgurashi/status/1641212188474892289/video/1']\n",
       "4948                                                                                                                                                                                                                                        ['https://twitter.com/rzc_o8/status/1485277251365216257/video/1']\n",
       "5053     ['https://twitter.com/AlMayadeenNews/status/1621830829923082243/photo/1', 'https://twitter.com/AlMayadeenNews/status/1621830829923082243/photo/1', 'https://twitter.com/AlMayadeenNews/status/1621830829923082243/photo/1', 'https://twitter.com/AlMayadeenNews/status/1621830829923082243/photo/1']\n",
       "Name: urls, dtype: object"
      ]
     },
     "execution_count": 92,
     "metadata": {},
     "output_type": "execute_result"
    }
   ],
   "source": [
    "df['urls'].sample(5)"
   ]
  },
  {
   "cell_type": "code",
   "execution_count": 93,
   "id": "feb78028-807f-4886-a26e-c7435b039a4a",
   "metadata": {},
   "outputs": [],
   "source": [
    "# Convert string columns to actual lists\n",
    "df['urls'] = df['urls'].apply(ast.literal_eval)"
   ]
  },
  {
   "cell_type": "code",
   "execution_count": 94,
   "id": "1c7231cf-6308-4126-9252-f749ed6572b0",
   "metadata": {},
   "outputs": [],
   "source": [
    "df['urls_titles'] = df['urls_titles'].apply(ast.literal_eval)"
   ]
  },
  {
   "cell_type": "code",
   "execution_count": 95,
   "id": "2331d1c8-9193-480e-95ad-af13d85078f6",
   "metadata": {},
   "outputs": [],
   "source": [
    "df['urls_desc'] = df['urls_desc'].apply(ast.literal_eval)"
   ]
  },
  {
   "cell_type": "code",
   "execution_count": 96,
   "id": "a69e37c4-647a-4e38-b2ef-9a52db5f382f",
   "metadata": {},
   "outputs": [
    {
     "data": {
      "text/plain": [
       "9074     [https://twitter.com/AbdullahAlSafi4/status/1268291021173112838/video/1]\n",
       "11776         [https://twitter.com/deaf_91111/status/1615082202630422533/video/1]\n",
       "16865    [https://twitter.com/TheGaff09098065/status/1592832947048312832/photo/1]\n",
       "14022         [https://twitter.com/Almaskri07/status/1560231506660003846/photo/1]\n",
       "18531    [https://twitter.com/AhmadSh69868621/status/1575185650206224384/video/1]\n",
       "Name: urls, dtype: object"
      ]
     },
     "execution_count": 96,
     "metadata": {},
     "output_type": "execute_result"
    }
   ],
   "source": [
    "df['urls'].sample(5)"
   ]
  },
  {
   "cell_type": "code",
   "execution_count": 97,
   "id": "210e7c09-8e7c-4169-8658-2fcad61a2add",
   "metadata": {},
   "outputs": [],
   "source": [
    "df['urls_count'] = df['urls'].apply(lambda x: len(x))"
   ]
  },
  {
   "cell_type": "code",
   "execution_count": 98,
   "id": "f3ce862b-9e99-4ea8-b86b-ce6ee6793316",
   "metadata": {},
   "outputs": [
    {
     "data": {
      "text/html": [
       "<div>\n",
       "<style scoped>\n",
       "    .dataframe tbody tr th:only-of-type {\n",
       "        vertical-align: middle;\n",
       "    }\n",
       "\n",
       "    .dataframe tbody tr th {\n",
       "        vertical-align: top;\n",
       "    }\n",
       "\n",
       "    .dataframe thead th {\n",
       "        text-align: right;\n",
       "    }\n",
       "</style>\n",
       "<table border=\"1\" class=\"dataframe\">\n",
       "  <thead>\n",
       "    <tr style=\"text-align: right;\">\n",
       "      <th></th>\n",
       "      <th>urls</th>\n",
       "      <th>urls_count</th>\n",
       "    </tr>\n",
       "  </thead>\n",
       "  <tbody>\n",
       "    <tr>\n",
       "      <th>4194</th>\n",
       "      <td>[]</td>\n",
       "      <td>0</td>\n",
       "    </tr>\n",
       "    <tr>\n",
       "      <th>7398</th>\n",
       "      <td>[https://twitter.com/amal_yousef9/status/1464995996769861632/photo/1]</td>\n",
       "      <td>1</td>\n",
       "    </tr>\n",
       "    <tr>\n",
       "      <th>14584</th>\n",
       "      <td>[https://twitter.com/malashmaliy222/status/1608268616943767552/video/1]</td>\n",
       "      <td>1</td>\n",
       "    </tr>\n",
       "    <tr>\n",
       "      <th>13163</th>\n",
       "      <td>[]</td>\n",
       "      <td>0</td>\n",
       "    </tr>\n",
       "    <tr>\n",
       "      <th>14133</th>\n",
       "      <td>[https://twitter.com/AFeras1430/status/768714364669030400/video/1]</td>\n",
       "      <td>1</td>\n",
       "    </tr>\n",
       "  </tbody>\n",
       "</table>\n",
       "</div>"
      ],
      "text/plain": [
       "                                                                          urls  \\\n",
       "4194                                                                        []   \n",
       "7398     [https://twitter.com/amal_yousef9/status/1464995996769861632/photo/1]   \n",
       "14584  [https://twitter.com/malashmaliy222/status/1608268616943767552/video/1]   \n",
       "13163                                                                       []   \n",
       "14133       [https://twitter.com/AFeras1430/status/768714364669030400/video/1]   \n",
       "\n",
       "       urls_count  \n",
       "4194            0  \n",
       "7398            1  \n",
       "14584           1  \n",
       "13163           0  \n",
       "14133           1  "
      ]
     },
     "execution_count": 98,
     "metadata": {},
     "output_type": "execute_result"
    }
   ],
   "source": [
    "df[['urls', 'urls_count']].sample(5)"
   ]
  },
  {
   "cell_type": "code",
   "execution_count": 99,
   "id": "83eeb150-ffaf-4c21-93d2-3e95b8548b65",
   "metadata": {},
   "outputs": [
    {
     "data": {
      "text/html": [
       "<div>\n",
       "<style scoped>\n",
       "    .dataframe tbody tr th:only-of-type {\n",
       "        vertical-align: middle;\n",
       "    }\n",
       "\n",
       "    .dataframe tbody tr th {\n",
       "        vertical-align: top;\n",
       "    }\n",
       "\n",
       "    .dataframe thead th {\n",
       "        text-align: right;\n",
       "    }\n",
       "</style>\n",
       "<table border=\"1\" class=\"dataframe\">\n",
       "  <thead>\n",
       "    <tr style=\"text-align: right;\">\n",
       "      <th></th>\n",
       "      <th>urls</th>\n",
       "      <th>urls_titles</th>\n",
       "      <th>urls_desc</th>\n",
       "    </tr>\n",
       "  </thead>\n",
       "  <tbody>\n",
       "    <tr>\n",
       "      <th>17393</th>\n",
       "      <td>[https://twitter.com/Omar_Madaniah/status/1587135130690273285/photo/1]</td>\n",
       "      <td>[]</td>\n",
       "      <td>[]</td>\n",
       "    </tr>\n",
       "    <tr>\n",
       "      <th>1603</th>\n",
       "      <td>[]</td>\n",
       "      <td>[]</td>\n",
       "      <td>[]</td>\n",
       "    </tr>\n",
       "    <tr>\n",
       "      <th>9718</th>\n",
       "      <td>[https://twitter.com/km_1899/status/1644917249101242368/photo/1]</td>\n",
       "      <td>[]</td>\n",
       "      <td>[]</td>\n",
       "    </tr>\n",
       "    <tr>\n",
       "      <th>9719</th>\n",
       "      <td>[https://twitter.com/ii305v/status/1644917206097051648/photo/1]</td>\n",
       "      <td>[]</td>\n",
       "      <td>[]</td>\n",
       "    </tr>\n",
       "    <tr>\n",
       "      <th>18924</th>\n",
       "      <td>[http://alsabahpress.com, https://twitter.com/AlsabahMedia/status/1564995243983998980/photo/1]</td>\n",
       "      <td>[]</td>\n",
       "      <td>[]</td>\n",
       "    </tr>\n",
       "    <tr>\n",
       "      <th>7239</th>\n",
       "      <td>[https://twitter.com/bandershaya/status/1660657250099134471/photo/1]</td>\n",
       "      <td>[]</td>\n",
       "      <td>[]</td>\n",
       "    </tr>\n",
       "    <tr>\n",
       "      <th>14610</th>\n",
       "      <td>[]</td>\n",
       "      <td>[]</td>\n",
       "      <td>[]</td>\n",
       "    </tr>\n",
       "    <tr>\n",
       "      <th>13489</th>\n",
       "      <td>[https://twitter.com/PhobiaMad/status/1609526829320228864/photo/1]</td>\n",
       "      <td>[]</td>\n",
       "      <td>[]</td>\n",
       "    </tr>\n",
       "    <tr>\n",
       "      <th>17496</th>\n",
       "      <td>[https://twitter.com/VIPhamadah74/status/1585577633085100034/photo/1]</td>\n",
       "      <td>[]</td>\n",
       "      <td>[]</td>\n",
       "    </tr>\n",
       "    <tr>\n",
       "      <th>13021</th>\n",
       "      <td>[https://twitter.com/salman19761976/status/1614489114027458570/video/1]</td>\n",
       "      <td>[]</td>\n",
       "      <td>[]</td>\n",
       "    </tr>\n",
       "  </tbody>\n",
       "</table>\n",
       "</div>"
      ],
      "text/plain": [
       "                                                                                                 urls  \\\n",
       "17393                          [https://twitter.com/Omar_Madaniah/status/1587135130690273285/photo/1]   \n",
       "1603                                                                                               []   \n",
       "9718                                 [https://twitter.com/km_1899/status/1644917249101242368/photo/1]   \n",
       "9719                                  [https://twitter.com/ii305v/status/1644917206097051648/photo/1]   \n",
       "18924  [http://alsabahpress.com, https://twitter.com/AlsabahMedia/status/1564995243983998980/photo/1]   \n",
       "7239                             [https://twitter.com/bandershaya/status/1660657250099134471/photo/1]   \n",
       "14610                                                                                              []   \n",
       "13489                              [https://twitter.com/PhobiaMad/status/1609526829320228864/photo/1]   \n",
       "17496                           [https://twitter.com/VIPhamadah74/status/1585577633085100034/photo/1]   \n",
       "13021                         [https://twitter.com/salman19761976/status/1614489114027458570/video/1]   \n",
       "\n",
       "      urls_titles urls_desc  \n",
       "17393          []        []  \n",
       "1603           []        []  \n",
       "9718           []        []  \n",
       "9719           []        []  \n",
       "18924          []        []  \n",
       "7239           []        []  \n",
       "14610          []        []  \n",
       "13489          []        []  \n",
       "17496          []        []  \n",
       "13021          []        []  "
      ]
     },
     "execution_count": 99,
     "metadata": {},
     "output_type": "execute_result"
    }
   ],
   "source": [
    "df[['urls', 'urls_titles', 'urls_desc']].sample(10)"
   ]
  },
  {
   "cell_type": "code",
   "execution_count": 100,
   "id": "dcc9d72b-2fd3-4c91-867c-ea600facc0b7",
   "metadata": {},
   "outputs": [],
   "source": [
    "import glob\n",
    "import json\n",
    "json_files = glob.glob(\"data/extracted_tweets/*.json\")"
   ]
  },
  {
   "cell_type": "code",
   "execution_count": 101,
   "id": "1efaeb4a-2998-48e6-82b7-466812ca1623",
   "metadata": {},
   "outputs": [
    {
     "name": "stdout",
     "output_type": "stream",
     "text": [
      "Done..............!\n"
     ]
    }
   ],
   "source": [
    "tweets_media_data = []\n",
    "tweet_attachments = []\n",
    "tweet_ids = set()  # Create a set to store unique tweet IDs\n",
    "\n",
    "for file in json_files:\n",
    "    with open(file, 'r') as f:\n",
    "        includes_media = []\n",
    "        json_data = json.load(f)\n",
    "        \n",
    "        includes_media = json_data['includes']['media']\n",
    "        df_media_file = pd.DataFrame(includes_media)\n",
    "        \n",
    "        for tweet in json_data['data']:\n",
    "            tweet_id = tweet['id']\n",
    "            \n",
    "            if tweet_id not in tweet_ids:  # Check if tweet ID is already processed                \n",
    "                tweet_attachments = []\n",
    "                media_types = []\n",
    "                media_urls = []\n",
    "                \n",
    "                if 'attachments' in tweet:\n",
    "                    if 'media_keys' in tweet['attachments']:\n",
    "                        tweet_attachments = tweet['attachments'].get('media_keys', [])\n",
    "                        \n",
    "                        for attachment in tweet_attachments:\n",
    "                            for media_item in includes_media:\n",
    "                                if media_item['media_key'] == attachment:\n",
    "                                    #print(media_item)\n",
    "                                    m_type = media_item['type']\n",
    "                                    media_types.append(m_type)\n",
    "                                    try:\n",
    "                                        media_urls.append(media_item['url'] if m_type == 'photo' else '')\n",
    "                                    except:\n",
    "                                        print(media_item)\n",
    "                                    break\n",
    "                media_data = {\n",
    "                    'tweet_id': tweet_id,\n",
    "                    'media_keys': tweet_attachments, #'' if len(tweet_attachments) == 0 else tweet_attachments,\n",
    "                    'media_keys_count': len(tweet_attachments),\n",
    "                    'media_types': media_types,\n",
    "                    'images_count': media_types.count('photo'),\n",
    "                    'videos_count': media_types.count('video'),\n",
    "                    'media_urls': media_urls\n",
    "                }\n",
    "                tweets_media_data.append(media_data)\n",
    "    \n",
    "    #print('processed', file, '!')\n",
    "print('Done..............!')"
   ]
  },
  {
   "cell_type": "code",
   "execution_count": 102,
   "id": "7b9ea1d2-8600-4363-98a3-b93b2371809e",
   "metadata": {},
   "outputs": [
    {
     "data": {
      "text/plain": [
       "20090"
      ]
     },
     "execution_count": 102,
     "metadata": {},
     "output_type": "execute_result"
    }
   ],
   "source": [
    "len(tweets_media_data)"
   ]
  },
  {
   "cell_type": "code",
   "execution_count": 103,
   "id": "0d333b92-7b17-4593-a98d-98bab1027b73",
   "metadata": {},
   "outputs": [],
   "source": [
    "df_tweets_media = pd.DataFrame(tweets_media_data)"
   ]
  },
  {
   "cell_type": "code",
   "execution_count": 104,
   "id": "785c7523-a9d5-4d91-b482-e23b1c498be6",
   "metadata": {},
   "outputs": [
    {
     "data": {
      "text/html": [
       "<div>\n",
       "<style scoped>\n",
       "    .dataframe tbody tr th:only-of-type {\n",
       "        vertical-align: middle;\n",
       "    }\n",
       "\n",
       "    .dataframe tbody tr th {\n",
       "        vertical-align: top;\n",
       "    }\n",
       "\n",
       "    .dataframe thead th {\n",
       "        text-align: right;\n",
       "    }\n",
       "</style>\n",
       "<table border=\"1\" class=\"dataframe\">\n",
       "  <thead>\n",
       "    <tr style=\"text-align: right;\">\n",
       "      <th></th>\n",
       "      <th>tweet_id</th>\n",
       "      <th>media_keys</th>\n",
       "      <th>media_keys_count</th>\n",
       "      <th>media_types</th>\n",
       "      <th>images_count</th>\n",
       "      <th>videos_count</th>\n",
       "      <th>media_urls</th>\n",
       "    </tr>\n",
       "  </thead>\n",
       "  <tbody>\n",
       "    <tr>\n",
       "      <th>18840</th>\n",
       "      <td>1571484720893935616</td>\n",
       "      <td>[3_1571484716846485504]</td>\n",
       "      <td>1</td>\n",
       "      <td>[photo]</td>\n",
       "      <td>1</td>\n",
       "      <td>0</td>\n",
       "      <td>[https://pbs.twimg.com/media/Fc8JBh2XEAA_gZX.jpg]</td>\n",
       "    </tr>\n",
       "    <tr>\n",
       "      <th>6909</th>\n",
       "      <td>1644765753806053376</td>\n",
       "      <td>[13_1644765712085295105]</td>\n",
       "      <td>1</td>\n",
       "      <td>[video]</td>\n",
       "      <td>0</td>\n",
       "      <td>1</td>\n",
       "      <td>[]</td>\n",
       "    </tr>\n",
       "    <tr>\n",
       "      <th>1802</th>\n",
       "      <td>1681626633982156801</td>\n",
       "      <td>[7_1681626561143873536]</td>\n",
       "      <td>1</td>\n",
       "      <td>[video]</td>\n",
       "      <td>0</td>\n",
       "      <td>1</td>\n",
       "      <td>[]</td>\n",
       "    </tr>\n",
       "    <tr>\n",
       "      <th>16996</th>\n",
       "      <td>1578753883320758272</td>\n",
       "      <td>[7_1578753832552890368]</td>\n",
       "      <td>1</td>\n",
       "      <td>[video]</td>\n",
       "      <td>0</td>\n",
       "      <td>1</td>\n",
       "      <td>[]</td>\n",
       "    </tr>\n",
       "    <tr>\n",
       "      <th>15802</th>\n",
       "      <td>1586424522663596032</td>\n",
       "      <td>[7_1586424495484665856]</td>\n",
       "      <td>1</td>\n",
       "      <td>[video]</td>\n",
       "      <td>0</td>\n",
       "      <td>1</td>\n",
       "      <td>[]</td>\n",
       "    </tr>\n",
       "    <tr>\n",
       "      <th>17198</th>\n",
       "      <td>591994006810152961</td>\n",
       "      <td>[3_591993979811553280]</td>\n",
       "      <td>1</td>\n",
       "      <td>[photo]</td>\n",
       "      <td>1</td>\n",
       "      <td>0</td>\n",
       "      <td>[https://pbs.twimg.com/media/CDcvY1vWYAAS_rb.jpg]</td>\n",
       "    </tr>\n",
       "    <tr>\n",
       "      <th>19984</th>\n",
       "      <td>1557292910122569728</td>\n",
       "      <td>[3_1557292908356800513]</td>\n",
       "      <td>1</td>\n",
       "      <td>[photo]</td>\n",
       "      <td>1</td>\n",
       "      <td>0</td>\n",
       "      <td>[https://pbs.twimg.com/media/FZydpjXXkAE4V42.jpg]</td>\n",
       "    </tr>\n",
       "    <tr>\n",
       "      <th>10517</th>\n",
       "      <td>663076756866400256</td>\n",
       "      <td>[3_663076709781086211, 3_663076709982461952]</td>\n",
       "      <td>2</td>\n",
       "      <td>[photo, photo]</td>\n",
       "      <td>2</td>\n",
       "      <td>0</td>\n",
       "      <td>[https://pbs.twimg.com/media/CTO4wSFWIAMf9iK.jpg, https://pbs.twimg.com/media/CTO4wS1W4AA7WOC.jpg]</td>\n",
       "    </tr>\n",
       "    <tr>\n",
       "      <th>18656</th>\n",
       "      <td>509598791456935936</td>\n",
       "      <td>[]</td>\n",
       "      <td>0</td>\n",
       "      <td>[]</td>\n",
       "      <td>0</td>\n",
       "      <td>0</td>\n",
       "      <td>[]</td>\n",
       "    </tr>\n",
       "    <tr>\n",
       "      <th>4606</th>\n",
       "      <td>791754890141769728</td>\n",
       "      <td>[]</td>\n",
       "      <td>0</td>\n",
       "      <td>[]</td>\n",
       "      <td>0</td>\n",
       "      <td>0</td>\n",
       "      <td>[]</td>\n",
       "    </tr>\n",
       "  </tbody>\n",
       "</table>\n",
       "</div>"
      ],
      "text/plain": [
       "                  tweet_id                                    media_keys  \\\n",
       "18840  1571484720893935616                       [3_1571484716846485504]   \n",
       "6909   1644765753806053376                      [13_1644765712085295105]   \n",
       "1802   1681626633982156801                       [7_1681626561143873536]   \n",
       "16996  1578753883320758272                       [7_1578753832552890368]   \n",
       "15802  1586424522663596032                       [7_1586424495484665856]   \n",
       "17198   591994006810152961                        [3_591993979811553280]   \n",
       "19984  1557292910122569728                       [3_1557292908356800513]   \n",
       "10517   663076756866400256  [3_663076709781086211, 3_663076709982461952]   \n",
       "18656   509598791456935936                                            []   \n",
       "4606    791754890141769728                                            []   \n",
       "\n",
       "       media_keys_count     media_types  images_count  videos_count  \\\n",
       "18840                 1         [photo]             1             0   \n",
       "6909                  1         [video]             0             1   \n",
       "1802                  1         [video]             0             1   \n",
       "16996                 1         [video]             0             1   \n",
       "15802                 1         [video]             0             1   \n",
       "17198                 1         [photo]             1             0   \n",
       "19984                 1         [photo]             1             0   \n",
       "10517                 2  [photo, photo]             2             0   \n",
       "18656                 0              []             0             0   \n",
       "4606                  0              []             0             0   \n",
       "\n",
       "                                                                                               media_urls  \n",
       "18840                                                   [https://pbs.twimg.com/media/Fc8JBh2XEAA_gZX.jpg]  \n",
       "6909                                                                                                   []  \n",
       "1802                                                                                                   []  \n",
       "16996                                                                                                  []  \n",
       "15802                                                                                                  []  \n",
       "17198                                                   [https://pbs.twimg.com/media/CDcvY1vWYAAS_rb.jpg]  \n",
       "19984                                                   [https://pbs.twimg.com/media/FZydpjXXkAE4V42.jpg]  \n",
       "10517  [https://pbs.twimg.com/media/CTO4wSFWIAMf9iK.jpg, https://pbs.twimg.com/media/CTO4wS1W4AA7WOC.jpg]  \n",
       "18656                                                                                                  []  \n",
       "4606                                                                                                   []  "
      ]
     },
     "execution_count": 104,
     "metadata": {},
     "output_type": "execute_result"
    }
   ],
   "source": [
    "df_tweets_media.sample(10)"
   ]
  },
  {
   "cell_type": "code",
   "execution_count": 105,
   "id": "2e19435c-6452-4833-b66e-bac761cc3487",
   "metadata": {},
   "outputs": [
    {
     "data": {
      "text/plain": [
       "(20090, 7)"
      ]
     },
     "execution_count": 105,
     "metadata": {},
     "output_type": "execute_result"
    }
   ],
   "source": [
    "df_tweets_media.shape"
   ]
  },
  {
   "cell_type": "code",
   "execution_count": 106,
   "id": "89c0d723-db6d-4a54-bc9b-d5c7f138ff6a",
   "metadata": {},
   "outputs": [
    {
     "data": {
      "text/plain": [
       "(20084, 66)"
      ]
     },
     "execution_count": 106,
     "metadata": {},
     "output_type": "execute_result"
    }
   ],
   "source": [
    "df.shape"
   ]
  },
  {
   "cell_type": "code",
   "execution_count": 107,
   "id": "3045b6c8-ac25-42a5-9959-7759c6bdcafd",
   "metadata": {},
   "outputs": [],
   "source": [
    "# Change the type of 'tweet_id' from int to str\n",
    "df['tweet_id'] = df['tweet_id'].astype(str)"
   ]
  },
  {
   "cell_type": "code",
   "execution_count": 108,
   "id": "03a5cbfa-9012-4b46-9700-2b1719768783",
   "metadata": {},
   "outputs": [],
   "source": [
    "# Change the type of 'tweet_id' from int to str\n",
    "df_tweets_media['tweet_id'] = df_tweets_media['tweet_id'].astype(str)"
   ]
  },
  {
   "cell_type": "code",
   "execution_count": 109,
   "id": "30c27aba-2591-464d-9b8f-58f0bd51f7b9",
   "metadata": {},
   "outputs": [
    {
     "data": {
      "text/plain": [
       "(20084, 72)"
      ]
     },
     "execution_count": 109,
     "metadata": {},
     "output_type": "execute_result"
    }
   ],
   "source": [
    "df_dataset = pd.merge(df, df_tweets_media, on='tweet_id', how='inner')\n",
    "df_dataset.shape"
   ]
  },
  {
   "cell_type": "code",
   "execution_count": 110,
   "id": "5363fc6b-6dbe-4f18-b723-6144ae9546c9",
   "metadata": {},
   "outputs": [
    {
     "data": {
      "text/plain": [
       "Index(['tweet_id', 'possibly_sensitive', 'retweet_count', 'reply_count',\n",
       "       'like_count', 'quote_count', 'bookmark_count', 'impression_count',\n",
       "       'user_id', 'lang', 'annotations_text', 'annotations_type', 'hashtags',\n",
       "       'mentions', 'urls', 'urls_titles', 'urls_desc', 'context_domain',\n",
       "       'context_domain_desc', 'context_entity', 'context_entity_desc',\n",
       "       'copyright', 'withheld_country_codes', 'created_at', 'edits_remaining',\n",
       "       'is_edit_eligible', 'text', 'reply_settings', 'label',\n",
       "       'user_created_at', 'user_description', 'user_description_urls',\n",
       "       'user_description_hashtags', 'user_description_mentions', 'location',\n",
       "       'protected', 'followers_count', 'following_count', 'tweet_count',\n",
       "       'listed_count', 'user_like_count', 'verified', 'claim_id',\n",
       "       'text_arabic', 'text_length', 'emojis', 'emojis_count',\n",
       "       'emojis_total_count', 'annotations_count', 'organizations',\n",
       "       'organizations_count', 'persons', 'persons_count', 'places',\n",
       "       'places_count', 'products', 'products_count', 'hashtags_count',\n",
       "       'mentions_count', 'user_description_text', 'user_description_emojis',\n",
       "       'user_description_emojis_count', 'user_description_urls_count',\n",
       "       'user_description_hashtags_count', 'user_description_mentions_count',\n",
       "       'urls_count', 'media_keys', 'media_keys_count', 'media_types',\n",
       "       'images_count', 'videos_count', 'media_urls'],\n",
       "      dtype='object')"
      ]
     },
     "execution_count": 110,
     "metadata": {},
     "output_type": "execute_result"
    }
   ],
   "source": [
    "df_dataset.columns"
   ]
  },
  {
   "cell_type": "code",
   "execution_count": 111,
   "id": "0eb48535-9449-4ac9-8ade-c8dab20a6f48",
   "metadata": {},
   "outputs": [],
   "source": [
    "media_features = ['urls', 'urls_titles', 'urls_desc', 'urls_count', 'media_keys', 'media_keys_count',\n",
    "                  'media_types', 'images_count', 'videos_count', 'media_urls', 'label']"
   ]
  },
  {
   "cell_type": "code",
   "execution_count": 112,
   "id": "2fa69212-9a80-4b26-a43c-6823d7453b3c",
   "metadata": {},
   "outputs": [],
   "source": [
    "df_media = df_dataset[media_features]"
   ]
  },
  {
   "cell_type": "code",
   "execution_count": 113,
   "id": "f931e62e-6657-47b0-a01f-91020adbca61",
   "metadata": {},
   "outputs": [],
   "source": [
    "df_media.to_excel('data/05-VERA-ARB_media.xlsx', index=False)"
   ]
  },
  {
   "cell_type": "markdown",
   "id": "ede62a53-4f22-4985-a922-2af4855c1c02",
   "metadata": {},
   "source": [
    "# 5- Spatiotemporal features"
   ]
  },
  {
   "cell_type": "code",
   "execution_count": 114,
   "id": "f2c17d91-743f-482a-aff3-0ed7ed867f40",
   "metadata": {},
   "outputs": [],
   "source": [
    "df_dataset[\"location\"].fillna(\"\", inplace = True)"
   ]
  },
  {
   "cell_type": "code",
   "execution_count": 115,
   "id": "124982b4-5639-4d8b-b93e-65422314b6c8",
   "metadata": {},
   "outputs": [
    {
     "data": {
      "text/plain": [
       "16550     Mansoura 🇪🇬 | Jeddah 🇸🇦\n",
       "19149                            \n",
       "7345                             \n",
       "10984                     Bahrain\n",
       "3847     المملكة العربية السعودية\n",
       "9459      Khobar،ksa,Old Trafford\n",
       "13446                            \n",
       "1756                             \n",
       "19763                   Abu Dhabi\n",
       "147                   Middle East\n",
       "Name: location, dtype: object"
      ]
     },
     "execution_count": 115,
     "metadata": {},
     "output_type": "execute_result"
    }
   ],
   "source": [
    "df_dataset['location'].sample(10)"
   ]
  },
  {
   "cell_type": "code",
   "execution_count": 116,
   "id": "3cf88699-38d9-4602-bfa6-ae5d9b110ce0",
   "metadata": {},
   "outputs": [
    {
     "data": {
      "text/plain": [
       "location\n",
       "                            7400\n",
       "المملكة العربية السعودية     575\n",
       "Kuwait                       324\n",
       "Kingdom of Saudi Arabia      294\n",
       "Iraq                         268\n",
       "دولة الكويت                  264\n",
       "Yemen                        262\n",
       "Cairo, Egypt                 259\n",
       "Egypt                        236\n",
       "Lebanon                      206\n",
       "Name: count, dtype: int64"
      ]
     },
     "execution_count": 116,
     "metadata": {},
     "output_type": "execute_result"
    }
   ],
   "source": [
    "df_dataset['location'].value_counts()[:10]"
   ]
  },
  {
   "cell_type": "code",
   "execution_count": 117,
   "id": "cc3ecd8e-b5e0-4058-885f-9b5dfd2503fe",
   "metadata": {},
   "outputs": [],
   "source": [
    "spatiotemporal_features = ['location', 'created_at', 'user_created_at', 'label']"
   ]
  },
  {
   "cell_type": "code",
   "execution_count": 118,
   "id": "d41c4860-a558-4fb5-889f-e15db005ab7f",
   "metadata": {},
   "outputs": [
    {
     "data": {
      "text/html": [
       "<div>\n",
       "<style scoped>\n",
       "    .dataframe tbody tr th:only-of-type {\n",
       "        vertical-align: middle;\n",
       "    }\n",
       "\n",
       "    .dataframe tbody tr th {\n",
       "        vertical-align: top;\n",
       "    }\n",
       "\n",
       "    .dataframe thead th {\n",
       "        text-align: right;\n",
       "    }\n",
       "</style>\n",
       "<table border=\"1\" class=\"dataframe\">\n",
       "  <thead>\n",
       "    <tr style=\"text-align: right;\">\n",
       "      <th></th>\n",
       "      <th>location</th>\n",
       "      <th>created_at</th>\n",
       "      <th>user_created_at</th>\n",
       "      <th>label</th>\n",
       "    </tr>\n",
       "  </thead>\n",
       "  <tbody>\n",
       "    <tr>\n",
       "      <th>0</th>\n",
       "      <td>مراكش</td>\n",
       "      <td>2023-09-02T12:30:22.000Z</td>\n",
       "      <td>2023-08-06T17:25:40.000Z</td>\n",
       "      <td>1</td>\n",
       "    </tr>\n",
       "    <tr>\n",
       "      <th>1</th>\n",
       "      <td></td>\n",
       "      <td>2023-09-02T11:32:11.000Z</td>\n",
       "      <td>2012-02-14T13:58:41.000Z</td>\n",
       "      <td>1</td>\n",
       "    </tr>\n",
       "    <tr>\n",
       "      <th>2</th>\n",
       "      <td></td>\n",
       "      <td>2023-02-01T16:08:54.000Z</td>\n",
       "      <td>2012-02-14T13:58:41.000Z</td>\n",
       "      <td>1</td>\n",
       "    </tr>\n",
       "    <tr>\n",
       "      <th>3</th>\n",
       "      <td></td>\n",
       "      <td>2022-09-30T23:59:00.000Z</td>\n",
       "      <td>2012-02-14T13:58:41.000Z</td>\n",
       "      <td>1</td>\n",
       "    </tr>\n",
       "    <tr>\n",
       "      <th>4</th>\n",
       "      <td>Leo Messi - New Brunswick</td>\n",
       "      <td>2023-09-01T18:11:10.000Z</td>\n",
       "      <td>2022-09-03T14:14:16.000Z</td>\n",
       "      <td>1</td>\n",
       "    </tr>\n",
       "  </tbody>\n",
       "</table>\n",
       "</div>"
      ],
      "text/plain": [
       "                    location                created_at  \\\n",
       "0                     مراكش   2023-09-02T12:30:22.000Z   \n",
       "1                             2023-09-02T11:32:11.000Z   \n",
       "2                             2023-02-01T16:08:54.000Z   \n",
       "3                             2022-09-30T23:59:00.000Z   \n",
       "4  Leo Messi - New Brunswick  2023-09-01T18:11:10.000Z   \n",
       "\n",
       "            user_created_at  label  \n",
       "0  2023-08-06T17:25:40.000Z      1  \n",
       "1  2012-02-14T13:58:41.000Z      1  \n",
       "2  2012-02-14T13:58:41.000Z      1  \n",
       "3  2012-02-14T13:58:41.000Z      1  \n",
       "4  2022-09-03T14:14:16.000Z      1  "
      ]
     },
     "execution_count": 118,
     "metadata": {},
     "output_type": "execute_result"
    }
   ],
   "source": [
    "df_dataset[spatiotemporal_features].head()"
   ]
  },
  {
   "cell_type": "markdown",
   "id": "b2f81e6f-995c-45ae-9858-ba183e6f6f59",
   "metadata": {
    "tags": []
   },
   "source": [
    "## Summary"
   ]
  },
  {
   "cell_type": "code",
   "execution_count": 119,
   "id": "4b883fa6-c3e4-441a-9620-7a0cd85d0c7e",
   "metadata": {},
   "outputs": [
    {
     "name": "stdout",
     "output_type": "stream",
     "text": [
      "<class 'pandas.core.frame.DataFrame'>\n",
      "RangeIndex: 20084 entries, 0 to 20083\n",
      "Data columns (total 72 columns):\n",
      " #   Column                           Non-Null Count  Dtype \n",
      "---  ------                           --------------  ----- \n",
      " 0   tweet_id                         20084 non-null  object\n",
      " 1   possibly_sensitive               20084 non-null  bool  \n",
      " 2   retweet_count                    20084 non-null  int64 \n",
      " 3   reply_count                      20084 non-null  int64 \n",
      " 4   like_count                       20084 non-null  int64 \n",
      " 5   quote_count                      20084 non-null  int64 \n",
      " 6   bookmark_count                   20084 non-null  int64 \n",
      " 7   impression_count                 20084 non-null  int64 \n",
      " 8   user_id                          20084 non-null  object\n",
      " 9   lang                             20084 non-null  object\n",
      " 10  annotations_text                 20084 non-null  object\n",
      " 11  annotations_type                 20084 non-null  object\n",
      " 12  hashtags                         20084 non-null  object\n",
      " 13  mentions                         20084 non-null  object\n",
      " 14  urls                             20084 non-null  object\n",
      " 15  urls_titles                      20084 non-null  object\n",
      " 16  urls_desc                        20084 non-null  object\n",
      " 17  context_domain                   20084 non-null  object\n",
      " 18  context_domain_desc              20084 non-null  object\n",
      " 19  context_entity                   20084 non-null  object\n",
      " 20  context_entity_desc              20084 non-null  object\n",
      " 21  copyright                        20084 non-null  bool  \n",
      " 22  withheld_country_codes           20084 non-null  object\n",
      " 23  created_at                       20084 non-null  object\n",
      " 24  edits_remaining                  20084 non-null  int64 \n",
      " 25  is_edit_eligible                 20084 non-null  bool  \n",
      " 26  text                             20084 non-null  object\n",
      " 27  reply_settings                   20084 non-null  object\n",
      " 28  label                            20084 non-null  int64 \n",
      " 29  user_created_at                  20084 non-null  object\n",
      " 30  user_description                 20084 non-null  object\n",
      " 31  user_description_urls            20084 non-null  object\n",
      " 32  user_description_hashtags        20084 non-null  object\n",
      " 33  user_description_mentions        20084 non-null  object\n",
      " 34  location                         20084 non-null  object\n",
      " 35  protected                        20084 non-null  bool  \n",
      " 36  followers_count                  20084 non-null  int64 \n",
      " 37  following_count                  20084 non-null  int64 \n",
      " 38  tweet_count                      20084 non-null  int64 \n",
      " 39  listed_count                     20084 non-null  int64 \n",
      " 40  user_like_count                  20084 non-null  int64 \n",
      " 41  verified                         20084 non-null  bool  \n",
      " 42  claim_id                         20084 non-null  int32 \n",
      " 43  text_arabic                      20084 non-null  object\n",
      " 44  text_length                      20084 non-null  int64 \n",
      " 45  emojis                           20084 non-null  object\n",
      " 46  emojis_count                     20084 non-null  object\n",
      " 47  emojis_total_count               20084 non-null  int64 \n",
      " 48  annotations_count                20084 non-null  int64 \n",
      " 49  organizations                    20084 non-null  object\n",
      " 50  organizations_count              20084 non-null  int64 \n",
      " 51  persons                          20084 non-null  object\n",
      " 52  persons_count                    20084 non-null  int64 \n",
      " 53  places                           20084 non-null  object\n",
      " 54  places_count                     20084 non-null  int64 \n",
      " 55  products                         20084 non-null  object\n",
      " 56  products_count                   20084 non-null  int64 \n",
      " 57  hashtags_count                   20084 non-null  int64 \n",
      " 58  mentions_count                   20084 non-null  int64 \n",
      " 59  user_description_text            20084 non-null  object\n",
      " 60  user_description_emojis          20084 non-null  object\n",
      " 61  user_description_emojis_count    20084 non-null  object\n",
      " 62  user_description_urls_count      20084 non-null  int64 \n",
      " 63  user_description_hashtags_count  20084 non-null  int64 \n",
      " 64  user_description_mentions_count  20084 non-null  int64 \n",
      " 65  urls_count                       20084 non-null  int64 \n",
      " 66  media_keys                       20084 non-null  object\n",
      " 67  media_keys_count                 20084 non-null  int64 \n",
      " 68  media_types                      20084 non-null  object\n",
      " 69  images_count                     20084 non-null  int64 \n",
      " 70  videos_count                     20084 non-null  int64 \n",
      " 71  media_urls                       20084 non-null  object\n",
      "dtypes: bool(5), int32(1), int64(29), object(37)\n",
      "memory usage: 10.3+ MB\n"
     ]
    }
   ],
   "source": [
    "df_dataset.info()"
   ]
  },
  {
   "cell_type": "code",
   "execution_count": 120,
   "id": "343d46f5-2b52-4f78-8e74-dd6e181b887b",
   "metadata": {},
   "outputs": [],
   "source": [
    "df_dataset['user_id'] = df_dataset['user_id'].astype(str)"
   ]
  },
  {
   "cell_type": "code",
   "execution_count": 122,
   "id": "8a09637f-4783-42cb-a93a-4f43fd98c89a",
   "metadata": {},
   "outputs": [],
   "source": [
    "df_dataset.to_excel('data/05-VERA-ARB-Cleaned-Dataset.xlsx', index=False)"
   ]
  },
  {
   "cell_type": "code",
   "execution_count": null,
   "id": "8a2da85f-c762-4cb9-866e-e7c6d6058844",
   "metadata": {},
   "outputs": [],
   "source": []
  }
 ],
 "metadata": {
  "kernelspec": {
   "display_name": "Python 3 (ipykernel)",
   "language": "python",
   "name": "python3"
  },
  "language_info": {
   "codemirror_mode": {
    "name": "ipython",
    "version": 3
   },
   "file_extension": ".py",
   "mimetype": "text/x-python",
   "name": "python",
   "nbconvert_exporter": "python",
   "pygments_lexer": "ipython3",
   "version": "3.8.8"
  }
 },
 "nbformat": 4,
 "nbformat_minor": 5
}
